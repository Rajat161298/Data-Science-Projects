{
 "cells": [
  {
   "cell_type": "markdown",
   "metadata": {},
   "source": [
    "### We are trying to predict what variables will be required to converts leads to customers and increase conversion rate from 30% to 80% . There are total 37 predictor variables. This project is for X education which is an online education company."
   ]
  },
  {
   "cell_type": "code",
   "execution_count": null,
   "metadata": {},
   "outputs": [],
   "source": [
    "# Suppressing Warnings\n",
    "# Importing Pandas,NumPy, Seaborn and Matplotlib\n",
    "import warnings\n",
    "warnings.filterwarnings('ignore')\n",
    "import pandas as pd\n",
    "import numpy as np\n",
    "import matplotlib.pyplot as plt\n",
    "import seaborn as sns"
   ]
  },
  {
   "cell_type": "code",
   "execution_count": 2,
   "metadata": {},
   "outputs": [
    {
     "data": {
      "text/html": [
       "<div>\n",
       "<style scoped>\n",
       "    .dataframe tbody tr th:only-of-type {\n",
       "        vertical-align: middle;\n",
       "    }\n",
       "\n",
       "    .dataframe tbody tr th {\n",
       "        vertical-align: top;\n",
       "    }\n",
       "\n",
       "    .dataframe thead th {\n",
       "        text-align: right;\n",
       "    }\n",
       "</style>\n",
       "<table border=\"1\" class=\"dataframe\">\n",
       "  <thead>\n",
       "    <tr style=\"text-align: right;\">\n",
       "      <th></th>\n",
       "      <th>Lead Origin</th>\n",
       "      <th>Lead Source</th>\n",
       "      <th>Do Not Email</th>\n",
       "      <th>Do Not Call</th>\n",
       "      <th>Converted</th>\n",
       "      <th>TotalVisits</th>\n",
       "      <th>Total Time Spent on Website</th>\n",
       "      <th>Page Views Per Visit</th>\n",
       "      <th>Last Activity</th>\n",
       "      <th>Country</th>\n",
       "      <th>...</th>\n",
       "      <th>Get updates on DM Content</th>\n",
       "      <th>Lead Profile</th>\n",
       "      <th>City</th>\n",
       "      <th>Asymmetrique Activity Index</th>\n",
       "      <th>Asymmetrique Profile Index</th>\n",
       "      <th>Asymmetrique Activity Score</th>\n",
       "      <th>Asymmetrique Profile Score</th>\n",
       "      <th>I agree to pay the amount through cheque</th>\n",
       "      <th>A free copy of Mastering The Interview</th>\n",
       "      <th>Last Notable Activity</th>\n",
       "    </tr>\n",
       "    <tr>\n",
       "      <th>Lead Number</th>\n",
       "      <th></th>\n",
       "      <th></th>\n",
       "      <th></th>\n",
       "      <th></th>\n",
       "      <th></th>\n",
       "      <th></th>\n",
       "      <th></th>\n",
       "      <th></th>\n",
       "      <th></th>\n",
       "      <th></th>\n",
       "      <th></th>\n",
       "      <th></th>\n",
       "      <th></th>\n",
       "      <th></th>\n",
       "      <th></th>\n",
       "      <th></th>\n",
       "      <th></th>\n",
       "      <th></th>\n",
       "      <th></th>\n",
       "      <th></th>\n",
       "      <th></th>\n",
       "    </tr>\n",
       "  </thead>\n",
       "  <tbody>\n",
       "    <tr>\n",
       "      <th>660737</th>\n",
       "      <td>API</td>\n",
       "      <td>Olark Chat</td>\n",
       "      <td>No</td>\n",
       "      <td>No</td>\n",
       "      <td>0</td>\n",
       "      <td>0.0</td>\n",
       "      <td>0</td>\n",
       "      <td>0.0</td>\n",
       "      <td>Page Visited on Website</td>\n",
       "      <td>NaN</td>\n",
       "      <td>...</td>\n",
       "      <td>No</td>\n",
       "      <td>Select</td>\n",
       "      <td>Select</td>\n",
       "      <td>02.Medium</td>\n",
       "      <td>02.Medium</td>\n",
       "      <td>15.0</td>\n",
       "      <td>15.0</td>\n",
       "      <td>No</td>\n",
       "      <td>No</td>\n",
       "      <td>Modified</td>\n",
       "    </tr>\n",
       "    <tr>\n",
       "      <th>660728</th>\n",
       "      <td>API</td>\n",
       "      <td>Organic Search</td>\n",
       "      <td>No</td>\n",
       "      <td>No</td>\n",
       "      <td>0</td>\n",
       "      <td>5.0</td>\n",
       "      <td>674</td>\n",
       "      <td>2.5</td>\n",
       "      <td>Email Opened</td>\n",
       "      <td>India</td>\n",
       "      <td>...</td>\n",
       "      <td>No</td>\n",
       "      <td>Select</td>\n",
       "      <td>Select</td>\n",
       "      <td>02.Medium</td>\n",
       "      <td>02.Medium</td>\n",
       "      <td>15.0</td>\n",
       "      <td>15.0</td>\n",
       "      <td>No</td>\n",
       "      <td>No</td>\n",
       "      <td>Email Opened</td>\n",
       "    </tr>\n",
       "    <tr>\n",
       "      <th>660727</th>\n",
       "      <td>Landing Page Submission</td>\n",
       "      <td>Direct Traffic</td>\n",
       "      <td>No</td>\n",
       "      <td>No</td>\n",
       "      <td>1</td>\n",
       "      <td>2.0</td>\n",
       "      <td>1532</td>\n",
       "      <td>2.0</td>\n",
       "      <td>Email Opened</td>\n",
       "      <td>India</td>\n",
       "      <td>...</td>\n",
       "      <td>No</td>\n",
       "      <td>Potential Lead</td>\n",
       "      <td>Mumbai</td>\n",
       "      <td>02.Medium</td>\n",
       "      <td>01.High</td>\n",
       "      <td>14.0</td>\n",
       "      <td>20.0</td>\n",
       "      <td>No</td>\n",
       "      <td>Yes</td>\n",
       "      <td>Email Opened</td>\n",
       "    </tr>\n",
       "    <tr>\n",
       "      <th>660719</th>\n",
       "      <td>Landing Page Submission</td>\n",
       "      <td>Direct Traffic</td>\n",
       "      <td>No</td>\n",
       "      <td>No</td>\n",
       "      <td>0</td>\n",
       "      <td>1.0</td>\n",
       "      <td>305</td>\n",
       "      <td>1.0</td>\n",
       "      <td>Unreachable</td>\n",
       "      <td>India</td>\n",
       "      <td>...</td>\n",
       "      <td>No</td>\n",
       "      <td>Select</td>\n",
       "      <td>Mumbai</td>\n",
       "      <td>02.Medium</td>\n",
       "      <td>01.High</td>\n",
       "      <td>13.0</td>\n",
       "      <td>17.0</td>\n",
       "      <td>No</td>\n",
       "      <td>No</td>\n",
       "      <td>Modified</td>\n",
       "    </tr>\n",
       "    <tr>\n",
       "      <th>660681</th>\n",
       "      <td>Landing Page Submission</td>\n",
       "      <td>Google</td>\n",
       "      <td>No</td>\n",
       "      <td>No</td>\n",
       "      <td>1</td>\n",
       "      <td>2.0</td>\n",
       "      <td>1428</td>\n",
       "      <td>1.0</td>\n",
       "      <td>Converted to Lead</td>\n",
       "      <td>India</td>\n",
       "      <td>...</td>\n",
       "      <td>No</td>\n",
       "      <td>Select</td>\n",
       "      <td>Mumbai</td>\n",
       "      <td>02.Medium</td>\n",
       "      <td>01.High</td>\n",
       "      <td>15.0</td>\n",
       "      <td>18.0</td>\n",
       "      <td>No</td>\n",
       "      <td>No</td>\n",
       "      <td>Modified</td>\n",
       "    </tr>\n",
       "  </tbody>\n",
       "</table>\n",
       "<p>5 rows × 35 columns</p>\n",
       "</div>"
      ],
      "text/plain": [
       "                         Lead Origin     Lead Source Do Not Email Do Not Call  \\\n",
       "Lead Number                                                                     \n",
       "660737                           API      Olark Chat           No          No   \n",
       "660728                           API  Organic Search           No          No   \n",
       "660727       Landing Page Submission  Direct Traffic           No          No   \n",
       "660719       Landing Page Submission  Direct Traffic           No          No   \n",
       "660681       Landing Page Submission          Google           No          No   \n",
       "\n",
       "             Converted  TotalVisits  Total Time Spent on Website  \\\n",
       "Lead Number                                                        \n",
       "660737               0          0.0                            0   \n",
       "660728               0          5.0                          674   \n",
       "660727               1          2.0                         1532   \n",
       "660719               0          1.0                          305   \n",
       "660681               1          2.0                         1428   \n",
       "\n",
       "             Page Views Per Visit            Last Activity Country  ...  \\\n",
       "Lead Number                                                         ...   \n",
       "660737                        0.0  Page Visited on Website     NaN  ...   \n",
       "660728                        2.5             Email Opened   India  ...   \n",
       "660727                        2.0             Email Opened   India  ...   \n",
       "660719                        1.0              Unreachable   India  ...   \n",
       "660681                        1.0        Converted to Lead   India  ...   \n",
       "\n",
       "            Get updates on DM Content    Lead Profile    City  \\\n",
       "Lead Number                                                     \n",
       "660737                             No          Select  Select   \n",
       "660728                             No          Select  Select   \n",
       "660727                             No  Potential Lead  Mumbai   \n",
       "660719                             No          Select  Mumbai   \n",
       "660681                             No          Select  Mumbai   \n",
       "\n",
       "            Asymmetrique Activity Index Asymmetrique Profile Index  \\\n",
       "Lead Number                                                          \n",
       "660737                        02.Medium                  02.Medium   \n",
       "660728                        02.Medium                  02.Medium   \n",
       "660727                        02.Medium                    01.High   \n",
       "660719                        02.Medium                    01.High   \n",
       "660681                        02.Medium                    01.High   \n",
       "\n",
       "            Asymmetrique Activity Score Asymmetrique Profile Score  \\\n",
       "Lead Number                                                          \n",
       "660737                             15.0                       15.0   \n",
       "660728                             15.0                       15.0   \n",
       "660727                             14.0                       20.0   \n",
       "660719                             13.0                       17.0   \n",
       "660681                             15.0                       18.0   \n",
       "\n",
       "            I agree to pay the amount through cheque  \\\n",
       "Lead Number                                            \n",
       "660737                                            No   \n",
       "660728                                            No   \n",
       "660727                                            No   \n",
       "660719                                            No   \n",
       "660681                                            No   \n",
       "\n",
       "            A free copy of Mastering The Interview Last Notable Activity  \n",
       "Lead Number                                                               \n",
       "660737                                          No              Modified  \n",
       "660728                                          No          Email Opened  \n",
       "660727                                         Yes          Email Opened  \n",
       "660719                                          No              Modified  \n",
       "660681                                          No              Modified  \n",
       "\n",
       "[5 rows x 35 columns]"
      ]
     },
     "execution_count": 2,
     "metadata": {},
     "output_type": "execute_result"
    }
   ],
   "source": [
    "# Importing the dataset\n",
    "lead_data = pd.read_csv('Leads.csv')\n",
    "lead_data.drop(columns = \"Prospect ID\",inplace = True)\n",
    "lead_data.set_index('Lead Number',inplace = True)\n",
    "lead_data.head()"
   ]
  },
  {
   "cell_type": "code",
   "execution_count": 3,
   "metadata": {},
   "outputs": [
    {
     "data": {
      "text/html": [
       "<div>\n",
       "<style scoped>\n",
       "    .dataframe tbody tr th:only-of-type {\n",
       "        vertical-align: middle;\n",
       "    }\n",
       "\n",
       "    .dataframe tbody tr th {\n",
       "        vertical-align: top;\n",
       "    }\n",
       "\n",
       "    .dataframe thead th {\n",
       "        text-align: right;\n",
       "    }\n",
       "</style>\n",
       "<table border=\"1\" class=\"dataframe\">\n",
       "  <thead>\n",
       "    <tr style=\"text-align: right;\">\n",
       "      <th></th>\n",
       "      <th>Converted</th>\n",
       "      <th>TotalVisits</th>\n",
       "      <th>Total Time Spent on Website</th>\n",
       "      <th>Page Views Per Visit</th>\n",
       "      <th>Asymmetrique Activity Score</th>\n",
       "      <th>Asymmetrique Profile Score</th>\n",
       "    </tr>\n",
       "  </thead>\n",
       "  <tbody>\n",
       "    <tr>\n",
       "      <th>count</th>\n",
       "      <td>9240.000000</td>\n",
       "      <td>9103.000000</td>\n",
       "      <td>9240.000000</td>\n",
       "      <td>9103.000000</td>\n",
       "      <td>5022.000000</td>\n",
       "      <td>5022.000000</td>\n",
       "    </tr>\n",
       "    <tr>\n",
       "      <th>mean</th>\n",
       "      <td>0.385390</td>\n",
       "      <td>3.445238</td>\n",
       "      <td>487.698268</td>\n",
       "      <td>2.362820</td>\n",
       "      <td>14.306252</td>\n",
       "      <td>16.344883</td>\n",
       "    </tr>\n",
       "    <tr>\n",
       "      <th>std</th>\n",
       "      <td>0.486714</td>\n",
       "      <td>4.854853</td>\n",
       "      <td>548.021466</td>\n",
       "      <td>2.161418</td>\n",
       "      <td>1.386694</td>\n",
       "      <td>1.811395</td>\n",
       "    </tr>\n",
       "    <tr>\n",
       "      <th>min</th>\n",
       "      <td>0.000000</td>\n",
       "      <td>0.000000</td>\n",
       "      <td>0.000000</td>\n",
       "      <td>0.000000</td>\n",
       "      <td>7.000000</td>\n",
       "      <td>11.000000</td>\n",
       "    </tr>\n",
       "    <tr>\n",
       "      <th>25%</th>\n",
       "      <td>0.000000</td>\n",
       "      <td>1.000000</td>\n",
       "      <td>12.000000</td>\n",
       "      <td>1.000000</td>\n",
       "      <td>14.000000</td>\n",
       "      <td>15.000000</td>\n",
       "    </tr>\n",
       "    <tr>\n",
       "      <th>50%</th>\n",
       "      <td>0.000000</td>\n",
       "      <td>3.000000</td>\n",
       "      <td>248.000000</td>\n",
       "      <td>2.000000</td>\n",
       "      <td>14.000000</td>\n",
       "      <td>16.000000</td>\n",
       "    </tr>\n",
       "    <tr>\n",
       "      <th>75%</th>\n",
       "      <td>1.000000</td>\n",
       "      <td>5.000000</td>\n",
       "      <td>936.000000</td>\n",
       "      <td>3.000000</td>\n",
       "      <td>15.000000</td>\n",
       "      <td>18.000000</td>\n",
       "    </tr>\n",
       "    <tr>\n",
       "      <th>max</th>\n",
       "      <td>1.000000</td>\n",
       "      <td>251.000000</td>\n",
       "      <td>2272.000000</td>\n",
       "      <td>55.000000</td>\n",
       "      <td>18.000000</td>\n",
       "      <td>20.000000</td>\n",
       "    </tr>\n",
       "  </tbody>\n",
       "</table>\n",
       "</div>"
      ],
      "text/plain": [
       "         Converted  TotalVisits  Total Time Spent on Website  \\\n",
       "count  9240.000000  9103.000000                  9240.000000   \n",
       "mean      0.385390     3.445238                   487.698268   \n",
       "std       0.486714     4.854853                   548.021466   \n",
       "min       0.000000     0.000000                     0.000000   \n",
       "25%       0.000000     1.000000                    12.000000   \n",
       "50%       0.000000     3.000000                   248.000000   \n",
       "75%       1.000000     5.000000                   936.000000   \n",
       "max       1.000000   251.000000                  2272.000000   \n",
       "\n",
       "       Page Views Per Visit  Asymmetrique Activity Score  \\\n",
       "count           9103.000000                  5022.000000   \n",
       "mean               2.362820                    14.306252   \n",
       "std                2.161418                     1.386694   \n",
       "min                0.000000                     7.000000   \n",
       "25%                1.000000                    14.000000   \n",
       "50%                2.000000                    14.000000   \n",
       "75%                3.000000                    15.000000   \n",
       "max               55.000000                    18.000000   \n",
       "\n",
       "       Asymmetrique Profile Score  \n",
       "count                 5022.000000  \n",
       "mean                    16.344883  \n",
       "std                      1.811395  \n",
       "min                     11.000000  \n",
       "25%                     15.000000  \n",
       "50%                     16.000000  \n",
       "75%                     18.000000  \n",
       "max                     20.000000  "
      ]
     },
     "execution_count": 3,
     "metadata": {},
     "output_type": "execute_result"
    }
   ],
   "source": [
    "# let's look at the statistical aspects of the dataframe\n",
    "lead_data.describe()"
   ]
  },
  {
   "cell_type": "code",
   "execution_count": 4,
   "metadata": {},
   "outputs": [
    {
     "name": "stdout",
     "output_type": "stream",
     "text": [
      "<class 'pandas.core.frame.DataFrame'>\n",
      "Int64Index: 9240 entries, 660737 to 579533\n",
      "Data columns (total 35 columns):\n",
      "Lead Origin                                      9240 non-null object\n",
      "Lead Source                                      9204 non-null object\n",
      "Do Not Email                                     9240 non-null object\n",
      "Do Not Call                                      9240 non-null object\n",
      "Converted                                        9240 non-null int64\n",
      "TotalVisits                                      9103 non-null float64\n",
      "Total Time Spent on Website                      9240 non-null int64\n",
      "Page Views Per Visit                             9103 non-null float64\n",
      "Last Activity                                    9137 non-null object\n",
      "Country                                          6779 non-null object\n",
      "Specialization                                   7802 non-null object\n",
      "How did you hear about X Education               7033 non-null object\n",
      "What is your current occupation                  6550 non-null object\n",
      "What matters most to you in choosing a course    6531 non-null object\n",
      "Search                                           9240 non-null object\n",
      "Magazine                                         9240 non-null object\n",
      "Newspaper Article                                9240 non-null object\n",
      "X Education Forums                               9240 non-null object\n",
      "Newspaper                                        9240 non-null object\n",
      "Digital Advertisement                            9240 non-null object\n",
      "Through Recommendations                          9240 non-null object\n",
      "Receive More Updates About Our Courses           9240 non-null object\n",
      "Tags                                             5887 non-null object\n",
      "Lead Quality                                     4473 non-null object\n",
      "Update me on Supply Chain Content                9240 non-null object\n",
      "Get updates on DM Content                        9240 non-null object\n",
      "Lead Profile                                     6531 non-null object\n",
      "City                                             7820 non-null object\n",
      "Asymmetrique Activity Index                      5022 non-null object\n",
      "Asymmetrique Profile Index                       5022 non-null object\n",
      "Asymmetrique Activity Score                      5022 non-null float64\n",
      "Asymmetrique Profile Score                       5022 non-null float64\n",
      "I agree to pay the amount through cheque         9240 non-null object\n",
      "A free copy of Mastering The Interview           9240 non-null object\n",
      "Last Notable Activity                            9240 non-null object\n",
      "dtypes: float64(4), int64(2), object(29)\n",
      "memory usage: 1.5+ MB\n"
     ]
    }
   ],
   "source": [
    "# Let's see the type of each column\n",
    "lead_data.info()"
   ]
  },
  {
   "cell_type": "code",
   "execution_count": 5,
   "metadata": {},
   "outputs": [],
   "source": [
    "#Let's change Asymmetrique Activity Index and Asymmetrique Profile Index to numerical value (High=2,Medium=1,Low=0)\n",
    "change1 = lead_data['Asymmetrique Activity Index'].str.split('.',expand = True)\n",
    "change2 = lead_data['Asymmetrique Profile Index'].str.split('.',expand= True)\n",
    "lead_data['Asymmetrique Activity Index'] = change1[0]\n",
    "lead_data['Asymmetrique Profile Index'] = change2[0]\n",
    "lead_data[[\"Asymmetrique Activity Index\", \"Asymmetrique Profile Index\"]] = lead_data[[\"Asymmetrique Activity Index\", \"Asymmetrique Profile Index\"]].apply(pd.to_numeric)\n"
   ]
  },
  {
   "cell_type": "code",
   "execution_count": 6,
   "metadata": {},
   "outputs": [
    {
     "data": {
      "text/html": [
       "<div>\n",
       "<style scoped>\n",
       "    .dataframe tbody tr th:only-of-type {\n",
       "        vertical-align: middle;\n",
       "    }\n",
       "\n",
       "    .dataframe tbody tr th {\n",
       "        vertical-align: top;\n",
       "    }\n",
       "\n",
       "    .dataframe thead th {\n",
       "        text-align: right;\n",
       "    }\n",
       "</style>\n",
       "<table border=\"1\" class=\"dataframe\">\n",
       "  <thead>\n",
       "    <tr style=\"text-align: right;\">\n",
       "      <th></th>\n",
       "      <th>Converted</th>\n",
       "      <th>TotalVisits</th>\n",
       "      <th>Total Time Spent on Website</th>\n",
       "      <th>Page Views Per Visit</th>\n",
       "      <th>Asymmetrique Activity Index</th>\n",
       "      <th>Asymmetrique Profile Index</th>\n",
       "      <th>Asymmetrique Activity Score</th>\n",
       "      <th>Asymmetrique Profile Score</th>\n",
       "    </tr>\n",
       "  </thead>\n",
       "  <tbody>\n",
       "    <tr>\n",
       "      <th>count</th>\n",
       "      <td>9240.000000</td>\n",
       "      <td>9103.000000</td>\n",
       "      <td>9240.000000</td>\n",
       "      <td>9103.000000</td>\n",
       "      <td>5022.000000</td>\n",
       "      <td>5022.000000</td>\n",
       "      <td>5022.000000</td>\n",
       "      <td>5022.000000</td>\n",
       "    </tr>\n",
       "    <tr>\n",
       "      <th>mean</th>\n",
       "      <td>0.385390</td>\n",
       "      <td>3.445238</td>\n",
       "      <td>487.698268</td>\n",
       "      <td>2.362820</td>\n",
       "      <td>1.908602</td>\n",
       "      <td>1.567503</td>\n",
       "      <td>14.306252</td>\n",
       "      <td>16.344883</td>\n",
       "    </tr>\n",
       "    <tr>\n",
       "      <th>std</th>\n",
       "      <td>0.486714</td>\n",
       "      <td>4.854853</td>\n",
       "      <td>548.021466</td>\n",
       "      <td>2.161418</td>\n",
       "      <td>0.476713</td>\n",
       "      <td>0.507780</td>\n",
       "      <td>1.386694</td>\n",
       "      <td>1.811395</td>\n",
       "    </tr>\n",
       "    <tr>\n",
       "      <th>min</th>\n",
       "      <td>0.000000</td>\n",
       "      <td>0.000000</td>\n",
       "      <td>0.000000</td>\n",
       "      <td>0.000000</td>\n",
       "      <td>1.000000</td>\n",
       "      <td>1.000000</td>\n",
       "      <td>7.000000</td>\n",
       "      <td>11.000000</td>\n",
       "    </tr>\n",
       "    <tr>\n",
       "      <th>25%</th>\n",
       "      <td>0.000000</td>\n",
       "      <td>1.000000</td>\n",
       "      <td>12.000000</td>\n",
       "      <td>1.000000</td>\n",
       "      <td>2.000000</td>\n",
       "      <td>1.000000</td>\n",
       "      <td>14.000000</td>\n",
       "      <td>15.000000</td>\n",
       "    </tr>\n",
       "    <tr>\n",
       "      <th>50%</th>\n",
       "      <td>0.000000</td>\n",
       "      <td>3.000000</td>\n",
       "      <td>248.000000</td>\n",
       "      <td>2.000000</td>\n",
       "      <td>2.000000</td>\n",
       "      <td>2.000000</td>\n",
       "      <td>14.000000</td>\n",
       "      <td>16.000000</td>\n",
       "    </tr>\n",
       "    <tr>\n",
       "      <th>75%</th>\n",
       "      <td>1.000000</td>\n",
       "      <td>5.000000</td>\n",
       "      <td>936.000000</td>\n",
       "      <td>3.000000</td>\n",
       "      <td>2.000000</td>\n",
       "      <td>2.000000</td>\n",
       "      <td>15.000000</td>\n",
       "      <td>18.000000</td>\n",
       "    </tr>\n",
       "    <tr>\n",
       "      <th>max</th>\n",
       "      <td>1.000000</td>\n",
       "      <td>251.000000</td>\n",
       "      <td>2272.000000</td>\n",
       "      <td>55.000000</td>\n",
       "      <td>3.000000</td>\n",
       "      <td>3.000000</td>\n",
       "      <td>18.000000</td>\n",
       "      <td>20.000000</td>\n",
       "    </tr>\n",
       "  </tbody>\n",
       "</table>\n",
       "</div>"
      ],
      "text/plain": [
       "         Converted  TotalVisits  Total Time Spent on Website  \\\n",
       "count  9240.000000  9103.000000                  9240.000000   \n",
       "mean      0.385390     3.445238                   487.698268   \n",
       "std       0.486714     4.854853                   548.021466   \n",
       "min       0.000000     0.000000                     0.000000   \n",
       "25%       0.000000     1.000000                    12.000000   \n",
       "50%       0.000000     3.000000                   248.000000   \n",
       "75%       1.000000     5.000000                   936.000000   \n",
       "max       1.000000   251.000000                  2272.000000   \n",
       "\n",
       "       Page Views Per Visit  Asymmetrique Activity Index  \\\n",
       "count           9103.000000                  5022.000000   \n",
       "mean               2.362820                     1.908602   \n",
       "std                2.161418                     0.476713   \n",
       "min                0.000000                     1.000000   \n",
       "25%                1.000000                     2.000000   \n",
       "50%                2.000000                     2.000000   \n",
       "75%                3.000000                     2.000000   \n",
       "max               55.000000                     3.000000   \n",
       "\n",
       "       Asymmetrique Profile Index  Asymmetrique Activity Score  \\\n",
       "count                 5022.000000                  5022.000000   \n",
       "mean                     1.567503                    14.306252   \n",
       "std                      0.507780                     1.386694   \n",
       "min                      1.000000                     7.000000   \n",
       "25%                      1.000000                    14.000000   \n",
       "50%                      2.000000                    14.000000   \n",
       "75%                      2.000000                    15.000000   \n",
       "max                      3.000000                    18.000000   \n",
       "\n",
       "       Asymmetrique Profile Score  \n",
       "count                 5022.000000  \n",
       "mean                    16.344883  \n",
       "std                      1.811395  \n",
       "min                     11.000000  \n",
       "25%                     15.000000  \n",
       "50%                     16.000000  \n",
       "75%                     18.000000  \n",
       "max                     20.000000  "
      ]
     },
     "execution_count": 6,
     "metadata": {},
     "output_type": "execute_result"
    }
   ],
   "source": [
    "# Let's see the statistical aspect of continuous columns\n",
    "lead_data.describe()"
   ]
  },
  {
   "cell_type": "code",
   "execution_count": 7,
   "metadata": {},
   "outputs": [],
   "source": [
    "#Let's impute NULL values with value at 50% percentile\n",
    "lead_data['Asymmetrique Activity Index'].fillna(value = 2 ,inplace = True)\n",
    "lead_data['Asymmetrique Profile Index'].fillna(value = 2 ,inplace =True)\n",
    "lead_data['Asymmetrique Activity Score'].fillna(value = 14 ,inplace =True)\n",
    "lead_data['Asymmetrique Profile Score'].fillna(value = 16 ,inplace =True)\n",
    "\n"
   ]
  },
  {
   "cell_type": "code",
   "execution_count": 8,
   "metadata": {},
   "outputs": [
    {
     "name": "stdout",
     "output_type": "stream",
     "text": [
      "<class 'pandas.core.frame.DataFrame'>\n",
      "Int64Index: 9240 entries, 660737 to 579533\n",
      "Data columns (total 35 columns):\n",
      "Lead Origin                                      9240 non-null object\n",
      "Lead Source                                      9204 non-null object\n",
      "Do Not Email                                     9240 non-null object\n",
      "Do Not Call                                      9240 non-null object\n",
      "Converted                                        9240 non-null int64\n",
      "TotalVisits                                      9103 non-null float64\n",
      "Total Time Spent on Website                      9240 non-null int64\n",
      "Page Views Per Visit                             9103 non-null float64\n",
      "Last Activity                                    9137 non-null object\n",
      "Country                                          6779 non-null object\n",
      "Specialization                                   7802 non-null object\n",
      "How did you hear about X Education               7033 non-null object\n",
      "What is your current occupation                  6550 non-null object\n",
      "What matters most to you in choosing a course    6531 non-null object\n",
      "Search                                           9240 non-null object\n",
      "Magazine                                         9240 non-null object\n",
      "Newspaper Article                                9240 non-null object\n",
      "X Education Forums                               9240 non-null object\n",
      "Newspaper                                        9240 non-null object\n",
      "Digital Advertisement                            9240 non-null object\n",
      "Through Recommendations                          9240 non-null object\n",
      "Receive More Updates About Our Courses           9240 non-null object\n",
      "Tags                                             5887 non-null object\n",
      "Lead Quality                                     4473 non-null object\n",
      "Update me on Supply Chain Content                9240 non-null object\n",
      "Get updates on DM Content                        9240 non-null object\n",
      "Lead Profile                                     6531 non-null object\n",
      "City                                             7820 non-null object\n",
      "Asymmetrique Activity Index                      9240 non-null float64\n",
      "Asymmetrique Profile Index                       9240 non-null float64\n",
      "Asymmetrique Activity Score                      9240 non-null float64\n",
      "Asymmetrique Profile Score                       9240 non-null float64\n",
      "I agree to pay the amount through cheque         9240 non-null object\n",
      "A free copy of Mastering The Interview           9240 non-null object\n",
      "Last Notable Activity                            9240 non-null object\n",
      "dtypes: float64(6), int64(2), object(27)\n",
      "memory usage: 1.6+ MB\n"
     ]
    }
   ],
   "source": [
    "#Again checking type of each column\n",
    "lead_data.info()"
   ]
  },
  {
   "cell_type": "code",
   "execution_count": 9,
   "metadata": {},
   "outputs": [],
   "source": [
    "#Impute NULL values of Country False\n",
    "lead_data['Country'].fillna(value = False,inplace = True)"
   ]
  },
  {
   "cell_type": "code",
   "execution_count": 10,
   "metadata": {},
   "outputs": [],
   "source": [
    "#Keep only those values which are not false in the dataframe\n",
    "lead_data = lead_data[(lead_data['Country'] != False)]"
   ]
  },
  {
   "cell_type": "code",
   "execution_count": 11,
   "metadata": {},
   "outputs": [
    {
     "name": "stdout",
     "output_type": "stream",
     "text": [
      "<class 'pandas.core.frame.DataFrame'>\n",
      "Int64Index: 6779 entries, 660728 to 579533\n",
      "Data columns (total 35 columns):\n",
      "Lead Origin                                      6779 non-null object\n",
      "Lead Source                                      6778 non-null object\n",
      "Do Not Email                                     6779 non-null object\n",
      "Do Not Call                                      6779 non-null object\n",
      "Converted                                        6779 non-null int64\n",
      "TotalVisits                                      6779 non-null float64\n",
      "Total Time Spent on Website                      6779 non-null int64\n",
      "Page Views Per Visit                             6779 non-null float64\n",
      "Last Activity                                    6779 non-null object\n",
      "Country                                          6779 non-null object\n",
      "Specialization                                   6187 non-null object\n",
      "How did you hear about X Education               5427 non-null object\n",
      "What is your current occupation                  4945 non-null object\n",
      "What matters most to you in choosing a course    4926 non-null object\n",
      "Search                                           6779 non-null object\n",
      "Magazine                                         6779 non-null object\n",
      "Newspaper Article                                6779 non-null object\n",
      "X Education Forums                               6779 non-null object\n",
      "Newspaper                                        6779 non-null object\n",
      "Digital Advertisement                            6779 non-null object\n",
      "Through Recommendations                          6779 non-null object\n",
      "Receive More Updates About Our Courses           6779 non-null object\n",
      "Tags                                             4605 non-null object\n",
      "Lead Quality                                     3496 non-null object\n",
      "Update me on Supply Chain Content                6779 non-null object\n",
      "Get updates on DM Content                        6779 non-null object\n",
      "Lead Profile                                     4926 non-null object\n",
      "City                                             6197 non-null object\n",
      "Asymmetrique Activity Index                      6779 non-null float64\n",
      "Asymmetrique Profile Index                       6779 non-null float64\n",
      "Asymmetrique Activity Score                      6779 non-null float64\n",
      "Asymmetrique Profile Score                       6779 non-null float64\n",
      "I agree to pay the amount through cheque         6779 non-null object\n",
      "A free copy of Mastering The Interview           6779 non-null object\n",
      "Last Notable Activity                            6779 non-null object\n",
      "dtypes: float64(6), int64(2), object(27)\n",
      "memory usage: 1.2+ MB\n"
     ]
    }
   ],
   "source": [
    "lead_data.info()"
   ]
  },
  {
   "cell_type": "markdown",
   "metadata": {},
   "source": [
    "### Dropping Columns which have ~90% similar values"
   ]
  },
  {
   "cell_type": "code",
   "execution_count": 12,
   "metadata": {},
   "outputs": [],
   "source": [
    "lead_data.drop(columns =['I agree to pay the amount through cheque','Lead Profile','Get updates on DM Content','Update me on Supply Chain Content',\n",
    "                         'Receive More Updates About Our Courses','Magazine','How did you hear about X Education',\n",
    "                        'What matters most to you in choosing a course','What is your current occupation'],inplace = True)"
   ]
  },
  {
   "cell_type": "code",
   "execution_count": 13,
   "metadata": {},
   "outputs": [
    {
     "name": "stdout",
     "output_type": "stream",
     "text": [
      "<class 'pandas.core.frame.DataFrame'>\n",
      "Int64Index: 6779 entries, 660728 to 579533\n",
      "Data columns (total 26 columns):\n",
      "Lead Origin                               6779 non-null object\n",
      "Lead Source                               6778 non-null object\n",
      "Do Not Email                              6779 non-null object\n",
      "Do Not Call                               6779 non-null object\n",
      "Converted                                 6779 non-null int64\n",
      "TotalVisits                               6779 non-null float64\n",
      "Total Time Spent on Website               6779 non-null int64\n",
      "Page Views Per Visit                      6779 non-null float64\n",
      "Last Activity                             6779 non-null object\n",
      "Country                                   6779 non-null object\n",
      "Specialization                            6187 non-null object\n",
      "Search                                    6779 non-null object\n",
      "Newspaper Article                         6779 non-null object\n",
      "X Education Forums                        6779 non-null object\n",
      "Newspaper                                 6779 non-null object\n",
      "Digital Advertisement                     6779 non-null object\n",
      "Through Recommendations                   6779 non-null object\n",
      "Tags                                      4605 non-null object\n",
      "Lead Quality                              3496 non-null object\n",
      "City                                      6197 non-null object\n",
      "Asymmetrique Activity Index               6779 non-null float64\n",
      "Asymmetrique Profile Index                6779 non-null float64\n",
      "Asymmetrique Activity Score               6779 non-null float64\n",
      "Asymmetrique Profile Score                6779 non-null float64\n",
      "A free copy of Mastering The Interview    6779 non-null object\n",
      "Last Notable Activity                     6779 non-null object\n",
      "dtypes: float64(6), int64(2), object(18)\n",
      "memory usage: 953.3+ KB\n"
     ]
    }
   ],
   "source": [
    "lead_data.info()"
   ]
  },
  {
   "cell_type": "code",
   "execution_count": 14,
   "metadata": {},
   "outputs": [],
   "source": [
    "#Imputing Tags and Lead Quality values with most frequent occurences \n",
    "lead_data['Tags'].fillna(value = 'Will revert after reading the email',inplace = True)\n",
    "lead_data['Lead Quality'].fillna(value = 'Not Sure',inplace = True)\n",
    "lead_data.dropna(inplace = True)"
   ]
  },
  {
   "cell_type": "code",
   "execution_count": 15,
   "metadata": {},
   "outputs": [
    {
     "name": "stdout",
     "output_type": "stream",
     "text": [
      "<class 'pandas.core.frame.DataFrame'>\n",
      "Int64Index: 6173 entries, 660728 to 579533\n",
      "Data columns (total 26 columns):\n",
      "Lead Origin                               6173 non-null object\n",
      "Lead Source                               6173 non-null object\n",
      "Do Not Email                              6173 non-null object\n",
      "Do Not Call                               6173 non-null object\n",
      "Converted                                 6173 non-null int64\n",
      "TotalVisits                               6173 non-null float64\n",
      "Total Time Spent on Website               6173 non-null int64\n",
      "Page Views Per Visit                      6173 non-null float64\n",
      "Last Activity                             6173 non-null object\n",
      "Country                                   6173 non-null object\n",
      "Specialization                            6173 non-null object\n",
      "Search                                    6173 non-null object\n",
      "Newspaper Article                         6173 non-null object\n",
      "X Education Forums                        6173 non-null object\n",
      "Newspaper                                 6173 non-null object\n",
      "Digital Advertisement                     6173 non-null object\n",
      "Through Recommendations                   6173 non-null object\n",
      "Tags                                      6173 non-null object\n",
      "Lead Quality                              6173 non-null object\n",
      "City                                      6173 non-null object\n",
      "Asymmetrique Activity Index               6173 non-null float64\n",
      "Asymmetrique Profile Index                6173 non-null float64\n",
      "Asymmetrique Activity Score               6173 non-null float64\n",
      "Asymmetrique Profile Score                6173 non-null float64\n",
      "A free copy of Mastering The Interview    6173 non-null object\n",
      "Last Notable Activity                     6173 non-null object\n",
      "dtypes: float64(6), int64(2), object(18)\n",
      "memory usage: 868.1+ KB\n"
     ]
    }
   ],
   "source": [
    "lead_data.info()"
   ]
  },
  {
   "cell_type": "markdown",
   "metadata": {},
   "source": [
    "### Fit and Transform data by converting all columns into numerical ones."
   ]
  },
  {
   "cell_type": "code",
   "execution_count": 16,
   "metadata": {},
   "outputs": [
    {
     "name": "stdout",
     "output_type": "stream",
     "text": [
      "<class 'pandas.core.frame.DataFrame'>\n",
      "Int64Index: 6173 entries, 660728 to 579533\n",
      "Data columns (total 26 columns):\n",
      "Lead Origin                               6173 non-null int32\n",
      "Lead Source                               6173 non-null int32\n",
      "Do Not Email                              6173 non-null int32\n",
      "Do Not Call                               6173 non-null int32\n",
      "Converted                                 6173 non-null int64\n",
      "TotalVisits                               6173 non-null float64\n",
      "Total Time Spent on Website               6173 non-null int64\n",
      "Page Views Per Visit                      6173 non-null float64\n",
      "Last Activity                             6173 non-null int32\n",
      "Country                                   6173 non-null int32\n",
      "Specialization                            6173 non-null int32\n",
      "Search                                    6173 non-null int32\n",
      "Newspaper Article                         6173 non-null int32\n",
      "X Education Forums                        6173 non-null int32\n",
      "Newspaper                                 6173 non-null int32\n",
      "Digital Advertisement                     6173 non-null int32\n",
      "Through Recommendations                   6173 non-null int32\n",
      "Tags                                      6173 non-null int32\n",
      "Lead Quality                              6173 non-null int32\n",
      "City                                      6173 non-null int32\n",
      "Asymmetrique Activity Index               6173 non-null float64\n",
      "Asymmetrique Profile Index                6173 non-null float64\n",
      "Asymmetrique Activity Score               6173 non-null float64\n",
      "Asymmetrique Profile Score                6173 non-null float64\n",
      "A free copy of Mastering The Interview    6173 non-null int32\n",
      "Last Notable Activity                     6173 non-null int32\n",
      "dtypes: float64(6), int32(18), int64(2)\n",
      "memory usage: 868.1 KB\n"
     ]
    }
   ],
   "source": [
    "from sklearn import preprocessing\n",
    "Label_list = ['Lead Origin','Lead Source','Do Not Email','Do Not Call','Last Activity',\n",
    "           'Country','Specialization','Search','Newspaper Article','X Education Forums',\n",
    "           'Newspaper','Digital Advertisement','Through Recommendations','Tags','Lead Quality','City',\n",
    "             'A free copy of Mastering The Interview','Last Notable Activity']\n",
    "le = preprocessing.LabelEncoder()\n",
    "for n in Label_list:\n",
    "    le.fit(lead_data[n])\n",
    "    lead_data[n] = le.transform(lead_data[n])\n",
    "lead_data.info()"
   ]
  },
  {
   "cell_type": "markdown",
   "metadata": {},
   "source": [
    "### Test-Train Split"
   ]
  },
  {
   "cell_type": "code",
   "execution_count": 17,
   "metadata": {},
   "outputs": [],
   "source": [
    "from sklearn.model_selection import train_test_split\n",
    "y = lead_data['Converted']\n",
    "X = lead_data.drop(columns = ['Converted'])\n"
   ]
  },
  {
   "cell_type": "code",
   "execution_count": 18,
   "metadata": {},
   "outputs": [
    {
     "data": {
      "text/plain": [
       "Lead Number\n",
       "631375    0\n",
       "619066    0\n",
       "596507    0\n",
       "631355    0\n",
       "587471    0\n",
       "Name: Converted, dtype: int64"
      ]
     },
     "execution_count": 18,
     "metadata": {},
     "output_type": "execute_result"
    }
   ],
   "source": [
    "# Splitting the data into train and test\n",
    "X_train, X_test, y_train, y_test = train_test_split(X, y, train_size=0.7, test_size=0.3, random_state=100)\n",
    "y_train.head()\n"
   ]
  },
  {
   "cell_type": "markdown",
   "metadata": {},
   "source": [
    "### Model Building"
   ]
  },
  {
   "cell_type": "code",
   "execution_count": 19,
   "metadata": {},
   "outputs": [],
   "source": [
    "from sklearn.linear_model import LogisticRegression\n",
    "logreg = LogisticRegression()\n",
    "from sklearn.feature_selection import RFE\n",
    "rfe = RFE(logreg, 15)             # running RFE with 15 variables as output\n",
    "rfe = rfe.fit(X_train, y_train)"
   ]
  },
  {
   "cell_type": "markdown",
   "metadata": {},
   "source": [
    "### Feature Selection Using RFE"
   ]
  },
  {
   "cell_type": "code",
   "execution_count": 20,
   "metadata": {},
   "outputs": [
    {
     "data": {
      "text/plain": [
       "array([ True, False,  True,  True, False, False, False,  True, False,\n",
       "       False,  True,  True,  True,  True,  True,  True, False,  True,\n",
       "       False, False,  True,  True,  True, False,  True])"
      ]
     },
     "execution_count": 20,
     "metadata": {},
     "output_type": "execute_result"
    }
   ],
   "source": [
    "rfe.support_"
   ]
  },
  {
   "cell_type": "code",
   "execution_count": 21,
   "metadata": {},
   "outputs": [
    {
     "data": {
      "text/plain": [
       "[('Lead Origin', True, 1),\n",
       " ('Lead Source', False, 10),\n",
       " ('Do Not Email', True, 1),\n",
       " ('Do Not Call', True, 1),\n",
       " ('TotalVisits', False, 9),\n",
       " ('Total Time Spent on Website', False, 11),\n",
       " ('Page Views Per Visit', False, 2),\n",
       " ('Last Activity', True, 1),\n",
       " ('Country', False, 6),\n",
       " ('Specialization', False, 7),\n",
       " ('Search', True, 1),\n",
       " ('Newspaper Article', True, 1),\n",
       " ('X Education Forums', True, 1),\n",
       " ('Newspaper', True, 1),\n",
       " ('Digital Advertisement', True, 1),\n",
       " ('Through Recommendations', True, 1),\n",
       " ('Tags', False, 3),\n",
       " ('Lead Quality', True, 1),\n",
       " ('City', False, 8),\n",
       " ('Asymmetrique Activity Index', False, 5),\n",
       " ('Asymmetrique Profile Index', True, 1),\n",
       " ('Asymmetrique Activity Score', True, 1),\n",
       " ('Asymmetrique Profile Score', True, 1),\n",
       " ('A free copy of Mastering The Interview', False, 4),\n",
       " ('Last Notable Activity', True, 1)]"
      ]
     },
     "execution_count": 21,
     "metadata": {},
     "output_type": "execute_result"
    }
   ],
   "source": [
    "list(zip(X_train.columns, rfe.support_, rfe.ranking_))"
   ]
  },
  {
   "cell_type": "markdown",
   "metadata": {},
   "source": [
    "### Assessing the model with StatsModels"
   ]
  },
  {
   "cell_type": "code",
   "execution_count": 22,
   "metadata": {},
   "outputs": [
    {
     "data": {
      "text/html": [
       "<table class=\"simpletable\">\n",
       "<caption>Generalized Linear Model Regression Results</caption>\n",
       "<tr>\n",
       "  <th>Dep. Variable:</th>       <td>Converted</td>    <th>  No. Observations:  </th>  <td>  4321</td> \n",
       "</tr>\n",
       "<tr>\n",
       "  <th>Model:</th>                  <td>GLM</td>       <th>  Df Residuals:      </th>  <td>  4305</td> \n",
       "</tr>\n",
       "<tr>\n",
       "  <th>Model Family:</th>        <td>Binomial</td>     <th>  Df Model:          </th>  <td>    15</td> \n",
       "</tr>\n",
       "<tr>\n",
       "  <th>Link Function:</th>         <td>logit</td>      <th>  Scale:             </th> <td>  1.0000</td>\n",
       "</tr>\n",
       "<tr>\n",
       "  <th>Method:</th>                <td>IRLS</td>       <th>  Log-Likelihood:    </th> <td> -1857.6</td>\n",
       "</tr>\n",
       "<tr>\n",
       "  <th>Date:</th>            <td>Mon, 26 Aug 2019</td> <th>  Deviance:          </th> <td>  3715.1</td>\n",
       "</tr>\n",
       "<tr>\n",
       "  <th>Time:</th>                <td>15:24:04</td>     <th>  Pearson chi2:      </th> <td>5.56e+03</td>\n",
       "</tr>\n",
       "<tr>\n",
       "  <th>No. Iterations:</th>         <td>21</td>        <th>                     </th>     <td> </td>   \n",
       "</tr>\n",
       "<tr>\n",
       "  <th>Covariance Type:</th>     <td>nonrobust</td>    <th>                     </th>     <td> </td>   \n",
       "</tr>\n",
       "</table>\n",
       "<table class=\"simpletable\">\n",
       "<tr>\n",
       "               <td></td>                  <th>coef</th>     <th>std err</th>      <th>z</th>      <th>P>|z|</th>  <th>[0.025</th>    <th>0.975]</th>  \n",
       "</tr>\n",
       "<tr>\n",
       "  <th>const</th>                       <td>  -11.2810</td> <td>    1.417</td> <td>   -7.962</td> <td> 0.000</td> <td>  -14.058</td> <td>   -8.504</td>\n",
       "</tr>\n",
       "<tr>\n",
       "  <th>Lead Origin</th>                 <td>   -0.2348</td> <td>    0.103</td> <td>   -2.271</td> <td> 0.023</td> <td>   -0.437</td> <td>   -0.032</td>\n",
       "</tr>\n",
       "<tr>\n",
       "  <th>Do Not Email</th>                <td>   -1.8260</td> <td>    0.208</td> <td>   -8.796</td> <td> 0.000</td> <td>   -2.233</td> <td>   -1.419</td>\n",
       "</tr>\n",
       "<tr>\n",
       "  <th>Do Not Call</th>                 <td>   22.9921</td> <td> 4.82e+04</td> <td>    0.000</td> <td> 1.000</td> <td>-9.44e+04</td> <td> 9.45e+04</td>\n",
       "</tr>\n",
       "<tr>\n",
       "  <th>Last Activity</th>               <td>    0.1097</td> <td>    0.020</td> <td>    5.503</td> <td> 0.000</td> <td>    0.071</td> <td>    0.149</td>\n",
       "</tr>\n",
       "<tr>\n",
       "  <th>Search</th>                      <td>   -1.9372</td> <td>    1.308</td> <td>   -1.481</td> <td> 0.138</td> <td>   -4.500</td> <td>    0.626</td>\n",
       "</tr>\n",
       "<tr>\n",
       "  <th>Newspaper Article</th>           <td>   21.8576</td> <td> 4.82e+04</td> <td>    0.000</td> <td> 1.000</td> <td>-9.44e+04</td> <td> 9.45e+04</td>\n",
       "</tr>\n",
       "<tr>\n",
       "  <th>X Education Forums</th>          <td>  -63.6870</td> <td> 7.08e+04</td> <td>   -0.001</td> <td> 0.999</td> <td>-1.39e+05</td> <td> 1.39e+05</td>\n",
       "</tr>\n",
       "<tr>\n",
       "  <th>Newspaper</th>                   <td>  -20.8516</td> <td> 4.82e+04</td> <td>   -0.000</td> <td> 1.000</td> <td>-9.45e+04</td> <td> 9.44e+04</td>\n",
       "</tr>\n",
       "<tr>\n",
       "  <th>Digital Advertisement</th>       <td>   -0.8207</td> <td>    1.277</td> <td>   -0.643</td> <td> 0.520</td> <td>   -3.323</td> <td>    1.682</td>\n",
       "</tr>\n",
       "<tr>\n",
       "  <th>Through Recommendations</th>     <td>   22.8802</td> <td> 1.93e+04</td> <td>    0.001</td> <td> 0.999</td> <td>-3.77e+04</td> <td> 3.78e+04</td>\n",
       "</tr>\n",
       "<tr>\n",
       "  <th>Lead Quality</th>                <td>   -1.7229</td> <td>    0.062</td> <td>  -27.778</td> <td> 0.000</td> <td>   -1.844</td> <td>   -1.601</td>\n",
       "</tr>\n",
       "<tr>\n",
       "  <th>Asymmetrique Profile Index</th>  <td>    0.5176</td> <td>    0.160</td> <td>    3.240</td> <td> 0.001</td> <td>    0.204</td> <td>    0.831</td>\n",
       "</tr>\n",
       "<tr>\n",
       "  <th>Asymmetrique Activity Score</th> <td>    0.7469</td> <td>    0.052</td> <td>   14.339</td> <td> 0.000</td> <td>    0.645</td> <td>    0.849</td>\n",
       "</tr>\n",
       "<tr>\n",
       "  <th>Asymmetrique Profile Score</th>  <td>    0.1640</td> <td>    0.056</td> <td>    2.936</td> <td> 0.003</td> <td>    0.055</td> <td>    0.273</td>\n",
       "</tr>\n",
       "<tr>\n",
       "  <th>Last Notable Activity</th>       <td>    0.0767</td> <td>    0.022</td> <td>    3.463</td> <td> 0.001</td> <td>    0.033</td> <td>    0.120</td>\n",
       "</tr>\n",
       "</table>"
      ],
      "text/plain": [
       "<class 'statsmodels.iolib.summary.Summary'>\n",
       "\"\"\"\n",
       "                 Generalized Linear Model Regression Results                  \n",
       "==============================================================================\n",
       "Dep. Variable:              Converted   No. Observations:                 4321\n",
       "Model:                            GLM   Df Residuals:                     4305\n",
       "Model Family:                Binomial   Df Model:                           15\n",
       "Link Function:                  logit   Scale:                          1.0000\n",
       "Method:                          IRLS   Log-Likelihood:                -1857.6\n",
       "Date:                Mon, 26 Aug 2019   Deviance:                       3715.1\n",
       "Time:                        15:24:04   Pearson chi2:                 5.56e+03\n",
       "No. Iterations:                    21                                         \n",
       "Covariance Type:            nonrobust                                         \n",
       "===============================================================================================\n",
       "                                  coef    std err          z      P>|z|      [0.025      0.975]\n",
       "-----------------------------------------------------------------------------------------------\n",
       "const                         -11.2810      1.417     -7.962      0.000     -14.058      -8.504\n",
       "Lead Origin                    -0.2348      0.103     -2.271      0.023      -0.437      -0.032\n",
       "Do Not Email                   -1.8260      0.208     -8.796      0.000      -2.233      -1.419\n",
       "Do Not Call                    22.9921   4.82e+04      0.000      1.000   -9.44e+04    9.45e+04\n",
       "Last Activity                   0.1097      0.020      5.503      0.000       0.071       0.149\n",
       "Search                         -1.9372      1.308     -1.481      0.138      -4.500       0.626\n",
       "Newspaper Article              21.8576   4.82e+04      0.000      1.000   -9.44e+04    9.45e+04\n",
       "X Education Forums            -63.6870   7.08e+04     -0.001      0.999   -1.39e+05    1.39e+05\n",
       "Newspaper                     -20.8516   4.82e+04     -0.000      1.000   -9.45e+04    9.44e+04\n",
       "Digital Advertisement          -0.8207      1.277     -0.643      0.520      -3.323       1.682\n",
       "Through Recommendations        22.8802   1.93e+04      0.001      0.999   -3.77e+04    3.78e+04\n",
       "Lead Quality                   -1.7229      0.062    -27.778      0.000      -1.844      -1.601\n",
       "Asymmetrique Profile Index      0.5176      0.160      3.240      0.001       0.204       0.831\n",
       "Asymmetrique Activity Score     0.7469      0.052     14.339      0.000       0.645       0.849\n",
       "Asymmetrique Profile Score      0.1640      0.056      2.936      0.003       0.055       0.273\n",
       "Last Notable Activity           0.0767      0.022      3.463      0.001       0.033       0.120\n",
       "===============================================================================================\n",
       "\"\"\""
      ]
     },
     "execution_count": 22,
     "metadata": {},
     "output_type": "execute_result"
    }
   ],
   "source": [
    "col = X_train.columns[rfe.support_]\n",
    "import statsmodels.api as sm\n",
    "X_train_sm = sm.add_constant(X_train[col])\n",
    "logm2 = sm.GLM(y_train,X_train_sm, family = sm.families.Binomial())\n",
    "res = logm2.fit()\n",
    "res.summary()"
   ]
  },
  {
   "cell_type": "code",
   "execution_count": 23,
   "metadata": {},
   "outputs": [
    {
     "data": {
      "text/plain": [
       "Lead Number\n",
       "631375    0.336609\n",
       "619066    0.136269\n",
       "596507    0.087448\n",
       "631355    0.502107\n",
       "587471    0.219936\n",
       "644758    0.835158\n",
       "621360    0.152590\n",
       "646741    0.056525\n",
       "642553    0.032027\n",
       "586022    0.036204\n",
       "dtype: float64"
      ]
     },
     "execution_count": 23,
     "metadata": {},
     "output_type": "execute_result"
    }
   ],
   "source": [
    "# Getting the predicted values on the train set\n",
    "y_train_pred = res.predict(X_train_sm)\n",
    "y_train_pred[:10]"
   ]
  },
  {
   "cell_type": "markdown",
   "metadata": {},
   "source": [
    "### Creating a dataframe with the actual converted flag and the predicted probabilities"
   ]
  },
  {
   "cell_type": "code",
   "execution_count": 24,
   "metadata": {},
   "outputs": [
    {
     "data": {
      "text/html": [
       "<div>\n",
       "<style scoped>\n",
       "    .dataframe tbody tr th:only-of-type {\n",
       "        vertical-align: middle;\n",
       "    }\n",
       "\n",
       "    .dataframe tbody tr th {\n",
       "        vertical-align: top;\n",
       "    }\n",
       "\n",
       "    .dataframe thead th {\n",
       "        text-align: right;\n",
       "    }\n",
       "</style>\n",
       "<table border=\"1\" class=\"dataframe\">\n",
       "  <thead>\n",
       "    <tr style=\"text-align: right;\">\n",
       "      <th></th>\n",
       "      <th>Lead Number</th>\n",
       "      <th>Converted</th>\n",
       "      <th>Conversion_Prob</th>\n",
       "    </tr>\n",
       "  </thead>\n",
       "  <tbody>\n",
       "    <tr>\n",
       "      <th>0</th>\n",
       "      <td>631375</td>\n",
       "      <td>0</td>\n",
       "      <td>0.336609</td>\n",
       "    </tr>\n",
       "    <tr>\n",
       "      <th>1</th>\n",
       "      <td>619066</td>\n",
       "      <td>0</td>\n",
       "      <td>0.136269</td>\n",
       "    </tr>\n",
       "    <tr>\n",
       "      <th>2</th>\n",
       "      <td>596507</td>\n",
       "      <td>0</td>\n",
       "      <td>0.087448</td>\n",
       "    </tr>\n",
       "    <tr>\n",
       "      <th>3</th>\n",
       "      <td>631355</td>\n",
       "      <td>0</td>\n",
       "      <td>0.502107</td>\n",
       "    </tr>\n",
       "    <tr>\n",
       "      <th>4</th>\n",
       "      <td>587471</td>\n",
       "      <td>0</td>\n",
       "      <td>0.219936</td>\n",
       "    </tr>\n",
       "  </tbody>\n",
       "</table>\n",
       "</div>"
      ],
      "text/plain": [
       "   Lead Number  Converted  Conversion_Prob\n",
       "0       631375          0         0.336609\n",
       "1       619066          0         0.136269\n",
       "2       596507          0         0.087448\n",
       "3       631355          0         0.502107\n",
       "4       587471          0         0.219936"
      ]
     },
     "execution_count": 24,
     "metadata": {},
     "output_type": "execute_result"
    }
   ],
   "source": [
    "y_train_pred_final = pd.DataFrame({'Converted':y_train.values, 'Conversion_Prob':y_train_pred})\n",
    "y_train_pred_final.reset_index(inplace = True)\n",
    "y_train_pred_final.head()"
   ]
  },
  {
   "cell_type": "code",
   "execution_count": 25,
   "metadata": {},
   "outputs": [
    {
     "data": {
      "text/html": [
       "<div>\n",
       "<style scoped>\n",
       "    .dataframe tbody tr th:only-of-type {\n",
       "        vertical-align: middle;\n",
       "    }\n",
       "\n",
       "    .dataframe tbody tr th {\n",
       "        vertical-align: top;\n",
       "    }\n",
       "\n",
       "    .dataframe thead th {\n",
       "        text-align: right;\n",
       "    }\n",
       "</style>\n",
       "<table border=\"1\" class=\"dataframe\">\n",
       "  <thead>\n",
       "    <tr style=\"text-align: right;\">\n",
       "      <th></th>\n",
       "      <th>Lead Number</th>\n",
       "      <th>Converted</th>\n",
       "      <th>Conversion_Prob</th>\n",
       "      <th>0.0</th>\n",
       "      <th>0.1</th>\n",
       "      <th>0.2</th>\n",
       "      <th>0.3</th>\n",
       "      <th>0.4</th>\n",
       "      <th>0.5</th>\n",
       "      <th>0.6</th>\n",
       "      <th>0.7</th>\n",
       "      <th>0.8</th>\n",
       "      <th>0.9</th>\n",
       "    </tr>\n",
       "  </thead>\n",
       "  <tbody>\n",
       "    <tr>\n",
       "      <th>0</th>\n",
       "      <td>631375</td>\n",
       "      <td>0</td>\n",
       "      <td>0.336609</td>\n",
       "      <td>1</td>\n",
       "      <td>1</td>\n",
       "      <td>1</td>\n",
       "      <td>1</td>\n",
       "      <td>0</td>\n",
       "      <td>0</td>\n",
       "      <td>0</td>\n",
       "      <td>0</td>\n",
       "      <td>0</td>\n",
       "      <td>0</td>\n",
       "    </tr>\n",
       "    <tr>\n",
       "      <th>1</th>\n",
       "      <td>619066</td>\n",
       "      <td>0</td>\n",
       "      <td>0.136269</td>\n",
       "      <td>1</td>\n",
       "      <td>1</td>\n",
       "      <td>0</td>\n",
       "      <td>0</td>\n",
       "      <td>0</td>\n",
       "      <td>0</td>\n",
       "      <td>0</td>\n",
       "      <td>0</td>\n",
       "      <td>0</td>\n",
       "      <td>0</td>\n",
       "    </tr>\n",
       "    <tr>\n",
       "      <th>2</th>\n",
       "      <td>596507</td>\n",
       "      <td>0</td>\n",
       "      <td>0.087448</td>\n",
       "      <td>1</td>\n",
       "      <td>0</td>\n",
       "      <td>0</td>\n",
       "      <td>0</td>\n",
       "      <td>0</td>\n",
       "      <td>0</td>\n",
       "      <td>0</td>\n",
       "      <td>0</td>\n",
       "      <td>0</td>\n",
       "      <td>0</td>\n",
       "    </tr>\n",
       "    <tr>\n",
       "      <th>3</th>\n",
       "      <td>631355</td>\n",
       "      <td>0</td>\n",
       "      <td>0.502107</td>\n",
       "      <td>1</td>\n",
       "      <td>1</td>\n",
       "      <td>1</td>\n",
       "      <td>1</td>\n",
       "      <td>1</td>\n",
       "      <td>1</td>\n",
       "      <td>0</td>\n",
       "      <td>0</td>\n",
       "      <td>0</td>\n",
       "      <td>0</td>\n",
       "    </tr>\n",
       "    <tr>\n",
       "      <th>4</th>\n",
       "      <td>587471</td>\n",
       "      <td>0</td>\n",
       "      <td>0.219936</td>\n",
       "      <td>1</td>\n",
       "      <td>1</td>\n",
       "      <td>1</td>\n",
       "      <td>0</td>\n",
       "      <td>0</td>\n",
       "      <td>0</td>\n",
       "      <td>0</td>\n",
       "      <td>0</td>\n",
       "      <td>0</td>\n",
       "      <td>0</td>\n",
       "    </tr>\n",
       "  </tbody>\n",
       "</table>\n",
       "</div>"
      ],
      "text/plain": [
       "   Lead Number  Converted  Conversion_Prob  0.0  0.1  0.2  0.3  0.4  0.5  0.6  \\\n",
       "0       631375          0         0.336609    1    1    1    1    0    0    0   \n",
       "1       619066          0         0.136269    1    1    0    0    0    0    0   \n",
       "2       596507          0         0.087448    1    0    0    0    0    0    0   \n",
       "3       631355          0         0.502107    1    1    1    1    1    1    0   \n",
       "4       587471          0         0.219936    1    1    1    0    0    0    0   \n",
       "\n",
       "   0.7  0.8  0.9  \n",
       "0    0    0    0  \n",
       "1    0    0    0  \n",
       "2    0    0    0  \n",
       "3    0    0    0  \n",
       "4    0    0    0  "
      ]
     },
     "execution_count": 25,
     "metadata": {},
     "output_type": "execute_result"
    }
   ],
   "source": [
    "numbers = [float(i)/10 for i in range(10)]\n",
    "for i in numbers:\n",
    "    y_train_pred_final[i] = y_train_pred_final.Conversion_Prob.map(lambda x: 1 if x>i else 0)\n",
    "y_train_pred_final.head()"
   ]
  },
  {
   "cell_type": "markdown",
   "metadata": {},
   "source": [
    "### Confusion matrix for overall accuracy, sensivity, specificity"
   ]
  },
  {
   "cell_type": "code",
   "execution_count": 26,
   "metadata": {},
   "outputs": [
    {
     "name": "stdout",
     "output_type": "stream",
     "text": [
      "     prob  accuracy     sensi     speci\n",
      "0.0   0.0  0.386716  1.000000  0.000000\n",
      "0.1   0.1  0.570007  0.974865  0.314717\n",
      "0.2   0.2  0.735941  0.896469  0.634717\n",
      "0.3   0.3  0.772738  0.853381  0.721887\n",
      "0.4   0.4  0.813006  0.742669  0.857358\n",
      "0.5   0.5  0.809303  0.665470  0.900000\n",
      "0.6   0.6  0.800046  0.597247  0.927925\n",
      "0.7   0.7  0.794492  0.561341  0.941509\n",
      "0.8   0.8  0.743578  0.378815  0.973585\n",
      "0.9   0.9  0.692664  0.222621  0.989057\n"
     ]
    }
   ],
   "source": [
    "from sklearn import metrics\n",
    "from sklearn.metrics import confusion_matrix\n",
    "cutoff_df = pd.DataFrame( columns = ['prob','accuracy','sensi','speci'])\n",
    "num = [0.0,0.1,0.2,0.3,0.4,0.5,0.6,0.7,0.8,0.9]\n",
    "for i in num:\n",
    "    cm1 = metrics.confusion_matrix(y_train_pred_final.Converted, y_train_pred_final[i] )\n",
    "    total1=sum(sum(cm1))\n",
    "    accuracy = (cm1[0,0]+cm1[1,1])/total1\n",
    "    \n",
    "    speci = cm1[0,0]/(cm1[0,0]+cm1[0,1])\n",
    "    sensi = cm1[1,1]/(cm1[1,0]+cm1[1,1])\n",
    "    cutoff_df.loc[i] =[ i ,accuracy,sensi,speci]\n",
    "print(cutoff_df)"
   ]
  },
  {
   "cell_type": "markdown",
   "metadata": {},
   "source": [
    "### ROC Curve Plotted"
   ]
  },
  {
   "cell_type": "code",
   "execution_count": 27,
   "metadata": {},
   "outputs": [
    {
     "data": {
      "image/png": "[encoded data removed]",
      "text/plain": [
       "<Figure size 432x288 with 1 Axes>"
      ]
     },
     "metadata": {
      "needs_background": "light"
     },
     "output_type": "display_data"
    }
   ],
   "source": [
    "cutoff_df.plot.line(x = 'prob',y = ['accuracy','sensi','speci'])\n",
    "plt.show()"
   ]
  },
  {
   "cell_type": "markdown",
   "metadata": {},
   "source": [
    "### Final prediction, confusion matrix and overall accuracy"
   ]
  },
  {
   "cell_type": "code",
   "execution_count": 28,
   "metadata": {},
   "outputs": [
    {
     "data": {
      "text/html": [
       "<div>\n",
       "<style scoped>\n",
       "    .dataframe tbody tr th:only-of-type {\n",
       "        vertical-align: middle;\n",
       "    }\n",
       "\n",
       "    .dataframe tbody tr th {\n",
       "        vertical-align: top;\n",
       "    }\n",
       "\n",
       "    .dataframe thead th {\n",
       "        text-align: right;\n",
       "    }\n",
       "</style>\n",
       "<table border=\"1\" class=\"dataframe\">\n",
       "  <thead>\n",
       "    <tr style=\"text-align: right;\">\n",
       "      <th></th>\n",
       "      <th>Lead Number</th>\n",
       "      <th>Converted</th>\n",
       "      <th>Conversion_Prob</th>\n",
       "      <th>0.0</th>\n",
       "      <th>0.1</th>\n",
       "      <th>0.2</th>\n",
       "      <th>0.3</th>\n",
       "      <th>0.4</th>\n",
       "      <th>0.5</th>\n",
       "      <th>0.6</th>\n",
       "      <th>0.7</th>\n",
       "      <th>0.8</th>\n",
       "      <th>0.9</th>\n",
       "      <th>final_prediction</th>\n",
       "    </tr>\n",
       "  </thead>\n",
       "  <tbody>\n",
       "    <tr>\n",
       "      <th>0</th>\n",
       "      <td>631375</td>\n",
       "      <td>0</td>\n",
       "      <td>0.336609</td>\n",
       "      <td>1</td>\n",
       "      <td>1</td>\n",
       "      <td>1</td>\n",
       "      <td>1</td>\n",
       "      <td>0</td>\n",
       "      <td>0</td>\n",
       "      <td>0</td>\n",
       "      <td>0</td>\n",
       "      <td>0</td>\n",
       "      <td>0</td>\n",
       "      <td>0</td>\n",
       "    </tr>\n",
       "    <tr>\n",
       "      <th>1</th>\n",
       "      <td>619066</td>\n",
       "      <td>0</td>\n",
       "      <td>0.136269</td>\n",
       "      <td>1</td>\n",
       "      <td>1</td>\n",
       "      <td>0</td>\n",
       "      <td>0</td>\n",
       "      <td>0</td>\n",
       "      <td>0</td>\n",
       "      <td>0</td>\n",
       "      <td>0</td>\n",
       "      <td>0</td>\n",
       "      <td>0</td>\n",
       "      <td>0</td>\n",
       "    </tr>\n",
       "    <tr>\n",
       "      <th>2</th>\n",
       "      <td>596507</td>\n",
       "      <td>0</td>\n",
       "      <td>0.087448</td>\n",
       "      <td>1</td>\n",
       "      <td>0</td>\n",
       "      <td>0</td>\n",
       "      <td>0</td>\n",
       "      <td>0</td>\n",
       "      <td>0</td>\n",
       "      <td>0</td>\n",
       "      <td>0</td>\n",
       "      <td>0</td>\n",
       "      <td>0</td>\n",
       "      <td>0</td>\n",
       "    </tr>\n",
       "    <tr>\n",
       "      <th>3</th>\n",
       "      <td>631355</td>\n",
       "      <td>0</td>\n",
       "      <td>0.502107</td>\n",
       "      <td>1</td>\n",
       "      <td>1</td>\n",
       "      <td>1</td>\n",
       "      <td>1</td>\n",
       "      <td>1</td>\n",
       "      <td>1</td>\n",
       "      <td>0</td>\n",
       "      <td>0</td>\n",
       "      <td>0</td>\n",
       "      <td>0</td>\n",
       "      <td>1</td>\n",
       "    </tr>\n",
       "    <tr>\n",
       "      <th>4</th>\n",
       "      <td>587471</td>\n",
       "      <td>0</td>\n",
       "      <td>0.219936</td>\n",
       "      <td>1</td>\n",
       "      <td>1</td>\n",
       "      <td>1</td>\n",
       "      <td>0</td>\n",
       "      <td>0</td>\n",
       "      <td>0</td>\n",
       "      <td>0</td>\n",
       "      <td>0</td>\n",
       "      <td>0</td>\n",
       "      <td>0</td>\n",
       "      <td>0</td>\n",
       "    </tr>\n",
       "  </tbody>\n",
       "</table>\n",
       "</div>"
      ],
      "text/plain": [
       "   Lead Number  Converted  Conversion_Prob  0.0  0.1  0.2  0.3  0.4  0.5  0.6  \\\n",
       "0       631375          0         0.336609    1    1    1    1    0    0    0   \n",
       "1       619066          0         0.136269    1    1    0    0    0    0    0   \n",
       "2       596507          0         0.087448    1    0    0    0    0    0    0   \n",
       "3       631355          0         0.502107    1    1    1    1    1    1    0   \n",
       "4       587471          0         0.219936    1    1    1    0    0    0    0   \n",
       "\n",
       "   0.7  0.8  0.9  final_prediction  \n",
       "0    0    0    0                 0  \n",
       "1    0    0    0                 0  \n",
       "2    0    0    0                 0  \n",
       "3    0    0    0                 1  \n",
       "4    0    0    0                 0  "
      ]
     },
     "execution_count": 28,
     "metadata": {},
     "output_type": "execute_result"
    }
   ],
   "source": [
    "y_train_pred_final['final_prediction'] = y_train_pred_final.Conversion_Prob.map(lambda x: 1 if x > 0.35 else 0)\n",
    "\n",
    "# Let's see the head\n",
    "y_train_pred_final.head()"
   ]
  },
  {
   "cell_type": "code",
   "execution_count": 29,
   "metadata": {},
   "outputs": [
    {
     "name": "stdout",
     "output_type": "stream",
     "text": [
      "[[2077  573]\n",
      " [ 283 1388]]\n"
     ]
    }
   ],
   "source": [
    "confusion = metrics.confusion_matrix(y_train_pred_final.Converted, y_train_pred_final.final_prediction )\n",
    "print(confusion)"
   ]
  },
  {
   "cell_type": "code",
   "execution_count": 30,
   "metadata": {},
   "outputs": [
    {
     "name": "stdout",
     "output_type": "stream",
     "text": [
      "0.8018977088636889\n"
     ]
    }
   ],
   "source": [
    "# Let's check the overall accuracy.\n",
    "print(metrics.accuracy_score(y_train_pred_final.Converted, y_train_pred_final.final_prediction))"
   ]
  },
  {
   "cell_type": "markdown",
   "metadata": {},
   "source": [
    "### Metrics beyond simply accuracy"
   ]
  },
  {
   "cell_type": "code",
   "execution_count": 31,
   "metadata": {},
   "outputs": [],
   "source": [
    "TP = confusion[1,1] # true positive \n",
    "TN = confusion[0,0] # true negatives\n",
    "FP = confusion[0,1] # false positives\n",
    "FN = confusion[1,0] # false negatives"
   ]
  },
  {
   "cell_type": "code",
   "execution_count": 32,
   "metadata": {},
   "outputs": [
    {
     "data": {
      "text/plain": [
       "0.8306403351286654"
      ]
     },
     "execution_count": 32,
     "metadata": {},
     "output_type": "execute_result"
    }
   ],
   "source": [
    "# Let's see the sensitivity of our logistic regression model\n",
    "TP / float(TP+FN)"
   ]
  },
  {
   "cell_type": "code",
   "execution_count": 33,
   "metadata": {},
   "outputs": [
    {
     "data": {
      "text/plain": [
       "0.7837735849056604"
      ]
     },
     "execution_count": 33,
     "metadata": {},
     "output_type": "execute_result"
    }
   ],
   "source": [
    "# Let us calculate specificity\n",
    "TN / float(TN+FP)"
   ]
  },
  {
   "cell_type": "code",
   "execution_count": 34,
   "metadata": {},
   "outputs": [
    {
     "name": "stdout",
     "output_type": "stream",
     "text": [
      "0.21622641509433962\n"
     ]
    }
   ],
   "source": [
    "# Calculate false postive rate - predicting churn when customer does not have churned\n",
    "print(FP/ float(TN+FP))"
   ]
  },
  {
   "cell_type": "code",
   "execution_count": 35,
   "metadata": {},
   "outputs": [
    {
     "name": "stdout",
     "output_type": "stream",
     "text": [
      "0.7078021417644059\n"
     ]
    }
   ],
   "source": [
    "# Positive predictive value \n",
    "print (TP / float(TP+FP))"
   ]
  },
  {
   "cell_type": "code",
   "execution_count": 36,
   "metadata": {},
   "outputs": [
    {
     "name": "stdout",
     "output_type": "stream",
     "text": [
      "0.8800847457627119\n"
     ]
    }
   ],
   "source": [
    "# Negative predictive value\n",
    "print (TN / float(TN+ FN))"
   ]
  },
  {
   "cell_type": "code",
   "execution_count": 37,
   "metadata": {},
   "outputs": [
    {
     "data": {
      "text/plain": [
       "0.7078021417644059"
      ]
     },
     "execution_count": 37,
     "metadata": {},
     "output_type": "execute_result"
    }
   ],
   "source": [
    "#Precision TP / TP + FP\n",
    "confusion[1,1]/(confusion[0,1]+confusion[1,1])"
   ]
  },
  {
   "cell_type": "code",
   "execution_count": 38,
   "metadata": {},
   "outputs": [
    {
     "data": {
      "text/plain": [
       "0.8306403351286654"
      ]
     },
     "execution_count": 38,
     "metadata": {},
     "output_type": "execute_result"
    }
   ],
   "source": [
    "#Recall TP / TP + FN\n",
    "confusion[1,1]/(confusion[1,0]+confusion[1,1])"
   ]
  },
  {
   "cell_type": "markdown",
   "metadata": {},
   "source": [
    "### Making predictions on the test set"
   ]
  },
  {
   "cell_type": "code",
   "execution_count": 39,
   "metadata": {},
   "outputs": [],
   "source": [
    "col = X_test.columns[rfe.support_]\n",
    "X_test_sm = sm.add_constant(X_test[col])"
   ]
  },
  {
   "cell_type": "code",
   "execution_count": 40,
   "metadata": {},
   "outputs": [],
   "source": [
    "y_test_pred = res.predict(X_test_sm)"
   ]
  },
  {
   "cell_type": "code",
   "execution_count": 41,
   "metadata": {},
   "outputs": [],
   "source": [
    "y_pred_1 = pd.DataFrame(y_test_pred)"
   ]
  },
  {
   "cell_type": "code",
   "execution_count": 42,
   "metadata": {},
   "outputs": [],
   "source": [
    "# Converting y_test to dataframe\n",
    "y_test_df = pd.DataFrame(y_test)"
   ]
  },
  {
   "cell_type": "code",
   "execution_count": 43,
   "metadata": {},
   "outputs": [
    {
     "data": {
      "text/html": [
       "<div>\n",
       "<style scoped>\n",
       "    .dataframe tbody tr th:only-of-type {\n",
       "        vertical-align: middle;\n",
       "    }\n",
       "\n",
       "    .dataframe tbody tr th {\n",
       "        vertical-align: top;\n",
       "    }\n",
       "\n",
       "    .dataframe thead th {\n",
       "        text-align: right;\n",
       "    }\n",
       "</style>\n",
       "<table border=\"1\" class=\"dataframe\">\n",
       "  <thead>\n",
       "    <tr style=\"text-align: right;\">\n",
       "      <th></th>\n",
       "      <th>Lead Number</th>\n",
       "      <th>Converted</th>\n",
       "      <th>0</th>\n",
       "    </tr>\n",
       "  </thead>\n",
       "  <tbody>\n",
       "    <tr>\n",
       "      <th>0</th>\n",
       "      <td>613614</td>\n",
       "      <td>0</td>\n",
       "      <td>0.808212</td>\n",
       "    </tr>\n",
       "    <tr>\n",
       "      <th>1</th>\n",
       "      <td>608009</td>\n",
       "      <td>0</td>\n",
       "      <td>0.070316</td>\n",
       "    </tr>\n",
       "    <tr>\n",
       "      <th>2</th>\n",
       "      <td>644388</td>\n",
       "      <td>0</td>\n",
       "      <td>0.239173</td>\n",
       "    </tr>\n",
       "    <tr>\n",
       "      <th>3</th>\n",
       "      <td>583083</td>\n",
       "      <td>1</td>\n",
       "      <td>0.771919</td>\n",
       "    </tr>\n",
       "    <tr>\n",
       "      <th>4</th>\n",
       "      <td>623733</td>\n",
       "      <td>0</td>\n",
       "      <td>0.152590</td>\n",
       "    </tr>\n",
       "  </tbody>\n",
       "</table>\n",
       "</div>"
      ],
      "text/plain": [
       "   Lead Number  Converted         0\n",
       "0       613614          0  0.808212\n",
       "1       608009          0  0.070316\n",
       "2       644388          0  0.239173\n",
       "3       583083          1  0.771919\n",
       "4       623733          0  0.152590"
      ]
     },
     "execution_count": 43,
     "metadata": {},
     "output_type": "execute_result"
    }
   ],
   "source": [
    "# Appending y_test_df and y_pred_1\n",
    "y_test_pred_final = pd.concat([y_test_df, y_pred_1],axis=1)\n",
    "y_test_pred_final.reset_index(inplace = True)\n",
    "y_test_pred_final.head()\n"
   ]
  },
  {
   "cell_type": "code",
   "execution_count": 45,
   "metadata": {},
   "outputs": [],
   "source": [
    "y_test_pred_final= y_test_pred_final.rename(columns={ 0 : 'Conversion_Prob'})"
   ]
  },
  {
   "cell_type": "code",
   "execution_count": 46,
   "metadata": {},
   "outputs": [],
   "source": [
    "y_test_pred_final['final_prediction'] = y_test_pred_final.Conversion_Prob.map(lambda x: 1 if x > 0.35 else 0)"
   ]
  },
  {
   "cell_type": "code",
   "execution_count": 47,
   "metadata": {},
   "outputs": [
    {
     "data": {
      "text/html": [
       "<div>\n",
       "<style scoped>\n",
       "    .dataframe tbody tr th:only-of-type {\n",
       "        vertical-align: middle;\n",
       "    }\n",
       "\n",
       "    .dataframe tbody tr th {\n",
       "        vertical-align: top;\n",
       "    }\n",
       "\n",
       "    .dataframe thead th {\n",
       "        text-align: right;\n",
       "    }\n",
       "</style>\n",
       "<table border=\"1\" class=\"dataframe\">\n",
       "  <thead>\n",
       "    <tr style=\"text-align: right;\">\n",
       "      <th></th>\n",
       "      <th>Lead Number</th>\n",
       "      <th>Converted</th>\n",
       "      <th>Conversion_Prob</th>\n",
       "      <th>final_prediction</th>\n",
       "    </tr>\n",
       "  </thead>\n",
       "  <tbody>\n",
       "    <tr>\n",
       "      <th>0</th>\n",
       "      <td>613614</td>\n",
       "      <td>0</td>\n",
       "      <td>0.808212</td>\n",
       "      <td>1</td>\n",
       "    </tr>\n",
       "    <tr>\n",
       "      <th>1</th>\n",
       "      <td>608009</td>\n",
       "      <td>0</td>\n",
       "      <td>0.070316</td>\n",
       "      <td>0</td>\n",
       "    </tr>\n",
       "    <tr>\n",
       "      <th>2</th>\n",
       "      <td>644388</td>\n",
       "      <td>0</td>\n",
       "      <td>0.239173</td>\n",
       "      <td>0</td>\n",
       "    </tr>\n",
       "    <tr>\n",
       "      <th>3</th>\n",
       "      <td>583083</td>\n",
       "      <td>1</td>\n",
       "      <td>0.771919</td>\n",
       "      <td>1</td>\n",
       "    </tr>\n",
       "    <tr>\n",
       "      <th>4</th>\n",
       "      <td>623733</td>\n",
       "      <td>0</td>\n",
       "      <td>0.152590</td>\n",
       "      <td>0</td>\n",
       "    </tr>\n",
       "  </tbody>\n",
       "</table>\n",
       "</div>"
      ],
      "text/plain": [
       "   Lead Number  Converted  Conversion_Prob  final_prediction\n",
       "0       613614          0         0.808212                 1\n",
       "1       608009          0         0.070316                 0\n",
       "2       644388          0         0.239173                 0\n",
       "3       583083          1         0.771919                 1\n",
       "4       623733          0         0.152590                 0"
      ]
     },
     "execution_count": 47,
     "metadata": {},
     "output_type": "execute_result"
    }
   ],
   "source": [
    "y_test_pred_final.head()"
   ]
  },
  {
   "cell_type": "code",
   "execution_count": 48,
   "metadata": {},
   "outputs": [
    {
     "data": {
      "text/plain": [
       "0.7921166306695464"
      ]
     },
     "execution_count": 48,
     "metadata": {},
     "output_type": "execute_result"
    }
   ],
   "source": [
    "# Accuracy ~80% on test set\n",
    "metrics.accuracy_score(y_test_pred_final.Converted, y_test_pred_final.final_prediction)"
   ]
  },
  {
   "cell_type": "code",
   "execution_count": 49,
   "metadata": {},
   "outputs": [
    {
     "data": {
      "text/plain": [
       "array([[872, 257],\n",
       "       [128, 595]], dtype=int64)"
      ]
     },
     "execution_count": 49,
     "metadata": {},
     "output_type": "execute_result"
    }
   ],
   "source": [
    "confusion2 = metrics.confusion_matrix(y_test_pred_final.Converted, y_test_pred_final.final_prediction)\n",
    "confusion2"
   ]
  },
  {
   "cell_type": "code",
   "execution_count": null,
   "metadata": {},
   "outputs": [],
   "source": []
  }
 ],
 "metadata": {
  "kernelspec": {
   "display_name": "Python 3",
   "language": "python",
   "name": "python3"
  },
  "language_info": {
   "codemirror_mode": {
    "name": "ipython",
    "version": 3
   },
   "file_extension": ".py",
   "mimetype": "text/x-python",
   "name": "python",
   "nbconvert_exporter": "python",
   "pygments_lexer": "ipython3",
   "version": "3.7.1"
  }
 },
 "nbformat": 4,
 "nbformat_minor": 2
}
