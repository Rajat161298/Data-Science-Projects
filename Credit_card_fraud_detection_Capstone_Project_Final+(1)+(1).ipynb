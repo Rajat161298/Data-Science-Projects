{
 "cells": [
  {
   "cell_type": "markdown",
   "metadata": {
    "colab_type": "text",
    "id": "1nDMns9KzYV7"
   },
   "source": [
    "## Credit Card Fraud Detection - Capstone Project\n",
    "\n",
    "In this project we will predict fraudulent credit card transactions with the help of Machine learning models. \n",
    "\n",
    "The objective of this project is to provide best machine learning model on the given Kaggle dataset which has the maximum ROC_AUC_score. \n",
    "\n",
    "Action Points:\n",
    "1.\tPerform EDA and handle data imbalance.\n",
    "2.\tDo a manual test and train split.\n",
    "3.\tDecide the class of model which will work on our train test split.\n",
    "4.\tEvaluate different models.\n",
    "5.\tProvide recommendations based on our evaluation\n",
    "\n",
    "\n",
    "\n",
    "### Contributors : Rajat Ranka, Kirti Singhania\n",
    "\n",
    "#### Python version : 3, Platform : Nimblebox GPU, Google Colab"
   ]
  },
  {
   "cell_type": "markdown",
   "metadata": {},
   "source": [
    "## Understanding the DataSet:\n",
    "\n",
    "In the training dataset, out of 284,807 transactions, only 492 are fraudulent hence 99.83% transactions are not fraudulent, only .017% are fraudulent. Except for time and amount, all other data has been prepared with PCA. We have to standardize time and amount also because certain machine learning algorithms like KNN and logistics regression might not work correctly. Need for check for missing values as well and do missing value imputation."
   ]
  },
  {
   "cell_type": "code",
   "execution_count": 1,
   "metadata": {
    "colab": {
     "base_uri": "https://localhost:8080/",
     "height": 52
    },
    "colab_type": "code",
    "executionInfo": {
     "elapsed": 5911,
     "status": "ok",
     "timestamp": 1586108351931,
     "user": {
      "displayName": "rajat ranka",
      "photoUrl": "https://lh3.googleusercontent.com/a-/AOh14Gj6z6RcAbCR-8r7OHC2Bib-bv68b7-SdWHe_Sthwg=s64",
      "userId": "14533948719867473044"
     },
     "user_tz": -330
    },
    "id": "tdUVIkj8zYV9",
    "outputId": "100693ce-3ad5-48e9-b432-7d5e9e01fe29",
    "scrolled": false
   },
   "outputs": [],
   "source": [
    "##Import necessary libraries\n",
    "import numpy as np\n",
    "import pandas as pd\n",
    "\n",
    "import matplotlib.pyplot as plt\n",
    "%matplotlib inline\n",
    "import seaborn as sns\n",
    "\n",
    "from sklearn import metrics\n",
    "from sklearn import preprocessing"
   ]
  },
  {
   "cell_type": "markdown",
   "metadata": {
    "colab_type": "text",
    "id": "xZcjV_5czYWQ"
   },
   "source": [
    "## Exploratory data analysis"
   ]
  },
  {
   "cell_type": "code",
   "execution_count": 2,
   "metadata": {
    "colab": {
     "base_uri": "https://localhost:8080/",
     "height": 214
    },
    "colab_type": "code",
    "executionInfo": {
     "elapsed": 5560,
     "status": "ok",
     "timestamp": 1586108356457,
     "user": {
      "displayName": "rajat ranka",
      "photoUrl": "https://lh3.googleusercontent.com/a-/AOh14Gj6z6RcAbCR-8r7OHC2Bib-bv68b7-SdWHe_Sthwg=s64",
      "userId": "14533948719867473044"
     },
     "user_tz": -330
    },
    "id": "px7F9CPCzYWT",
    "outputId": "371efb5d-179f-48be-f8a9-618b52b6879d"
   },
   "outputs": [
    {
     "data": {
      "text/html": [
       "<div>\n",
       "<style scoped>\n",
       "    .dataframe tbody tr th:only-of-type {\n",
       "        vertical-align: middle;\n",
       "    }\n",
       "\n",
       "    .dataframe tbody tr th {\n",
       "        vertical-align: top;\n",
       "    }\n",
       "\n",
       "    .dataframe thead th {\n",
       "        text-align: right;\n",
       "    }\n",
       "</style>\n",
       "<table border=\"1\" class=\"dataframe\">\n",
       "  <thead>\n",
       "    <tr style=\"text-align: right;\">\n",
       "      <th></th>\n",
       "      <th>Time</th>\n",
       "      <th>V1</th>\n",
       "      <th>V2</th>\n",
       "      <th>V3</th>\n",
       "      <th>V4</th>\n",
       "      <th>V5</th>\n",
       "      <th>V6</th>\n",
       "      <th>V7</th>\n",
       "      <th>V8</th>\n",
       "      <th>V9</th>\n",
       "      <th>...</th>\n",
       "      <th>V21</th>\n",
       "      <th>V22</th>\n",
       "      <th>V23</th>\n",
       "      <th>V24</th>\n",
       "      <th>V25</th>\n",
       "      <th>V26</th>\n",
       "      <th>V27</th>\n",
       "      <th>V28</th>\n",
       "      <th>Amount</th>\n",
       "      <th>Class</th>\n",
       "    </tr>\n",
       "  </thead>\n",
       "  <tbody>\n",
       "    <tr>\n",
       "      <th>0</th>\n",
       "      <td>0.0</td>\n",
       "      <td>-1.359807</td>\n",
       "      <td>-0.072781</td>\n",
       "      <td>2.536347</td>\n",
       "      <td>1.378155</td>\n",
       "      <td>-0.338321</td>\n",
       "      <td>0.462388</td>\n",
       "      <td>0.239599</td>\n",
       "      <td>0.098698</td>\n",
       "      <td>0.363787</td>\n",
       "      <td>...</td>\n",
       "      <td>-0.018307</td>\n",
       "      <td>0.277838</td>\n",
       "      <td>-0.110474</td>\n",
       "      <td>0.066928</td>\n",
       "      <td>0.128539</td>\n",
       "      <td>-0.189115</td>\n",
       "      <td>0.133558</td>\n",
       "      <td>-0.021053</td>\n",
       "      <td>149.62</td>\n",
       "      <td>0</td>\n",
       "    </tr>\n",
       "    <tr>\n",
       "      <th>1</th>\n",
       "      <td>0.0</td>\n",
       "      <td>1.191857</td>\n",
       "      <td>0.266151</td>\n",
       "      <td>0.166480</td>\n",
       "      <td>0.448154</td>\n",
       "      <td>0.060018</td>\n",
       "      <td>-0.082361</td>\n",
       "      <td>-0.078803</td>\n",
       "      <td>0.085102</td>\n",
       "      <td>-0.255425</td>\n",
       "      <td>...</td>\n",
       "      <td>-0.225775</td>\n",
       "      <td>-0.638672</td>\n",
       "      <td>0.101288</td>\n",
       "      <td>-0.339846</td>\n",
       "      <td>0.167170</td>\n",
       "      <td>0.125895</td>\n",
       "      <td>-0.008983</td>\n",
       "      <td>0.014724</td>\n",
       "      <td>2.69</td>\n",
       "      <td>0</td>\n",
       "    </tr>\n",
       "    <tr>\n",
       "      <th>2</th>\n",
       "      <td>1.0</td>\n",
       "      <td>-1.358354</td>\n",
       "      <td>-1.340163</td>\n",
       "      <td>1.773209</td>\n",
       "      <td>0.379780</td>\n",
       "      <td>-0.503198</td>\n",
       "      <td>1.800499</td>\n",
       "      <td>0.791461</td>\n",
       "      <td>0.247676</td>\n",
       "      <td>-1.514654</td>\n",
       "      <td>...</td>\n",
       "      <td>0.247998</td>\n",
       "      <td>0.771679</td>\n",
       "      <td>0.909412</td>\n",
       "      <td>-0.689281</td>\n",
       "      <td>-0.327642</td>\n",
       "      <td>-0.139097</td>\n",
       "      <td>-0.055353</td>\n",
       "      <td>-0.059752</td>\n",
       "      <td>378.66</td>\n",
       "      <td>0</td>\n",
       "    </tr>\n",
       "    <tr>\n",
       "      <th>3</th>\n",
       "      <td>1.0</td>\n",
       "      <td>-0.966272</td>\n",
       "      <td>-0.185226</td>\n",
       "      <td>1.792993</td>\n",
       "      <td>-0.863291</td>\n",
       "      <td>-0.010309</td>\n",
       "      <td>1.247203</td>\n",
       "      <td>0.237609</td>\n",
       "      <td>0.377436</td>\n",
       "      <td>-1.387024</td>\n",
       "      <td>...</td>\n",
       "      <td>-0.108300</td>\n",
       "      <td>0.005274</td>\n",
       "      <td>-0.190321</td>\n",
       "      <td>-1.175575</td>\n",
       "      <td>0.647376</td>\n",
       "      <td>-0.221929</td>\n",
       "      <td>0.062723</td>\n",
       "      <td>0.061458</td>\n",
       "      <td>123.50</td>\n",
       "      <td>0</td>\n",
       "    </tr>\n",
       "    <tr>\n",
       "      <th>4</th>\n",
       "      <td>2.0</td>\n",
       "      <td>-1.158233</td>\n",
       "      <td>0.877737</td>\n",
       "      <td>1.548718</td>\n",
       "      <td>0.403034</td>\n",
       "      <td>-0.407193</td>\n",
       "      <td>0.095921</td>\n",
       "      <td>0.592941</td>\n",
       "      <td>-0.270533</td>\n",
       "      <td>0.817739</td>\n",
       "      <td>...</td>\n",
       "      <td>-0.009431</td>\n",
       "      <td>0.798278</td>\n",
       "      <td>-0.137458</td>\n",
       "      <td>0.141267</td>\n",
       "      <td>-0.206010</td>\n",
       "      <td>0.502292</td>\n",
       "      <td>0.219422</td>\n",
       "      <td>0.215153</td>\n",
       "      <td>69.99</td>\n",
       "      <td>0</td>\n",
       "    </tr>\n",
       "  </tbody>\n",
       "</table>\n",
       "<p>5 rows × 31 columns</p>\n",
       "</div>"
      ],
      "text/plain": [
       "   Time        V1        V2        V3        V4        V5        V6        V7  \\\n",
       "0   0.0 -1.359807 -0.072781  2.536347  1.378155 -0.338321  0.462388  0.239599   \n",
       "1   0.0  1.191857  0.266151  0.166480  0.448154  0.060018 -0.082361 -0.078803   \n",
       "2   1.0 -1.358354 -1.340163  1.773209  0.379780 -0.503198  1.800499  0.791461   \n",
       "3   1.0 -0.966272 -0.185226  1.792993 -0.863291 -0.010309  1.247203  0.237609   \n",
       "4   2.0 -1.158233  0.877737  1.548718  0.403034 -0.407193  0.095921  0.592941   \n",
       "\n",
       "         V8        V9  ...         V21       V22       V23       V24  \\\n",
       "0  0.098698  0.363787  ...   -0.018307  0.277838 -0.110474  0.066928   \n",
       "1  0.085102 -0.255425  ...   -0.225775 -0.638672  0.101288 -0.339846   \n",
       "2  0.247676 -1.514654  ...    0.247998  0.771679  0.909412 -0.689281   \n",
       "3  0.377436 -1.387024  ...   -0.108300  0.005274 -0.190321 -1.175575   \n",
       "4 -0.270533  0.817739  ...   -0.009431  0.798278 -0.137458  0.141267   \n",
       "\n",
       "        V25       V26       V27       V28  Amount  Class  \n",
       "0  0.128539 -0.189115  0.133558 -0.021053  149.62      0  \n",
       "1  0.167170  0.125895 -0.008983  0.014724    2.69      0  \n",
       "2 -0.327642 -0.139097 -0.055353 -0.059752  378.66      0  \n",
       "3  0.647376 -0.221929  0.062723  0.061458  123.50      0  \n",
       "4 -0.206010  0.502292  0.219422  0.215153   69.99      0  \n",
       "\n",
       "[5 rows x 31 columns]"
      ]
     },
     "execution_count": 2,
     "metadata": {},
     "output_type": "execute_result"
    }
   ],
   "source": [
    "#Load and read the dataset\n",
    "df = pd.read_csv('creditcard.csv')\n",
    "df.head()"
   ]
  },
  {
   "cell_type": "markdown",
   "metadata": {
    "colab_type": "text",
    "id": "0TFsTsi5zYWg"
   },
   "source": [
    "Here we will observe the distribution of our classes"
   ]
  },
  {
   "cell_type": "code",
   "execution_count": 31,
   "metadata": {
    "colab": {
     "base_uri": "https://localhost:8080/",
     "height": 35
    },
    "colab_type": "code",
    "executionInfo": {
     "elapsed": 3193,
     "status": "ok",
     "timestamp": 1586108356459,
     "user": {
      "displayName": "rajat ranka",
      "photoUrl": "https://lh3.googleusercontent.com/a-/AOh14Gj6z6RcAbCR-8r7OHC2Bib-bv68b7-SdWHe_Sthwg=s64",
      "userId": "14533948719867473044"
     },
     "user_tz": -330
    },
    "id": "81SQM0LZzYWi",
    "outputId": "b3016ab8-7b78-451a-a9ed-3e3c3390cc81"
   },
   "outputs": [
    {
     "name": "stdout",
     "output_type": "stream",
     "text": [
      "99.82725143693798 0.1727485630620034\n"
     ]
    }
   ],
   "source": [
    "#observe the different feature type present in the data and calculate percentage share of fraud vs non-fraud data\n",
    "classes=df['Class'].value_counts()\n",
    "normal_share=classes[0]/df['Class'].count()*100\n",
    "fraud_share=classes[1]/df['Class'].count()*100\n",
    "print(normal_share,fraud_share)"
   ]
  },
  {
   "cell_type": "code",
   "execution_count": 5,
   "metadata": {
    "colab": {
     "base_uri": "https://localhost:8080/",
     "height": 287
    },
    "colab_type": "code",
    "executionInfo": {
     "elapsed": 3717,
     "status": "ok",
     "timestamp": 1586108361536,
     "user": {
      "displayName": "rajat ranka",
      "photoUrl": "https://lh3.googleusercontent.com/a-/AOh14Gj6z6RcAbCR-8r7OHC2Bib-bv68b7-SdWHe_Sthwg=s64",
      "userId": "14533948719867473044"
     },
     "user_tz": -330
    },
    "id": "U8jihstwzYWr",
    "outputId": "8a49508a-9ca5-46fd-ca31-e564a59f51ab"
   },
   "outputs": [
    {
     "data": {
      "text/plain": [
       "(0, 100)"
      ]
     },
     "execution_count": 5,
     "metadata": {},
     "output_type": "execute_result"
    },
    {
     "data": {
      "image/png": "[encoded data removed]",
      "text/plain": [
       "<Figure size 432x288 with 2 Axes>"
      ]
     },
     "metadata": {
      "needs_background": "light"
     },
     "output_type": "display_data"
    }
   ],
   "source": [
    "# Create a bar plot for the number and percentage of fraudulent vs non-fraudulent transcations\n",
    "plt.subplot(1,2,1)\n",
    "plt.bar(x = \"1\",height = normal_share,color = \"g\")\n",
    "plt.ylabel(\"% of Normal_Share\")\n",
    "plt.subplot(1,2,2)\n",
    "plt.bar(x=\"1\",height = fraud_share,color = \"r\")\n",
    "plt.ylabel(\"% of Fraud_Share\")\n",
    "plt.ylim(0,100)"
   ]
  },
  {
   "cell_type": "markdown",
   "metadata": {},
   "source": [
    "### We can see that the data is highly imbalanced"
   ]
  },
  {
   "cell_type": "code",
   "execution_count": 6,
   "metadata": {
    "colab": {
     "base_uri": "https://localhost:8080/",
     "height": 283
    },
    "colab_type": "code",
    "executionInfo": {
     "elapsed": 3137,
     "status": "ok",
     "timestamp": 1586108371404,
     "user": {
      "displayName": "rajat ranka",
      "photoUrl": "https://lh3.googleusercontent.com/a-/AOh14Gj6z6RcAbCR-8r7OHC2Bib-bv68b7-SdWHe_Sthwg=s64",
      "userId": "14533948719867473044"
     },
     "user_tz": -330
    },
    "id": "z7pNR9EWzYWx",
    "outputId": "774cd2d0-1d51-4198-c38a-2476244ad091"
   },
   "outputs": [
    {
     "data": {
      "text/plain": [
       "<matplotlib.collections.PathCollection at 0x233c7752a58>"
      ]
     },
     "execution_count": 6,
     "metadata": {},
     "output_type": "execute_result"
    },
    {
     "data": {
      "image/png": "[encoded data removed]",
      "text/plain": [
       "<Figure size 1080x288 with 2 Axes>"
      ]
     },
     "metadata": {
      "needs_background": "light"
     },
     "output_type": "display_data"
    }
   ],
   "source": [
    "# Create a scatter plot to observe the distribution of classes with time\n",
    "k = df[df[\"Class\"]==0].groupby(\"Time\").count()\n",
    "plt.figure(figsize = [15,4])\n",
    "plt.subplot(1,2,1)\n",
    "plt.scatter(k.index,k[\"Class\"])\n",
    "l = df[df[\"Class\"]==1].groupby(\"Time\").count()\n",
    "plt.subplot(1,2,2)\n",
    "plt.scatter(l.index,l[\"Class\"])\n",
    "#distribution of normal class over time shows a cosine curve thus representing a seasonal behaviour"
   ]
  },
  {
   "cell_type": "code",
   "execution_count": 7,
   "metadata": {
    "colab": {
     "base_uri": "https://localhost:8080/",
     "height": 284
    },
    "colab_type": "code",
    "executionInfo": {
     "elapsed": 3358,
     "status": "ok",
     "timestamp": 1586108374369,
     "user": {
      "displayName": "rajat ranka",
      "photoUrl": "https://lh3.googleusercontent.com/a-/AOh14Gj6z6RcAbCR-8r7OHC2Bib-bv68b7-SdWHe_Sthwg=s64",
      "userId": "14533948719867473044"
     },
     "user_tz": -330
    },
    "id": "BcCfrnRnzYW3",
    "outputId": "d9067045-27a2-4fb4-c85d-96c912d5682a"
   },
   "outputs": [
    {
     "data": {
      "text/plain": [
       "<matplotlib.collections.PathCollection at 0x233c772a208>"
      ]
     },
     "execution_count": 7,
     "metadata": {},
     "output_type": "execute_result"
    },
    {
     "data": {
      "image/png": "[encoded data removed]",
      "text/plain": [
       "<Figure size 1080x288 with 2 Axes>"
      ]
     },
     "metadata": {
      "needs_background": "light"
     },
     "output_type": "display_data"
    }
   ],
   "source": [
    "# Create a scatter plot to observe the distribution of classes with Amount\n",
    "m = df[df[\"Class\"]==0].groupby(\"Amount\").count()\n",
    "plt.figure(figsize = [15,4])\n",
    "plt.subplot(1,2,1)\n",
    "plt.scatter(m.index,m[\"Class\"])\n",
    "n = df[df[\"Class\"]==1].groupby(\"Amount\").count()\n",
    "plt.subplot(1,2,2)\n",
    "plt.scatter(n.index,n[\"Class\"])\n",
    "#distribution of normal class over amount shows that fraud transaction occurs more on smaller amount than on higher amount"
   ]
  },
  {
   "cell_type": "code",
   "execution_count": 10,
   "metadata": {},
   "outputs": [
    {
     "data": {
      "text/plain": [
       "Time      0.0\n",
       "V1        0.0\n",
       "V2        0.0\n",
       "V3        0.0\n",
       "V4        0.0\n",
       "V5        0.0\n",
       "V6        0.0\n",
       "V7        0.0\n",
       "V8        0.0\n",
       "V9        0.0\n",
       "V10       0.0\n",
       "V11       0.0\n",
       "V12       0.0\n",
       "V13       0.0\n",
       "V14       0.0\n",
       "V15       0.0\n",
       "V16       0.0\n",
       "V17       0.0\n",
       "V18       0.0\n",
       "V19       0.0\n",
       "V20       0.0\n",
       "V21       0.0\n",
       "V22       0.0\n",
       "V23       0.0\n",
       "V24       0.0\n",
       "V25       0.0\n",
       "V26       0.0\n",
       "V27       0.0\n",
       "V28       0.0\n",
       "Amount    0.0\n",
       "Class     0.0\n",
       "dtype: float64"
      ]
     },
     "execution_count": 10,
     "metadata": {},
     "output_type": "execute_result"
    }
   ],
   "source": [
    "# Checking the percentage of missing values\n",
    "round(100*(df.isnull().sum()/len(df.index)), 2)\n"
   ]
  },
  {
   "cell_type": "markdown",
   "metadata": {},
   "source": [
    "### There are no null values"
   ]
  },
  {
   "cell_type": "code",
   "execution_count": 11,
   "metadata": {},
   "outputs": [
    {
     "data": {
      "text/html": [
       "<div>\n",
       "<style scoped>\n",
       "    .dataframe tbody tr th:only-of-type {\n",
       "        vertical-align: middle;\n",
       "    }\n",
       "\n",
       "    .dataframe tbody tr th {\n",
       "        vertical-align: top;\n",
       "    }\n",
       "\n",
       "    .dataframe thead th {\n",
       "        text-align: right;\n",
       "    }\n",
       "</style>\n",
       "<table border=\"1\" class=\"dataframe\">\n",
       "  <thead>\n",
       "    <tr style=\"text-align: right;\">\n",
       "      <th></th>\n",
       "      <th>V1</th>\n",
       "      <th>V2</th>\n",
       "      <th>V3</th>\n",
       "      <th>V4</th>\n",
       "      <th>V5</th>\n",
       "      <th>V6</th>\n",
       "      <th>V7</th>\n",
       "      <th>V8</th>\n",
       "      <th>V9</th>\n",
       "      <th>V10</th>\n",
       "      <th>...</th>\n",
       "      <th>V22</th>\n",
       "      <th>V23</th>\n",
       "      <th>V24</th>\n",
       "      <th>V25</th>\n",
       "      <th>V26</th>\n",
       "      <th>V27</th>\n",
       "      <th>V28</th>\n",
       "      <th>Class</th>\n",
       "      <th>scaled_amount</th>\n",
       "      <th>scaled_time</th>\n",
       "    </tr>\n",
       "  </thead>\n",
       "  <tbody>\n",
       "    <tr>\n",
       "      <th>0</th>\n",
       "      <td>-1.359807</td>\n",
       "      <td>-0.072781</td>\n",
       "      <td>2.536347</td>\n",
       "      <td>1.378155</td>\n",
       "      <td>-0.338321</td>\n",
       "      <td>0.462388</td>\n",
       "      <td>0.239599</td>\n",
       "      <td>0.098698</td>\n",
       "      <td>0.363787</td>\n",
       "      <td>0.090794</td>\n",
       "      <td>...</td>\n",
       "      <td>0.277838</td>\n",
       "      <td>-0.110474</td>\n",
       "      <td>0.066928</td>\n",
       "      <td>0.128539</td>\n",
       "      <td>-0.189115</td>\n",
       "      <td>0.133558</td>\n",
       "      <td>-0.021053</td>\n",
       "      <td>0</td>\n",
       "      <td>1.783274</td>\n",
       "      <td>-0.994983</td>\n",
       "    </tr>\n",
       "    <tr>\n",
       "      <th>1</th>\n",
       "      <td>1.191857</td>\n",
       "      <td>0.266151</td>\n",
       "      <td>0.166480</td>\n",
       "      <td>0.448154</td>\n",
       "      <td>0.060018</td>\n",
       "      <td>-0.082361</td>\n",
       "      <td>-0.078803</td>\n",
       "      <td>0.085102</td>\n",
       "      <td>-0.255425</td>\n",
       "      <td>-0.166974</td>\n",
       "      <td>...</td>\n",
       "      <td>-0.638672</td>\n",
       "      <td>0.101288</td>\n",
       "      <td>-0.339846</td>\n",
       "      <td>0.167170</td>\n",
       "      <td>0.125895</td>\n",
       "      <td>-0.008983</td>\n",
       "      <td>0.014724</td>\n",
       "      <td>0</td>\n",
       "      <td>-0.269825</td>\n",
       "      <td>-0.994983</td>\n",
       "    </tr>\n",
       "    <tr>\n",
       "      <th>2</th>\n",
       "      <td>-1.358354</td>\n",
       "      <td>-1.340163</td>\n",
       "      <td>1.773209</td>\n",
       "      <td>0.379780</td>\n",
       "      <td>-0.503198</td>\n",
       "      <td>1.800499</td>\n",
       "      <td>0.791461</td>\n",
       "      <td>0.247676</td>\n",
       "      <td>-1.514654</td>\n",
       "      <td>0.207643</td>\n",
       "      <td>...</td>\n",
       "      <td>0.771679</td>\n",
       "      <td>0.909412</td>\n",
       "      <td>-0.689281</td>\n",
       "      <td>-0.327642</td>\n",
       "      <td>-0.139097</td>\n",
       "      <td>-0.055353</td>\n",
       "      <td>-0.059752</td>\n",
       "      <td>0</td>\n",
       "      <td>4.983721</td>\n",
       "      <td>-0.994972</td>\n",
       "    </tr>\n",
       "    <tr>\n",
       "      <th>3</th>\n",
       "      <td>-0.966272</td>\n",
       "      <td>-0.185226</td>\n",
       "      <td>1.792993</td>\n",
       "      <td>-0.863291</td>\n",
       "      <td>-0.010309</td>\n",
       "      <td>1.247203</td>\n",
       "      <td>0.237609</td>\n",
       "      <td>0.377436</td>\n",
       "      <td>-1.387024</td>\n",
       "      <td>-0.054952</td>\n",
       "      <td>...</td>\n",
       "      <td>0.005274</td>\n",
       "      <td>-0.190321</td>\n",
       "      <td>-1.175575</td>\n",
       "      <td>0.647376</td>\n",
       "      <td>-0.221929</td>\n",
       "      <td>0.062723</td>\n",
       "      <td>0.061458</td>\n",
       "      <td>0</td>\n",
       "      <td>1.418291</td>\n",
       "      <td>-0.994972</td>\n",
       "    </tr>\n",
       "    <tr>\n",
       "      <th>4</th>\n",
       "      <td>-1.158233</td>\n",
       "      <td>0.877737</td>\n",
       "      <td>1.548718</td>\n",
       "      <td>0.403034</td>\n",
       "      <td>-0.407193</td>\n",
       "      <td>0.095921</td>\n",
       "      <td>0.592941</td>\n",
       "      <td>-0.270533</td>\n",
       "      <td>0.817739</td>\n",
       "      <td>0.753074</td>\n",
       "      <td>...</td>\n",
       "      <td>0.798278</td>\n",
       "      <td>-0.137458</td>\n",
       "      <td>0.141267</td>\n",
       "      <td>-0.206010</td>\n",
       "      <td>0.502292</td>\n",
       "      <td>0.219422</td>\n",
       "      <td>0.215153</td>\n",
       "      <td>0</td>\n",
       "      <td>0.670579</td>\n",
       "      <td>-0.994960</td>\n",
       "    </tr>\n",
       "  </tbody>\n",
       "</table>\n",
       "<p>5 rows × 31 columns</p>\n",
       "</div>"
      ],
      "text/plain": [
       "         V1        V2        V3        V4        V5        V6        V7  \\\n",
       "0 -1.359807 -0.072781  2.536347  1.378155 -0.338321  0.462388  0.239599   \n",
       "1  1.191857  0.266151  0.166480  0.448154  0.060018 -0.082361 -0.078803   \n",
       "2 -1.358354 -1.340163  1.773209  0.379780 -0.503198  1.800499  0.791461   \n",
       "3 -0.966272 -0.185226  1.792993 -0.863291 -0.010309  1.247203  0.237609   \n",
       "4 -1.158233  0.877737  1.548718  0.403034 -0.407193  0.095921  0.592941   \n",
       "\n",
       "         V8        V9       V10     ...            V22       V23       V24  \\\n",
       "0  0.098698  0.363787  0.090794     ...       0.277838 -0.110474  0.066928   \n",
       "1  0.085102 -0.255425 -0.166974     ...      -0.638672  0.101288 -0.339846   \n",
       "2  0.247676 -1.514654  0.207643     ...       0.771679  0.909412 -0.689281   \n",
       "3  0.377436 -1.387024 -0.054952     ...       0.005274 -0.190321 -1.175575   \n",
       "4 -0.270533  0.817739  0.753074     ...       0.798278 -0.137458  0.141267   \n",
       "\n",
       "        V25       V26       V27       V28  Class  scaled_amount  scaled_time  \n",
       "0  0.128539 -0.189115  0.133558 -0.021053      0       1.783274    -0.994983  \n",
       "1  0.167170  0.125895 -0.008983  0.014724      0      -0.269825    -0.994983  \n",
       "2 -0.327642 -0.139097 -0.055353 -0.059752      0       4.983721    -0.994972  \n",
       "3  0.647376 -0.221929  0.062723  0.061458      0       1.418291    -0.994972  \n",
       "4 -0.206010  0.502292  0.219422  0.215153      0       0.670579    -0.994960  \n",
       "\n",
       "[5 rows x 31 columns]"
      ]
     },
     "execution_count": 11,
     "metadata": {},
     "output_type": "execute_result"
    }
   ],
   "source": [
    "# Scale \"Time\" and \"Amount\"\n",
    "from sklearn.preprocessing import StandardScaler, RobustScaler\n",
    "df['scaled_amount'] = RobustScaler().fit_transform(df['Amount'].values.reshape(-1,1))\n",
    "df['scaled_time'] = RobustScaler().fit_transform(df['Time'].values.reshape(-1,1))\n",
    "\n",
    "# Make a new dataset named \"df_scaled\" dropping out original \"Time\" and \"Amount\"\n",
    "df_scaled = df.drop(['Time','Amount'],axis = 1,inplace=False)\n",
    "df_scaled.head()\n"
   ]
  },
  {
   "cell_type": "code",
   "execution_count": 12,
   "metadata": {},
   "outputs": [
    {
     "data": {
      "text/html": [
       "<div>\n",
       "<style scoped>\n",
       "    .dataframe tbody tr th:only-of-type {\n",
       "        vertical-align: middle;\n",
       "    }\n",
       "\n",
       "    .dataframe tbody tr th {\n",
       "        vertical-align: top;\n",
       "    }\n",
       "\n",
       "    .dataframe thead th {\n",
       "        text-align: right;\n",
       "    }\n",
       "</style>\n",
       "<table border=\"1\" class=\"dataframe\">\n",
       "  <thead>\n",
       "    <tr style=\"text-align: right;\">\n",
       "      <th></th>\n",
       "      <th>V1</th>\n",
       "      <th>V2</th>\n",
       "      <th>V3</th>\n",
       "      <th>V4</th>\n",
       "      <th>V5</th>\n",
       "      <th>V6</th>\n",
       "      <th>V7</th>\n",
       "      <th>V8</th>\n",
       "      <th>V9</th>\n",
       "      <th>V10</th>\n",
       "      <th>...</th>\n",
       "      <th>V22</th>\n",
       "      <th>V23</th>\n",
       "      <th>V24</th>\n",
       "      <th>V25</th>\n",
       "      <th>V26</th>\n",
       "      <th>V27</th>\n",
       "      <th>V28</th>\n",
       "      <th>Class</th>\n",
       "      <th>Amount</th>\n",
       "      <th>Time</th>\n",
       "    </tr>\n",
       "  </thead>\n",
       "  <tbody>\n",
       "    <tr>\n",
       "      <th>0</th>\n",
       "      <td>-1.359807</td>\n",
       "      <td>-0.072781</td>\n",
       "      <td>2.536347</td>\n",
       "      <td>1.378155</td>\n",
       "      <td>-0.338321</td>\n",
       "      <td>0.462388</td>\n",
       "      <td>0.239599</td>\n",
       "      <td>0.098698</td>\n",
       "      <td>0.363787</td>\n",
       "      <td>0.090794</td>\n",
       "      <td>...</td>\n",
       "      <td>0.277838</td>\n",
       "      <td>-0.110474</td>\n",
       "      <td>0.066928</td>\n",
       "      <td>0.128539</td>\n",
       "      <td>-0.189115</td>\n",
       "      <td>0.133558</td>\n",
       "      <td>-0.021053</td>\n",
       "      <td>0</td>\n",
       "      <td>1.783274</td>\n",
       "      <td>-0.994983</td>\n",
       "    </tr>\n",
       "    <tr>\n",
       "      <th>1</th>\n",
       "      <td>1.191857</td>\n",
       "      <td>0.266151</td>\n",
       "      <td>0.166480</td>\n",
       "      <td>0.448154</td>\n",
       "      <td>0.060018</td>\n",
       "      <td>-0.082361</td>\n",
       "      <td>-0.078803</td>\n",
       "      <td>0.085102</td>\n",
       "      <td>-0.255425</td>\n",
       "      <td>-0.166974</td>\n",
       "      <td>...</td>\n",
       "      <td>-0.638672</td>\n",
       "      <td>0.101288</td>\n",
       "      <td>-0.339846</td>\n",
       "      <td>0.167170</td>\n",
       "      <td>0.125895</td>\n",
       "      <td>-0.008983</td>\n",
       "      <td>0.014724</td>\n",
       "      <td>0</td>\n",
       "      <td>-0.269825</td>\n",
       "      <td>-0.994983</td>\n",
       "    </tr>\n",
       "    <tr>\n",
       "      <th>2</th>\n",
       "      <td>-1.358354</td>\n",
       "      <td>-1.340163</td>\n",
       "      <td>1.773209</td>\n",
       "      <td>0.379780</td>\n",
       "      <td>-0.503198</td>\n",
       "      <td>1.800499</td>\n",
       "      <td>0.791461</td>\n",
       "      <td>0.247676</td>\n",
       "      <td>-1.514654</td>\n",
       "      <td>0.207643</td>\n",
       "      <td>...</td>\n",
       "      <td>0.771679</td>\n",
       "      <td>0.909412</td>\n",
       "      <td>-0.689281</td>\n",
       "      <td>-0.327642</td>\n",
       "      <td>-0.139097</td>\n",
       "      <td>-0.055353</td>\n",
       "      <td>-0.059752</td>\n",
       "      <td>0</td>\n",
       "      <td>4.983721</td>\n",
       "      <td>-0.994972</td>\n",
       "    </tr>\n",
       "    <tr>\n",
       "      <th>3</th>\n",
       "      <td>-0.966272</td>\n",
       "      <td>-0.185226</td>\n",
       "      <td>1.792993</td>\n",
       "      <td>-0.863291</td>\n",
       "      <td>-0.010309</td>\n",
       "      <td>1.247203</td>\n",
       "      <td>0.237609</td>\n",
       "      <td>0.377436</td>\n",
       "      <td>-1.387024</td>\n",
       "      <td>-0.054952</td>\n",
       "      <td>...</td>\n",
       "      <td>0.005274</td>\n",
       "      <td>-0.190321</td>\n",
       "      <td>-1.175575</td>\n",
       "      <td>0.647376</td>\n",
       "      <td>-0.221929</td>\n",
       "      <td>0.062723</td>\n",
       "      <td>0.061458</td>\n",
       "      <td>0</td>\n",
       "      <td>1.418291</td>\n",
       "      <td>-0.994972</td>\n",
       "    </tr>\n",
       "    <tr>\n",
       "      <th>4</th>\n",
       "      <td>-1.158233</td>\n",
       "      <td>0.877737</td>\n",
       "      <td>1.548718</td>\n",
       "      <td>0.403034</td>\n",
       "      <td>-0.407193</td>\n",
       "      <td>0.095921</td>\n",
       "      <td>0.592941</td>\n",
       "      <td>-0.270533</td>\n",
       "      <td>0.817739</td>\n",
       "      <td>0.753074</td>\n",
       "      <td>...</td>\n",
       "      <td>0.798278</td>\n",
       "      <td>-0.137458</td>\n",
       "      <td>0.141267</td>\n",
       "      <td>-0.206010</td>\n",
       "      <td>0.502292</td>\n",
       "      <td>0.219422</td>\n",
       "      <td>0.215153</td>\n",
       "      <td>0</td>\n",
       "      <td>0.670579</td>\n",
       "      <td>-0.994960</td>\n",
       "    </tr>\n",
       "  </tbody>\n",
       "</table>\n",
       "<p>5 rows × 31 columns</p>\n",
       "</div>"
      ],
      "text/plain": [
       "         V1        V2        V3        V4        V5        V6        V7  \\\n",
       "0 -1.359807 -0.072781  2.536347  1.378155 -0.338321  0.462388  0.239599   \n",
       "1  1.191857  0.266151  0.166480  0.448154  0.060018 -0.082361 -0.078803   \n",
       "2 -1.358354 -1.340163  1.773209  0.379780 -0.503198  1.800499  0.791461   \n",
       "3 -0.966272 -0.185226  1.792993 -0.863291 -0.010309  1.247203  0.237609   \n",
       "4 -1.158233  0.877737  1.548718  0.403034 -0.407193  0.095921  0.592941   \n",
       "\n",
       "         V8        V9       V10    ...          V22       V23       V24  \\\n",
       "0  0.098698  0.363787  0.090794    ...     0.277838 -0.110474  0.066928   \n",
       "1  0.085102 -0.255425 -0.166974    ...    -0.638672  0.101288 -0.339846   \n",
       "2  0.247676 -1.514654  0.207643    ...     0.771679  0.909412 -0.689281   \n",
       "3  0.377436 -1.387024 -0.054952    ...     0.005274 -0.190321 -1.175575   \n",
       "4 -0.270533  0.817739  0.753074    ...     0.798278 -0.137458  0.141267   \n",
       "\n",
       "        V25       V26       V27       V28  Class    Amount      Time  \n",
       "0  0.128539 -0.189115  0.133558 -0.021053      0  1.783274 -0.994983  \n",
       "1  0.167170  0.125895 -0.008983  0.014724      0 -0.269825 -0.994983  \n",
       "2 -0.327642 -0.139097 -0.055353 -0.059752      0  4.983721 -0.994972  \n",
       "3  0.647376 -0.221929  0.062723  0.061458      0  1.418291 -0.994972  \n",
       "4 -0.206010  0.502292  0.219422  0.215153      0  0.670579 -0.994960  \n",
       "\n",
       "[5 rows x 31 columns]"
      ]
     },
     "execution_count": 12,
     "metadata": {},
     "output_type": "execute_result"
    }
   ],
   "source": [
    "#Renaming dataframe to original names\n",
    "df_scaled.rename(columns = {'scaled_amount':'Amount', 'scaled_time':'Time'}, inplace = True)\n",
    "df = df_scaled\n",
    "df.head()"
   ]
  },
  {
   "cell_type": "code",
   "execution_count": 13,
   "metadata": {
    "colab": {
     "base_uri": "https://localhost:8080/",
     "height": 52
    },
    "colab_type": "code",
    "executionInfo": {
     "elapsed": 3913,
     "status": "ok",
     "timestamp": 1586080106893,
     "user": {
      "displayName": "rajat ranka",
      "photoUrl": "https://lh3.googleusercontent.com/a-/AOh14Gj6z6RcAbCR-8r7OHC2Bib-bv68b7-SdWHe_Sthwg=s64",
      "userId": "14533948719867473044"
     },
     "user_tz": -330
    },
    "id": "W8LkyWOhzYW_",
    "outputId": "ea0fd1a9-8269-4142-c1ed-126b8bc3b445"
   },
   "outputs": [
    {
     "data": {
      "text/plain": [
       "PCA(copy=True, iterated_power='auto', n_components=None, random_state=42,\n",
       "    svd_solver='randomized', tol=0.0, whiten=False)"
      ]
     },
     "execution_count": 13,
     "metadata": {},
     "output_type": "execute_result"
    }
   ],
   "source": [
    "#Using PCA for the most important variables\n",
    "from sklearn.decomposition import PCA\n",
    "pca = PCA(svd_solver='randomized', random_state=42)\n",
    "pca.fit(df.drop(columns=[\"Time\",\"Class\"]))\n"
   ]
  },
  {
   "cell_type": "code",
   "execution_count": 14,
   "metadata": {
    "colab": {
     "base_uri": "https://localhost:8080/",
     "height": 1000
    },
    "colab_type": "code",
    "executionInfo": {
     "elapsed": 1317,
     "status": "ok",
     "timestamp": 1586080109906,
     "user": {
      "displayName": "rajat ranka",
      "photoUrl": "https://lh3.googleusercontent.com/a-/AOh14Gj6z6RcAbCR-8r7OHC2Bib-bv68b7-SdWHe_Sthwg=s64",
      "userId": "14533948719867473044"
     },
     "user_tz": -330
    },
    "id": "PmzXuO1XoG2o",
    "outputId": "19d40f80-0a09-4f74-ffca-07a1dbbb3538"
   },
   "outputs": [
    {
     "data": {
      "text/plain": [
       "array([[-1.40696518e-01, -2.49835057e-01, -8.77373101e-02,\n",
       "         3.74253155e-02, -1.41602941e-01,  7.56014882e-02,\n",
       "         1.26628136e-01, -3.14577235e-02, -1.22094440e-02,\n",
       "        -2.77138634e-02,  2.63203689e-05, -2.35663787e-03,\n",
       "         1.30145240e-03,  7.94892974e-03, -6.67361837e-04,\n",
       "        -8.32132335e-04,  1.50269278e-03,  7.22301007e-03,\n",
       "        -1.10161889e-02,  6.27417474e-02,  1.85942459e-02,\n",
       "        -1.12200924e-02, -1.66142053e-02,  7.34998898e-04,\n",
       "        -5.84005766e-03, -3.61283294e-04,  2.70362287e-03,\n",
       "         7.83794151e-04,  9.27364982e-01],\n",
       "       [-9.71465172e-01,  2.00116577e-01,  5.11391083e-02,\n",
       "        -1.85461694e-02,  6.68902325e-02, -3.36924270e-02,\n",
       "        -5.11569780e-02,  1.22359539e-02,  4.41115402e-03,\n",
       "         9.94505088e-03, -9.03963034e-06,  7.99157868e-04,\n",
       "        -4.40336245e-04, -2.63524187e-03,  2.16365644e-04,\n",
       "         2.64803724e-04, -4.72451523e-04, -2.25999090e-03,\n",
       "         3.41215584e-03, -1.91068923e-02, -5.58789246e-03,\n",
       "         3.36146493e-03,  4.82191728e-03, -2.12207727e-04,\n",
       "         1.65113693e-03,  1.01286163e-04, -7.46903094e-04,\n",
       "        -2.14130530e-04, -6.55431578e-02],\n",
       "       [ 7.69694294e-02,  7.06644618e-01, -6.22846870e-01,\n",
       "         8.12250760e-02, -2.50396209e-01,  1.08027919e-01,\n",
       "         1.34037590e-01, -3.00763348e-02, -9.73385407e-03,\n",
       "        -2.17488701e-02,  1.87132687e-05, -1.62986057e-03,\n",
       "         8.95706816e-04,  5.23873762e-03, -4.19904102e-04,\n",
       "        -5.04099193e-04,  8.88571433e-04,  4.23032323e-03,\n",
       "        -6.32457937e-03,  3.48520545e-02,  1.00691352e-02,\n",
       "        -6.04036916e-03, -8.42722943e-03,  3.69241841e-04,\n",
       "        -2.82367618e-03, -1.72043324e-04,  1.25408549e-03,\n",
       "         3.56465401e-04,  6.97368176e-02],\n",
       "       [ 6.52451970e-02,  3.96233588e-01,  7.38289259e-01,\n",
       "         1.76342493e-01, -4.41619316e-01,  1.64474836e-01,\n",
       "         1.77575179e-01, -3.84644240e-02, -1.18134894e-02,\n",
       "        -2.62901814e-02,  2.20991389e-05, -1.91317349e-03,\n",
       "         1.05030562e-03,  6.08780757e-03, -4.83521900e-04,\n",
       "        -5.76361951e-04,  1.01151913e-03,  4.80747744e-03,\n",
       "        -7.16256636e-03,  3.92506706e-02,  1.12929417e-02,\n",
       "        -6.76815843e-03, -9.35626532e-03,  4.09363374e-04,\n",
       "        -3.11326026e-03, -1.89284152e-04,  1.37481799e-03,\n",
       "         3.89758513e-04,  6.87041722e-02],\n",
       "       [-9.79968052e-03, -4.86711503e-02, -4.30092196e-02,\n",
       "         9.68588869e-01,  2.29603918e-01, -5.18869951e-02,\n",
       "        -4.23631990e-02,  8.68449668e-03,  2.47853943e-03,\n",
       "         5.48701791e-03, -4.47767449e-06,  3.84778483e-04,\n",
       "        -2.10969013e-04, -1.20960711e-03,  9.50409489e-05,\n",
       "         1.12358642e-04, -1.96204727e-04, -9.30704526e-04,\n",
       "         1.38119894e-03, -7.52178738e-03, -2.15415896e-03,\n",
       "         1.28970566e-03,  1.76507113e-03, -7.71078987e-05,\n",
       "         5.82951319e-04,  3.53628444e-05, -2.55875471e-04,\n",
       "        -7.23402897e-05, -1.15525049e-02],\n",
       "       [-2.14815906e-02, -9.34051855e-02, -6.37919673e-02,\n",
       "         7.00001828e-02, -5.46015239e-01, -8.07176634e-01,\n",
       "        -1.71756412e-01,  3.13561098e-02,  7.87231663e-03,\n",
       "         1.72851265e-02, -1.34915305e-05,  1.14709356e-03,\n",
       "        -6.27799668e-04, -3.54522636e-03,  2.74484427e-04,\n",
       "         3.20948919e-04, -5.56778485e-04, -2.63444909e-03,\n",
       "         3.88978928e-03, -2.10146022e-02, -5.98339634e-03,\n",
       "         3.57762812e-03,  4.83573367e-03, -2.10852883e-04,\n",
       "         1.58267177e-03,  9.57464360e-05, -6.89658024e-04,\n",
       "        -1.94340659e-04, -2.79300044e-02],\n",
       "       [-3.94080326e-02, -1.58167247e-01, -9.62012173e-02,\n",
       "         7.79521010e-02, -4.18114711e-01,  4.80560543e-01,\n",
       "        -7.30601884e-01,  1.01486888e-01,  2.06470533e-02,\n",
       "         4.48254577e-02, -3.30321891e-05,  2.77247087e-03,\n",
       "        -1.51407968e-03, -8.39870946e-03,  6.39458891e-04,\n",
       "         7.38654684e-04, -1.27228175e-03, -6.00359993e-03,\n",
       "         8.81635908e-03, -4.72310481e-02, -1.33667285e-02,\n",
       "         7.98158706e-03,  1.06526604e-02, -4.63610728e-04,\n",
       "         3.45511247e-03,  2.08463368e-04, -1.49491349e-03,\n",
       "        -4.19921072e-04, -5.50286999e-02],\n",
       "       [ 7.28636380e-03,  2.66161723e-02,  1.44802943e-02,\n",
       "        -9.58117207e-03,  4.42355349e-02, -3.29112191e-02,\n",
       "        -1.95114224e-01, -9.78328494e-01, -8.51003534e-03,\n",
       "        -1.76644723e-02,  1.07040700e-05, -8.65101399e-04,\n",
       "         4.69544019e-04,  2.48031466e-03, -1.80892981e-04,\n",
       "        -2.02831743e-04,  3.43512923e-04,  1.61076437e-03,\n",
       "        -2.33615521e-03,  1.22812750e-02,  3.42991820e-03,\n",
       "        -2.04214000e-03, -2.65345827e-03,  1.15028793e-04,\n",
       "        -8.44852070e-04, -5.06998205e-05,  3.60381013e-04,\n",
       "         1.00600796e-04,  1.12419952e-02],\n",
       "       [-1.34567110e-02, -4.58596692e-02, -2.32812892e-02,\n",
       "         1.39538440e-02, -6.08707537e-02,  4.04266195e-02,\n",
       "         1.21951196e-01, -4.52885981e-02,  9.24909479e-01,\n",
       "         3.42477580e-01, -4.96546796e-05,  3.54965988e-03,\n",
       "        -1.89182053e-03, -8.76893629e-03,  5.79825379e-04,\n",
       "         6.12064663e-04, -1.00395603e-03, -4.65356615e-03,\n",
       "         6.60096359e-03, -3.36000387e-02, -9.18236176e-03,\n",
       "         5.44167815e-03,  6.78413133e-03, -2.92390800e-04,\n",
       "         2.10255404e-03,  1.25215213e-04, -8.79184852e-04,\n",
       "        -2.43338986e-04, -2.26636055e-02],\n",
       "       [ 1.42987288e-02,  4.85230810e-02,  2.45368408e-02,\n",
       "        -1.46309928e-02,  6.36516046e-02, -4.20637369e-02,\n",
       "        -1.24369109e-01,  4.51877379e-02,  3.68762355e-01,\n",
       "        -9.13766068e-01,  5.83505550e-05, -4.08821456e-03,\n",
       "         2.17285979e-03,  9.89055884e-03, -6.46223040e-04,\n",
       "        -6.77576631e-04,  1.10765364e-03,  5.12809588e-03,\n",
       "        -7.25768206e-03,  3.68256036e-02,  1.00429844e-02,\n",
       "        -5.94908894e-03, -7.38856001e-03,  3.18275348e-04,\n",
       "        -2.28441419e-03, -1.35955417e-04,  9.53588564e-04,\n",
       "         2.63740744e-04,  2.42222686e-02],\n",
       "       [ 2.85508186e-05,  9.31672398e-05,  4.54998727e-05,\n",
       "        -2.59733145e-05,  1.10513973e-04, -7.02178513e-05,\n",
       "        -1.79980504e-04,  5.72616909e-05,  5.26591738e-05,\n",
       "         1.37551847e-04,  9.99999947e-01, -3.92530849e-05,\n",
       "         1.83776802e-05,  4.70754326e-05, -2.39604820e-06,\n",
       "        -2.23636690e-06,  3.46524832e-06,  1.57540421e-05,\n",
       "        -2.15644487e-05,  1.04593204e-04,  2.77278197e-05,\n",
       "        -1.63285692e-05, -1.93010893e-05,  8.25982624e-07,\n",
       "        -5.79253057e-06, -3.41957261e-07,  2.36811185e-06,\n",
       "         6.49317609e-07,  5.11857494e-05],\n",
       "       [ 3.25717063e-03,  1.05231945e-02,  5.09579006e-03,\n",
       "        -2.87961874e-03,  1.21920224e-02, -7.68144535e-03,\n",
       "        -1.91546775e-02,  5.96311058e-03,  4.83428248e-03,\n",
       "         1.22492037e-02, -5.08516081e-05, -9.99276941e-01,\n",
       "         1.35966663e-02,  8.41354759e-03, -3.52247605e-04,\n",
       "        -3.07638656e-04,  4.64080325e-04,  2.09173130e-03,\n",
       "        -2.81987857e-03,  1.34134312e-02,  3.51489605e-03,\n",
       "        -2.06501364e-03, -2.39491460e-03,  1.02240353e-04,\n",
       "        -7.10991581e-04, -4.18522078e-05,  2.88543065e-04,\n",
       "         7.88800660e-05,  5.92981733e-03],\n",
       "       [-1.82805804e-03, -5.89544955e-03, -2.85052997e-03,\n",
       "         1.60796243e-03, -6.80208126e-03,  4.27932307e-03,\n",
       "         1.06214203e-02, -3.29477786e-03, -2.62060479e-03,\n",
       "        -6.61227221e-03,  2.41676298e-05, -1.43104893e-02,\n",
       "        -9.99698787e-01, -5.26138230e-03,  2.08588287e-04,\n",
       "         1.79336781e-04, -2.68922495e-04, -1.20982617e-03,\n",
       "         1.62563797e-03, -7.70110886e-03, -2.01318963e-03,\n",
       "         1.18218586e-03,  1.36578065e-03, -5.82776822e-05,\n",
       "         4.04593892e-04,  2.38027448e-05, -1.63960461e-04,\n",
       "        -4.47963062e-05, -3.33740253e-03],\n",
       "       [-1.73567939e-02, -5.51527093e-02, -2.63424781e-02,\n",
       "         1.46495213e-02, -6.15498303e-02,  3.82825803e-02,\n",
       "         9.17040110e-02, -2.77075623e-02, -1.93842483e-02,\n",
       "        -4.76591932e-02,  1.00944682e-04, -1.42688076e-02,\n",
       "         8.79371159e-03, -9.83637995e-01,  3.65317406e-03,\n",
       "         2.50915840e-03, -3.49759760e-03, -1.53949311e-02,\n",
       "         1.99371822e-02, -9.03722546e-02, -2.30449095e-02,\n",
       "         1.34660788e-02,  1.49723287e-02, -6.35856229e-04,\n",
       "         4.34415844e-03,  2.54199351e-04, -1.73660820e-03,\n",
       "        -4.71880772e-04, -3.24446301e-02],\n",
       "       [-5.47670884e-03, -1.71054297e-02, -8.05769340e-03,\n",
       "         4.41143698e-03, -1.83991512e-02,  1.13067799e-02,\n",
       "         2.61339746e-02, -7.70178212e-03, -4.84932933e-03,\n",
       "        -1.17041798e-02,  1.91604189e-05, -2.18725844e-03,\n",
       "         1.27064370e-03,  1.47069199e-02,  9.97998262e-01,\n",
       "         1.79977153e-03, -1.96150472e-03, -8.12797803e-03,\n",
       "         9.60400593e-03, -3.95528948e-02, -9.60791468e-03,\n",
       "         5.56290331e-03,  5.78129658e-03, -2.43605985e-04,\n",
       "         1.62170619e-03,  9.40948239e-05, -6.34684313e-04,\n",
       "        -1.71035998e-04, -1.05351703e-02],\n",
       "       [-8.29284178e-02, -2.57783428e-01, -1.20978085e-01,\n",
       "         6.59588438e-02, -2.74573066e-01,  1.68208374e-01,\n",
       "         3.85322139e-01, -1.12874913e-01, -6.94205386e-02,\n",
       "        -1.66911664e-01,  2.61129749e-04, -2.89682294e-02,\n",
       "         1.67149407e-02,  1.72375543e-01, -6.29621984e-02,\n",
       "         4.22408809e-02, -3.79150968e-02, -1.51499154e-01,\n",
       "         1.70440352e-01, -6.71326896e-01, -1.59792189e-01,\n",
       "         9.21770831e-02,  9.33618789e-02, -3.92283197e-03,\n",
       "         2.58762519e-02,  1.49701177e-03, -1.00538386e-02,\n",
       "        -2.70179532e-03, -1.60827091e-01],\n",
       "       [-3.06960557e-03, -9.46025634e-03, -4.41011375e-03,\n",
       "         2.38686738e-03, -9.90268639e-03,  6.03378028e-03,\n",
       "         1.36113900e-02, -3.94721615e-03, -2.33728304e-03,\n",
       "        -5.58627441e-03,  8.17739956e-06, -8.72999188e-04,\n",
       "         4.99358647e-04,  4.52050795e-03, -8.23921083e-04,\n",
       "        -9.99078649e-01, -2.82728408e-03, -9.67829807e-03,\n",
       "         9.18668018e-03, -3.18656203e-02, -7.20523305e-03,\n",
       "         4.11935834e-03,  3.93194883e-03, -1.64182427e-04,\n",
       "         1.06177641e-03,  6.10475484e-05, -4.06281815e-04,\n",
       "        -1.08553466e-04, -6.04294397e-03],\n",
       "       [ 2.10967289e-03,  6.44735707e-03,  2.98625379e-03,\n",
       "        -1.60498979e-03,  6.63777008e-03, -4.02403523e-03,\n",
       "        -8.95110761e-03,  2.57245856e-03,  1.47468879e-03,\n",
       "         3.50742894e-03, -4.87830980e-06,  5.06954198e-04,\n",
       "        -2.88280526e-04, -2.41235328e-03,  3.45611518e-04,\n",
       "         1.08469744e-03, -9.99042803e-01,  2.34923465e-02,\n",
       "        -1.14897870e-02,  3.03688942e-02,  6.31209334e-03,\n",
       "        -3.56010488e-03, -3.12796546e-03,  1.29562558e-04,\n",
       "        -8.17351151e-04, -4.66411756e-05,  3.07044683e-04,\n",
       "         8.14830992e-05,  4.21606814e-03],\n",
       "       [-8.00808936e-03, -2.43854754e-02, -1.12639128e-02,\n",
       "         6.03618082e-03, -2.49309857e-02,  1.50823543e-02,\n",
       "         3.33574106e-02, -9.55188659e-03, -5.40686475e-03,\n",
       "        -1.28358941e-02,  1.75214001e-05, -1.80386435e-03,\n",
       "         1.02372483e-03,  8.35282209e-03, -1.12336634e-03,\n",
       "        -2.87923138e-03,  1.70149744e-02,  9.85636007e-01,\n",
       "         6.74192644e-02, -1.38312231e-01, -2.71747267e-02,\n",
       "         1.51993728e-02,  1.27375025e-02, -5.25340383e-04,\n",
       "         3.27177042e-03,  1.85989012e-04, -1.21775807e-03,\n",
       "        -3.22087868e-04, -1.61087916e-02],\n",
       "       [-6.94755338e-03, -2.10093611e-02, -9.65382674e-03,\n",
       "         5.14466484e-03, -2.11960016e-02,  1.27724938e-02,\n",
       "         2.79494758e-02, -7.95034773e-03, -4.39950257e-03,\n",
       "        -1.04103842e-02,  1.37633792e-05, -1.39534759e-03,\n",
       "         7.89329040e-04,  6.19091052e-03, -7.61970464e-04,\n",
       "        -1.57707665e-03,  5.03297818e-03,  3.50409349e-02,\n",
       "        -9.77940971e-01, -1.96069902e-01, -3.18815491e-02,\n",
       "         1.74007963e-02,  1.28691228e-02, -5.25319830e-04,\n",
       "         3.17463267e-03,  1.78907452e-04, -1.15721797e-03,\n",
       "        -3.03821056e-04, -1.41558854e-02],\n",
       "       [-7.54060369e-03, -2.23785114e-02, -1.01419656e-02,\n",
       "         5.32754428e-03, -2.18105787e-02,  1.30130765e-02,\n",
       "         2.77396664e-02, -7.76651706e-03, -4.08188492e-03,\n",
       "        -9.59030882e-03,  1.18689205e-05, -1.16822106e-03,\n",
       "         6.56860430e-04,  4.80518401e-03, -5.17997989e-04,\n",
       "        -8.52429096e-04,  1.94946285e-03,  1.04992918e-02,\n",
       "        -2.14634473e-02,  2.90101331e-01, -9.43190800e-01,\n",
       "         1.49768983e-01,  2.53943802e-02, -9.78447561e-04,\n",
       "         5.09576859e-03,  2.76371247e-04, -1.69893276e-03,\n",
       "        -4.33120747e-04, -1.59264923e-02],\n",
       "       [ 3.81173397e-03,  1.12842747e-02,  5.10492611e-03,\n",
       "        -2.67669448e-03,  1.09494482e-02, -6.52481292e-03,\n",
       "        -1.38643662e-02,  3.87439263e-03,  2.02426206e-03,\n",
       "         4.75220202e-03, -5.83997651e-06,  5.73091856e-04,\n",
       "        -3.22041160e-04, -2.34026495e-03,  2.49440618e-04,\n",
       "         4.03912462e-04, -9.07745546e-04, -4.84091823e-03,\n",
       "         9.59807669e-03, -1.11557487e-01, -1.91122831e-01,\n",
       "        -9.74705749e-01, -1.44051411e-02,  5.46703030e-04,\n",
       "        -2.75124280e-03, -1.48044125e-04,  9.01093905e-04,\n",
       "         2.28471658e-04,  8.09015682e-03],\n",
       "       [ 2.13046942e-02,  6.19239546e-02,  2.76519342e-02,\n",
       "        -1.43094344e-02,  5.82040477e-02, -3.43831673e-02,\n",
       "        -7.14596767e-02,  1.97147445e-02,  9.90652714e-03,\n",
       "         2.31389169e-02, -2.72113596e-05,  2.62261258e-03,\n",
       "        -1.46848776e-03, -1.02684267e-02,  1.02881890e-03,\n",
       "         1.53630691e-03, -3.18883788e-03, -1.63112916e-02,\n",
       "         2.87683461e-02, -2.23193862e-01, -9.28783562e-02,\n",
       "         6.18957264e-02, -9.57642188e-01,  1.45298677e-02,\n",
       "        -3.14037913e-02, -1.49769224e-03,  7.98378823e-03,\n",
       "         1.89562405e-03,  4.69399940e-02],\n",
       "       [ 7.55329764e-04,  2.18486007e-03,  9.72373870e-04,\n",
       "        -5.01511279e-04,  2.03701316e-03, -1.20073257e-03,\n",
       "        -2.48208586e-03,  6.82680110e-04,  3.39965394e-04,\n",
       "         7.93158678e-04, -9.23839020e-07,  8.87022486e-05,\n",
       "        -4.96305481e-05, -3.44350317e-04,  3.40970378e-05,\n",
       "         5.01989670e-05, -1.02883168e-04, -5.23008317e-04,\n",
       "         9.07881686e-04, -6.75813277e-03, -2.64908177e-03,\n",
       "         1.72899712e-03,  1.78724312e-02,  9.99799394e-01,\n",
       "        -1.54080558e-03, -6.76931347e-05,  3.35279143e-04,\n",
       "         7.71558612e-05,  1.68123870e-03],\n",
       "       [ 1.52233297e-02,  4.35063249e-02,  1.92029680e-02,\n",
       "        -9.82385663e-03,  3.97650733e-02, -2.33181758e-02,\n",
       "        -4.75884741e-02,  1.29954643e-02,  6.33923709e-03,\n",
       "         1.47517425e-02, -1.68203481e-05,  1.60178209e-03,\n",
       "        -8.94797712e-04, -6.10643984e-03,  5.90131613e-04,\n",
       "         8.44717207e-04, -1.68993258e-03, -8.49261954e-03,\n",
       "         1.43267237e-02, -9.95510561e-02, -3.57548875e-02,\n",
       "         2.27003188e-02,  7.42561751e-02, -4.11825793e-03,\n",
       "        -9.86732568e-01, -4.45019134e-03,  1.26419421e-02,\n",
       "         2.48201084e-03,  3.47833051e-02],\n",
       "       [-1.26228837e-03, -3.58842280e-03, -1.57822118e-03,\n",
       "         8.04587891e-04, -3.25207994e-03,  1.90284523e-03,\n",
       "         3.86278142e-03, -1.05175951e-03, -5.08813379e-04,\n",
       "        -1.18283107e-03,  1.33758653e-06, -1.26978786e-04,\n",
       "         7.08909074e-05,  4.80805142e-04, -4.60570619e-05,\n",
       "        -6.52795217e-05,  1.29534271e-04,  6.48496260e-04,\n",
       "        -1.08397083e-03,  7.37714289e-03,  2.58704783e-03,\n",
       "        -1.63100146e-03, -4.55800305e-03,  2.36800658e-04,\n",
       "        -6.49296657e-03,  9.99905183e-01, -1.70410112e-03,\n",
       "        -2.79416662e-04, -2.91837125e-03],\n",
       "       [ 2.23891145e-02,  6.31315627e-02,  2.76153089e-02,\n",
       "        -1.40049419e-02,  5.64835153e-02, -3.29416830e-02,\n",
       "        -6.63478911e-02,  1.79878729e-02,  8.59848593e-03,\n",
       "         1.99597608e-02, -2.23092861e-05,  2.10864443e-03,\n",
       "        -1.17624993e-03, -7.91021614e-03,  7.48753604e-04,\n",
       "         1.04752132e-03, -2.05672743e-03, -1.02469409e-02,\n",
       "         1.69308890e-02, -1.12348883e-01, -3.83238099e-02,\n",
       "         2.39720194e-02,  5.76508310e-02, -2.84784304e-03,\n",
       "         4.31014962e-02,  4.22776625e-03,  9.80733313e-01,\n",
       "         1.11137543e-02,  5.27317551e-02],\n",
       "       [ 4.26929242e-02,  1.19620231e-01,  5.21058435e-02,\n",
       "        -2.63196200e-02,  1.05974334e-01, -6.16528311e-02,\n",
       "        -1.23446388e-01,  3.33619240e-02,  1.58087190e-02,\n",
       "         3.66585045e-02, -4.06338378e-05,  3.82889990e-03,\n",
       "        -2.13459655e-03, -1.42704967e-02,  1.33983716e-03,\n",
       "         1.85818988e-03, -3.62317440e-03, -1.79946183e-02,\n",
       "         2.95131892e-02, -1.92793419e-01, -6.46915773e-02,\n",
       "         4.02819514e-02,  8.96911154e-02, -4.33306433e-03,\n",
       "         5.50783127e-02,  4.51185960e-03, -7.87865670e-02,\n",
       "         9.35590947e-01,  1.02054618e-01],\n",
       "       [-1.15316164e-01, -3.22714645e-01, -1.40462167e-01,\n",
       "         7.08971267e-02, -2.85375127e-01,  1.65947183e-01,\n",
       "         3.31912828e-01, -8.96486368e-02, -4.24129022e-02,\n",
       "        -9.83317195e-02,  1.08831724e-04, -1.02495210e-02,\n",
       "         5.71346999e-03,  3.81563830e-02, -3.57730893e-03,\n",
       "        -4.95374517e-03,  9.64742425e-03,  4.78883895e-02,\n",
       "        -7.84431180e-02,  5.11072226e-01,  1.71023456e-01,\n",
       "        -1.06413303e-01, -2.34107985e-01,  1.12729845e-02,\n",
       "        -1.40033027e-01, -1.12498197e-02,  1.77766595e-01,\n",
       "         3.52883712e-01, -2.76436985e-01]])"
      ]
     },
     "execution_count": 14,
     "metadata": {},
     "output_type": "execute_result"
    }
   ],
   "source": [
    "pca.components_"
   ]
  },
  {
   "cell_type": "code",
   "execution_count": 15,
   "metadata": {
    "colab": {
     "base_uri": "https://localhost:8080/",
     "height": 159
    },
    "colab_type": "code",
    "executionInfo": {
     "elapsed": 1199,
     "status": "ok",
     "timestamp": 1586080126353,
     "user": {
      "displayName": "rajat ranka",
      "photoUrl": "https://lh3.googleusercontent.com/a-/AOh14Gj6z6RcAbCR-8r7OHC2Bib-bv68b7-SdWHe_Sthwg=s64",
      "userId": "14533948719867473044"
     },
     "user_tz": -330
    },
    "id": "D4CDdyYaocJx",
    "outputId": "c30e3a84-b642-4e90-f204-c069f6181cce"
   },
   "outputs": [
    {
     "data": {
      "text/plain": [
       "array([0.32856878, 0.08688211, 0.05644532, 0.0511104 , 0.04654249,\n",
       "       0.04213911, 0.03864742, 0.03333006, 0.02820122, 0.02784445,\n",
       "       0.02425914, 0.02325199, 0.02306644, 0.02148316, 0.01951023,\n",
       "       0.01893977, 0.01787664, 0.01679473, 0.01631858, 0.01537595,\n",
       "       0.0126696 , 0.01229441, 0.00936039, 0.0085414 , 0.00639867,\n",
       "       0.00541503, 0.00384441, 0.00256703, 0.00232111])"
      ]
     },
     "execution_count": 15,
     "metadata": {},
     "output_type": "execute_result"
    }
   ],
   "source": [
    "pca.explained_variance_ratio_"
   ]
  },
  {
   "cell_type": "code",
   "execution_count": 16,
   "metadata": {
    "colab": {
     "base_uri": "https://localhost:8080/",
     "height": 352
    },
    "colab_type": "code",
    "executionInfo": {
     "elapsed": 1322,
     "status": "ok",
     "timestamp": 1586080130593,
     "user": {
      "displayName": "rajat ranka",
      "photoUrl": "https://lh3.googleusercontent.com/a-/AOh14Gj6z6RcAbCR-8r7OHC2Bib-bv68b7-SdWHe_Sthwg=s64",
      "userId": "14533948719867473044"
     },
     "user_tz": -330
    },
    "id": "Fi4OCBdIoiFU",
    "outputId": "e9b7a85a-cd4b-4d8b-a710-cc1346ab7096"
   },
   "outputs": [
    {
     "data": {
      "text/plain": [
       "<function matplotlib.pyplot.show(*args, **kw)>"
      ]
     },
     "execution_count": 16,
     "metadata": {},
     "output_type": "execute_result"
    },
    {
     "data": {
      "image/png": "[encoded data removed]",
      "text/plain": [
       "<Figure size 360x360 with 1 Axes>"
      ]
     },
     "metadata": {
      "needs_background": "light"
     },
     "output_type": "display_data"
    }
   ],
   "source": [
    "#Making the screeplot - plotting the cumulative variance against the number of components\n",
    "%matplotlib inline\n",
    "fig = plt.figure(figsize = (5,5))\n",
    "plt.plot(np.cumsum(pca.explained_variance_ratio_))\n",
    "plt.xlabel('number of components')\n",
    "plt.ylabel('cumulative explained variance')\n",
    "plt.show"
   ]
  },
  {
   "cell_type": "markdown",
   "metadata": {},
   "source": [
    "### Here we can see that most variance is explained in first 6 components hence using Incremental PCA using first 6 variables"
   ]
  },
  {
   "cell_type": "code",
   "execution_count": 17,
   "metadata": {
    "colab": {},
    "colab_type": "code",
    "id": "aEOCcCRSvteG"
   },
   "outputs": [],
   "source": [
    "from sklearn.decomposition import IncrementalPCA\n",
    "pca_final = IncrementalPCA(n_components=6)"
   ]
  },
  {
   "cell_type": "code",
   "execution_count": 18,
   "metadata": {
    "colab": {
     "base_uri": "https://localhost:8080/",
     "height": 194
    },
    "colab_type": "code",
    "executionInfo": {
     "elapsed": 2885,
     "status": "ok",
     "timestamp": 1586108854100,
     "user": {
      "displayName": "rajat ranka",
      "photoUrl": "https://lh3.googleusercontent.com/a-/AOh14Gj6z6RcAbCR-8r7OHC2Bib-bv68b7-SdWHe_Sthwg=s64",
      "userId": "14533948719867473044"
     },
     "user_tz": -330
    },
    "id": "W9jo26-sv88S",
    "outputId": "50cc305f-928b-4c78-e7ef-9da7625f3b20"
   },
   "outputs": [
    {
     "data": {
      "text/html": [
       "<div>\n",
       "<style scoped>\n",
       "    .dataframe tbody tr th:only-of-type {\n",
       "        vertical-align: middle;\n",
       "    }\n",
       "\n",
       "    .dataframe tbody tr th {\n",
       "        vertical-align: top;\n",
       "    }\n",
       "\n",
       "    .dataframe thead th {\n",
       "        text-align: right;\n",
       "    }\n",
       "</style>\n",
       "<table border=\"1\" class=\"dataframe\">\n",
       "  <thead>\n",
       "    <tr style=\"text-align: right;\">\n",
       "      <th></th>\n",
       "      <th>0</th>\n",
       "      <th>1</th>\n",
       "      <th>2</th>\n",
       "      <th>3</th>\n",
       "      <th>4</th>\n",
       "      <th>5</th>\n",
       "    </tr>\n",
       "  </thead>\n",
       "  <tbody>\n",
       "    <tr>\n",
       "      <th>0</th>\n",
       "      <td>0.942536</td>\n",
       "      <td>-1.178131</td>\n",
       "      <td>-0.870333</td>\n",
       "      <td>2.523826</td>\n",
       "      <td>0.703187</td>\n",
       "      <td>0.000232</td>\n",
       "    </tr>\n",
       "    <tr>\n",
       "      <th>1</th>\n",
       "      <td>-1.370430</td>\n",
       "      <td>1.021048</td>\n",
       "      <td>0.270881</td>\n",
       "      <td>0.340091</td>\n",
       "      <td>-0.014860</td>\n",
       "      <td>-0.350153</td>\n",
       "    </tr>\n",
       "    <tr>\n",
       "      <th>2</th>\n",
       "      <td>4.498347</td>\n",
       "      <td>-0.591002</td>\n",
       "      <td>-1.298523</td>\n",
       "      <td>1.245888</td>\n",
       "      <td>0.366357</td>\n",
       "      <td>-0.015926</td>\n",
       "    </tr>\n",
       "    <tr>\n",
       "      <th>3</th>\n",
       "      <td>0.591053</td>\n",
       "      <td>-0.811798</td>\n",
       "      <td>-1.381200</td>\n",
       "      <td>0.253190</td>\n",
       "      <td>0.671843</td>\n",
       "      <td>0.165512</td>\n",
       "    </tr>\n",
       "    <tr>\n",
       "      <th>4</th>\n",
       "      <td>-0.293291</td>\n",
       "      <td>-1.326447</td>\n",
       "      <td>-0.080928</td>\n",
       "      <td>1.431827</td>\n",
       "      <td>1.107275</td>\n",
       "      <td>0.522687</td>\n",
       "    </tr>\n",
       "  </tbody>\n",
       "</table>\n",
       "</div>"
      ],
      "text/plain": [
       "          0         1         2         3         4         5\n",
       "0  0.942536 -1.178131 -0.870333  2.523826  0.703187  0.000232\n",
       "1 -1.370430  1.021048  0.270881  0.340091 -0.014860 -0.350153\n",
       "2  4.498347 -0.591002 -1.298523  1.245888  0.366357 -0.015926\n",
       "3  0.591053 -0.811798 -1.381200  0.253190  0.671843  0.165512\n",
       "4 -0.293291 -1.326447 -0.080928  1.431827  1.107275  0.522687"
      ]
     },
     "execution_count": 18,
     "metadata": {},
     "output_type": "execute_result"
    }
   ],
   "source": [
    "df_pca = pca_final.fit_transform(df.drop(columns = [\"Time\",\"Class\"]))\n",
    "df_pca_frame = pd.DataFrame(df_pca)\n",
    "df_pca_frame.head()"
   ]
  },
  {
   "cell_type": "markdown",
   "metadata": {
    "colab_type": "text",
    "id": "lrAIJHWUzYXG"
   },
   "source": [
    "### Splitting the data into train & test data"
   ]
  },
  {
   "cell_type": "code",
   "execution_count": 19,
   "metadata": {
    "colab": {},
    "colab_type": "code",
    "id": "Q6v0WW4HzYXI"
   },
   "outputs": [],
   "source": [
    "y= df[\"Class\"]\n",
    "x = df_pca_frame"
   ]
  },
  {
   "cell_type": "code",
   "execution_count": 20,
   "metadata": {
    "colab": {},
    "colab_type": "code",
    "id": "8Q8tm-phzYXN"
   },
   "outputs": [],
   "source": [
    "from sklearn.model_selection import train_test_split\n",
    "\n",
    "X_train, X_test, y_train, y_test = train_test_split(x,y,test_size = 0.3,random_state = 41)"
   ]
  },
  {
   "cell_type": "markdown",
   "metadata": {
    "colab_type": "text",
    "id": "dtM4R0VczYXV"
   },
   "source": [
    "##### Preserve X_test & y_test to evaluate on the test data once you build the model"
   ]
  },
  {
   "cell_type": "code",
   "execution_count": 21,
   "metadata": {
    "colab": {
     "base_uri": "https://localhost:8080/",
     "height": 70
    },
    "colab_type": "code",
    "executionInfo": {
     "elapsed": 837,
     "status": "ok",
     "timestamp": 1586108868230,
     "user": {
      "displayName": "rajat ranka",
      "photoUrl": "https://lh3.googleusercontent.com/a-/AOh14Gj6z6RcAbCR-8r7OHC2Bib-bv68b7-SdWHe_Sthwg=s64",
      "userId": "14533948719867473044"
     },
     "user_tz": -330
    },
    "id": "wOKCdldOzYXW",
    "outputId": "bc300b99-bff9-4a24-f990-a8d8022d2432"
   },
   "outputs": [
    {
     "name": "stdout",
     "output_type": "stream",
     "text": [
      "492\n",
      "348\n",
      "144\n"
     ]
    }
   ],
   "source": [
    "print(np.sum(y))\n",
    "print(np.sum(y_train))\n",
    "print(np.sum(y_test))"
   ]
  },
  {
   "cell_type": "markdown",
   "metadata": {
    "colab_type": "text",
    "id": "cZ4CRz5XzYXf"
   },
   "source": [
    "### Plotting the distribution of a variable"
   ]
  },
  {
   "cell_type": "code",
   "execution_count": 22,
   "metadata": {
    "colab": {
     "base_uri": "https://localhost:8080/",
     "height": 516
    },
    "colab_type": "code",
    "executionInfo": {
     "elapsed": 1915,
     "status": "ok",
     "timestamp": 1586108873385,
     "user": {
      "displayName": "rajat ranka",
      "photoUrl": "https://lh3.googleusercontent.com/a-/AOh14Gj6z6RcAbCR-8r7OHC2Bib-bv68b7-SdWHe_Sthwg=s64",
      "userId": "14533948719867473044"
     },
     "user_tz": -330
    },
    "id": "YyeNkoWPRmJR",
    "outputId": "90565914-a69c-40a8-ee3a-984d73def585"
   },
   "outputs": [
    {
     "data": {
      "text/plain": [
       "(array([1.0000e+00, 0.0000e+00, 1.0000e+00, 1.0000e+00, 1.0000e+00,\n",
       "        2.0000e+00, 1.9000e+01, 1.7000e+01, 4.0000e+01, 4.9000e+01,\n",
       "        5.5000e+01, 1.3300e+02, 5.0900e+02, 6.6650e+03, 2.5081e+04,\n",
       "        1.1932e+05, 4.6302e+04, 1.0690e+03, 7.1000e+01, 2.1000e+01,\n",
       "        3.0000e+00, 3.0000e+00, 0.0000e+00, 0.0000e+00, 0.0000e+00,\n",
       "        0.0000e+00, 0.0000e+00, 0.0000e+00, 0.0000e+00, 1.0000e+00]),\n",
       " array([-30.03220703, -28.09902852, -26.16585001, -24.23267149,\n",
       "        -22.29949298, -20.36631447, -18.43313596, -16.49995744,\n",
       "        -14.56677893, -12.63360042, -10.7004219 ,  -8.76724339,\n",
       "         -6.83406488,  -4.90088637,  -2.96770785,  -1.03452934,\n",
       "          0.89864917,   2.83182769,   4.7650062 ,   6.69818471,\n",
       "          8.63136323,  10.56454174,  12.49772025,  14.43089876,\n",
       "         16.36407728,  18.29725579,  20.2304343 ,  22.16361282,\n",
       "         24.09679133,  26.02996984,  27.96314835]),\n",
       " <a list of 30 Patch objects>)"
      ]
     },
     "execution_count": 22,
     "metadata": {},
     "output_type": "execute_result"
    },
    {
     "data": {
      "image/png": "[encoded data removed]",
      "text/plain": [
       "<Figure size 432x288 with 5 Axes>"
      ]
     },
     "metadata": {
      "needs_background": "light"
     },
     "output_type": "display_data"
    }
   ],
   "source": [
    "# plot the histogram of a variable from the dataset to see the skewness\n",
    "plt.subplot(3,2,1)\n",
    "plt.hist(X_train[0],bins =30)\n",
    "plt.subplot(3,2,2)\n",
    "plt.hist(X_train[1],bins =30)\n",
    "plt.subplot(3,2,3)\n",
    "plt.hist(X_train[2],bins =30)\n",
    "plt.subplot(3,2,4)\n",
    "plt.hist(X_train[3],bins =30)\n",
    "plt.subplot(3,2,5)\n",
    "plt.hist(X_train[4],bins = 30)"
   ]
  },
  {
   "cell_type": "markdown",
   "metadata": {},
   "source": [
    "### Here we can see that most data is Gaussian"
   ]
  },
  {
   "cell_type": "markdown",
   "metadata": {
    "colab_type": "text",
    "id": "4iWd7u4XzYXx"
   },
   "source": [
    "## Model Building\n",
    "- Build different models on the imbalanced dataset and see the result"
   ]
  },
  {
   "cell_type": "markdown",
   "metadata": {},
   "source": [
    "### 1. Logistic Regression Model"
   ]
  },
  {
   "cell_type": "code",
   "execution_count": 23,
   "metadata": {
    "colab": {
     "base_uri": "https://localhost:8080/",
     "height": 35
    },
    "colab_type": "code",
    "executionInfo": {
     "elapsed": 1269,
     "status": "ok",
     "timestamp": 1586112935291,
     "user": {
      "displayName": "rajat ranka",
      "photoUrl": "https://lh3.googleusercontent.com/a-/AOh14Gj6z6RcAbCR-8r7OHC2Bib-bv68b7-SdWHe_Sthwg=s64",
      "userId": "14533948719867473044"
     },
     "user_tz": -330
    },
    "id": "CE3NHA0TzYXx",
    "outputId": "84c43627-2880-4558-aa98-b3c0a8b9ff61",
    "scrolled": false
   },
   "outputs": [
    {
     "data": {
      "text/plain": [
       "0.9987660761220681"
      ]
     },
     "execution_count": 23,
     "metadata": {},
     "output_type": "execute_result"
    }
   ],
   "source": [
    "# Logistic Regression\n",
    "from sklearn import linear_model #import the package\n",
    "import statsmodels.api as sm\n",
    "logistic = linear_model.LogisticRegression(solver='liblinear')\n",
    "res = logistic.fit(X_train,y_train)\n",
    "res.score(X_train,y_train)"
   ]
  },
  {
   "cell_type": "code",
   "execution_count": 24,
   "metadata": {
    "colab": {},
    "colab_type": "code",
    "id": "af0qXqnpzYX2"
   },
   "outputs": [
    {
     "name": "stdout",
     "output_type": "stream",
     "text": [
      "Cross-validated scores: [0.99867582 0.99852534 0.99891654 0.99879616 0.99885635 0.99873597]\n"
     ]
    }
   ],
   "source": [
    "#perform cross validation\n",
    "from sklearn.model_selection import cross_val_score, cross_val_predict\n",
    "from sklearn import metrics\n",
    "scores = cross_val_score(logistic,X_train, y_train, cv=6)\n",
    "print(\"Cross-validated scores:\", scores)\n",
    "\n"
   ]
  },
  {
   "cell_type": "code",
   "execution_count": 25,
   "metadata": {},
   "outputs": [
    {
     "name": "stdout",
     "output_type": "stream",
     "text": [
      "Fitting 3 folds for each of 128 candidates, totalling 384 fits\n"
     ]
    },
    {
     "name": "stderr",
     "output_type": "stream",
     "text": [
      "C:\\Users\\kirti singhania\\Anaconda3\\lib\\site-packages\\sklearn\\model_selection\\_split.py:1978: FutureWarning: The default value of cv will change from 3 to 5 in version 0.22. Specify it explicitly to silence this warning.\n",
      "  warnings.warn(CV_WARNING, FutureWarning)\n",
      "[Parallel(n_jobs=-1)]: Using backend LokyBackend with 4 concurrent workers.\n",
      "[Parallel(n_jobs=-1)]: Done  42 tasks      | elapsed:   25.3s\n",
      "[Parallel(n_jobs=-1)]: Done 192 tasks      | elapsed:  3.2min\n",
      "[Parallel(n_jobs=-1)]: Done 384 out of 384 | elapsed:  7.5min finished\n"
     ]
    },
    {
     "name": "stdout",
     "output_type": "stream",
     "text": [
      "Best Score:  0.9589100789825746\n",
      "Best Params:  {'C': 0.0001, 'class_weight': {1: 0.7, 0: 0.3}, 'penalty': 'l2', 'solver': 'saga'}\n",
      "[[85295     4]\n",
      " [  122    22]]\n"
     ]
    },
    {
     "name": "stderr",
     "output_type": "stream",
     "text": [
      "C:\\Users\\kirti singhania\\Anaconda3\\lib\\site-packages\\sklearn\\linear_model\\sag.py:337: ConvergenceWarning: The max_iter was reached which means the coef_ did not converge\n",
      "  \"the coef_ did not converge\", ConvergenceWarning)\n"
     ]
    },
    {
     "data": {
      "text/plain": [
       "0.9999531061325455"
      ]
     },
     "execution_count": 25,
     "metadata": {},
     "output_type": "execute_result"
    }
   ],
   "source": [
    "#Building Logistic Regression Model with tunning of hyperparameter\n",
    "#perform hyperparameter tuning\n",
    "from sklearn.model_selection import GridSearchCV\n",
    "penalty = ['l1', 'l2']\n",
    "C = [0.0001, 0.001, 0.01, 0.1, 1, 10, 100, 1000]\n",
    "class_weight = [{1:0.5, 0:0.5}, {1:0.4, 0:0.6}, {1:0.6, 0:0.4}, {1:0.7, 0:0.3}]\n",
    "solver = ['liblinear', 'saga']\n",
    "\n",
    "param_grid = dict(penalty=penalty,\n",
    "                  C=C,\n",
    "                  class_weight=class_weight,\n",
    "                  solver=solver)\n",
    "\n",
    "grid_logit = GridSearchCV(estimator=logistic,\n",
    "                    param_grid=param_grid,\n",
    "                    scoring='roc_auc',\n",
    "                    verbose=1,\n",
    "                    n_jobs=-1)\n",
    "grid_logit_result = grid_logit.fit(X_train, y_train)\n",
    "\n",
    "print('Best Score: ', grid_logit_result.best_score_)\n",
    "print('Best Params: ', grid_logit_result.best_params_)\n",
    "from sklearn import metrics\n",
    "confusion = metrics.confusion_matrix(y_test, grid_logit_result.predict(X_test))\n",
    "print(confusion)\n",
    "# Let's evaluate the other metrics as well\n",
    "\n",
    "TP = confusion[1,1] # true positive \n",
    "TN = confusion[0,0] # true negatives\n",
    "FP = confusion[0,1] # false positives\n",
    "FN = confusion[1,0] # false negatives\n",
    "# Calculate the sensitivity\n",
    "\n",
    "TP/(TP+FN)\n",
    "# Calculate the specificity\n",
    "\n",
    "TN/(TN+FP)"
   ]
  },
  {
   "cell_type": "markdown",
   "metadata": {},
   "source": [
    "### 2. KNN Model"
   ]
  },
  {
   "cell_type": "code",
   "execution_count": null,
   "metadata": {},
   "outputs": [],
   "source": [
    "#knn model\n",
    "from sklearn.neighbors import KNeighborsClassifier\n",
    "neigh = KNeighborsClassifier()\n",
    "neigh.fit(X_train,y_train)"
   ]
  },
  {
   "cell_type": "code",
   "execution_count": null,
   "metadata": {},
   "outputs": [],
   "source": [
    "#Building knn with tunning of hyperparameter\n",
    "leaf_size = list(range(1,50))\n",
    "n_neighbors = list(range(1,30))\n",
    "p=[1,2]\n",
    "hyperparameters = dict(leaf_size=leaf_size, n_neighbors=n_neighbors, p=p)\n",
    "grid_knn = GridSearchCV(neigh, \n",
    "                   hyperparameters, cv=5)\n",
    "grid_knn_result = grid_knn.fit(X_train,y_train)\n",
    "print('Best Score: ', grid_knn_result.best_score_)\n",
    "print('Best Params: ', grid_knn_result.best_params_)\n",
    "confusion = metrics.confusion_matrix(y_test, grid_knn_result.predict(X_test))\n",
    "print(confusion)\n",
    "TP = confusion[1,1] # true positive \n",
    "TN = confusion[0,0] # true negatives\n",
    "FP = confusion[0,1] # false positives\n",
    "FN = confusion[1,0] # false negatives\n",
    "# Calculate the sensitivity\n",
    "\n",
    "TP/(TP+FN)\n",
    "# Calculate the specificity\n",
    "\n",
    "TN/(TN+FP)"
   ]
  },
  {
   "cell_type": "markdown",
   "metadata": {},
   "source": [
    "### 3.SVC Model"
   ]
  },
  {
   "cell_type": "code",
   "execution_count": null,
   "metadata": {},
   "outputs": [],
   "source": [
    "#svc model\n",
    "from sklearn.svm import SVC\n",
    "svc_clas = SVC(gamma='auto')\n",
    "svc_clas.fit(X_train,y_train)"
   ]
  },
  {
   "cell_type": "code",
   "execution_count": null,
   "metadata": {},
   "outputs": [],
   "source": [
    "#Building svc Model with tunning of hyperparameter\n",
    "param_grid = {'C': [0.1, 1, 10, 100, 1000],  \n",
    "              'gamma': [1, 0.1, 0.01, 0.001, 0.0001], \n",
    "              'kernel': ['rbf']}  \n",
    "  \n",
    "grid_svc = GridSearchCV(svc_clas, param_grid, refit = True, verbose = 3) \n",
    "  \n",
    "# fitting the model for grid search \n",
    "grid_svc_result = grid_svc.fit(X_train, y_train) \n",
    "print('Best Score: ', grid_svc_result.best_score_)\n",
    "print('Best Params: ', grid_svc_result.best_params_)\n",
    "confusion = metrics.confusion_matrix(y_test, grid_svc_result.predict(X_test))\n",
    "print(confusion)\n",
    "TP = confusion[1,1] # true positive \n",
    "TN = confusion[0,0] # true negatives\n",
    "FP = confusion[0,1] # false positives\n",
    "FN = confusion[1,0] # false negatives\n",
    "# Calculate the sensitivity\n",
    "\n",
    "TP/(TP+FN)\n",
    "# Calculate the specificity\n",
    "\n",
    "TN/(TN+FP)"
   ]
  },
  {
   "cell_type": "markdown",
   "metadata": {},
   "source": [
    "### 4. Decision Tree Model"
   ]
  },
  {
   "cell_type": "code",
   "execution_count": 32,
   "metadata": {},
   "outputs": [
    {
     "data": {
      "text/plain": [
       "DecisionTreeClassifier(class_weight=None, criterion='gini', max_depth=None,\n",
       "                       max_features=None, max_leaf_nodes=None,\n",
       "                       min_impurity_decrease=0.0, min_impurity_split=None,\n",
       "                       min_samples_leaf=1, min_samples_split=2,\n",
       "                       min_weight_fraction_leaf=0.0, presort=False,\n",
       "                       random_state=None, splitter='best')"
      ]
     },
     "execution_count": 32,
     "metadata": {},
     "output_type": "execute_result"
    }
   ],
   "source": [
    "#Decision tree model\n",
    "from sklearn.tree import DecisionTreeClassifier\n",
    "estimator = DecisionTreeClassifier()\n",
    "estimator.fit(X_train, y_train)\n"
   ]
  },
  {
   "cell_type": "code",
   "execution_count": 33,
   "metadata": {},
   "outputs": [
    {
     "name": "stdout",
     "output_type": "stream",
     "text": [
      "Best Score:  0.9990419534118496\n",
      "Best Params:  {'criterion': 'gini', 'max_depth': 6}\n",
      "[[85281    18]\n",
      " [   72    72]]\n"
     ]
    },
    {
     "data": {
      "text/plain": [
       "0.9997889775964548"
      ]
     },
     "execution_count": 33,
     "metadata": {},
     "output_type": "execute_result"
    }
   ],
   "source": [
    "#Building decision_tree Model with tunning of hyperparameter\n",
    "param_grid = { 'criterion':['gini','entropy'],'max_depth': np.arange(3, 15)}\n",
    "grid_decision_tree = GridSearchCV(estimator, param_grid, cv=5)\n",
    "grid_decision_tree_result = grid_decision_tree.fit(X_train, y_train)\n",
    "print('Best Score: ', grid_decision_tree_result.best_score_)\n",
    "print('Best Params: ', grid_decision_tree_result.best_params_)\n",
    "confusion = metrics.confusion_matrix(y_test, grid_decision_tree_result.predict(X_test))\n",
    "print(confusion)\n",
    "TP = confusion[1,1] # true positive \n",
    "TN = confusion[0,0] # true negatives\n",
    "FP = confusion[0,1] # false positives\n",
    "FN = confusion[1,0] # false negatives\n",
    "# Calculate the sensitivity\n",
    "\n",
    "TP/(TP+FN)\n",
    "# Calculate the specificity\n",
    "\n",
    "TN/(TN+FP)"
   ]
  },
  {
   "cell_type": "markdown",
   "metadata": {},
   "source": [
    "### 5. Random Forest Model"
   ]
  },
  {
   "cell_type": "code",
   "execution_count": 34,
   "metadata": {},
   "outputs": [
    {
     "name": "stderr",
     "output_type": "stream",
     "text": [
      "C:\\Users\\kirti singhania\\Anaconda3\\lib\\site-packages\\sklearn\\ensemble\\forest.py:245: FutureWarning: The default value of n_estimators will change from 10 in version 0.20 to 100 in 0.22.\n",
      "  \"10 in version 0.20 to 100 in 0.22.\", FutureWarning)\n"
     ]
    },
    {
     "data": {
      "text/plain": [
       "RandomForestClassifier(bootstrap=True, class_weight=None, criterion='gini',\n",
       "                       max_depth=None, max_features='auto', max_leaf_nodes=None,\n",
       "                       min_impurity_decrease=0.0, min_impurity_split=None,\n",
       "                       min_samples_leaf=1, min_samples_split=2,\n",
       "                       min_weight_fraction_leaf=0.0, n_estimators=10,\n",
       "                       n_jobs=None, oob_score=False, random_state=None,\n",
       "                       verbose=0, warm_start=False)"
      ]
     },
     "execution_count": 34,
     "metadata": {},
     "output_type": "execute_result"
    }
   ],
   "source": [
    "#Randomforest model\n",
    "from sklearn.ensemble import RandomForestClassifier\n",
    "clf = RandomForestClassifier()\n",
    "clf.fit(X_train, y_train)\n"
   ]
  },
  {
   "cell_type": "code",
   "execution_count": 37,
   "metadata": {},
   "outputs": [
    {
     "name": "stdout",
     "output_type": "stream",
     "text": [
      "Fitting 3 folds for each of 500 candidates, totalling 1500 fits\n"
     ]
    },
    {
     "name": "stderr",
     "output_type": "stream",
     "text": [
      "[Parallel(n_jobs=-1)]: Using backend LokyBackend with 4 concurrent workers.\n"
     ]
    },
    {
     "ename": "KeyboardInterrupt",
     "evalue": "",
     "output_type": "error",
     "traceback": [
      "\u001b[1;31m---------------------------------------------------------------------------\u001b[0m",
      "\u001b[1;31mKeyboardInterrupt\u001b[0m                         Traceback (most recent call last)",
      "\u001b[1;32m<ipython-input-37-e6910dd6efaf>\u001b[0m in \u001b[0;36m<module>\u001b[1;34m\u001b[0m\n\u001b[0;32m     11\u001b[0m grid_random_forest = GridSearchCV(clf, hyperF, cv = 3, verbose = 1, \n\u001b[0;32m     12\u001b[0m                       n_jobs = -1)\n\u001b[1;32m---> 13\u001b[1;33m \u001b[0mgrid_random_forest_result\u001b[0m \u001b[1;33m=\u001b[0m \u001b[0mgrid_random_forest\u001b[0m\u001b[1;33m.\u001b[0m\u001b[0mfit\u001b[0m\u001b[1;33m(\u001b[0m\u001b[0mX_train\u001b[0m\u001b[1;33m,\u001b[0m \u001b[0my_train\u001b[0m\u001b[1;33m)\u001b[0m\u001b[1;33m\u001b[0m\u001b[1;33m\u001b[0m\u001b[0m\n\u001b[0m\u001b[0;32m     14\u001b[0m \u001b[1;33m\u001b[0m\u001b[0m\n\u001b[0;32m     15\u001b[0m \u001b[0mprint\u001b[0m\u001b[1;33m(\u001b[0m\u001b[1;34m'Best Score: '\u001b[0m\u001b[1;33m,\u001b[0m \u001b[0mgrid_random_forest_result\u001b[0m\u001b[1;33m.\u001b[0m\u001b[0mbest_score_\u001b[0m\u001b[1;33m)\u001b[0m\u001b[1;33m\u001b[0m\u001b[1;33m\u001b[0m\u001b[0m\n",
      "\u001b[1;32m~\\Anaconda3\\lib\\site-packages\\sklearn\\model_selection\\_search.py\u001b[0m in \u001b[0;36mfit\u001b[1;34m(self, X, y, groups, **fit_params)\u001b[0m\n\u001b[0;32m    686\u001b[0m                 \u001b[1;32mreturn\u001b[0m \u001b[0mresults\u001b[0m\u001b[1;33m\u001b[0m\u001b[1;33m\u001b[0m\u001b[0m\n\u001b[0;32m    687\u001b[0m \u001b[1;33m\u001b[0m\u001b[0m\n\u001b[1;32m--> 688\u001b[1;33m             \u001b[0mself\u001b[0m\u001b[1;33m.\u001b[0m\u001b[0m_run_search\u001b[0m\u001b[1;33m(\u001b[0m\u001b[0mevaluate_candidates\u001b[0m\u001b[1;33m)\u001b[0m\u001b[1;33m\u001b[0m\u001b[1;33m\u001b[0m\u001b[0m\n\u001b[0m\u001b[0;32m    689\u001b[0m \u001b[1;33m\u001b[0m\u001b[0m\n\u001b[0;32m    690\u001b[0m         \u001b[1;31m# For multi-metric evaluation, store the best_index_, best_params_ and\u001b[0m\u001b[1;33m\u001b[0m\u001b[1;33m\u001b[0m\u001b[1;33m\u001b[0m\u001b[0m\n",
      "\u001b[1;32m~\\Anaconda3\\lib\\site-packages\\sklearn\\model_selection\\_search.py\u001b[0m in \u001b[0;36m_run_search\u001b[1;34m(self, evaluate_candidates)\u001b[0m\n\u001b[0;32m   1147\u001b[0m     \u001b[1;32mdef\u001b[0m \u001b[0m_run_search\u001b[0m\u001b[1;33m(\u001b[0m\u001b[0mself\u001b[0m\u001b[1;33m,\u001b[0m \u001b[0mevaluate_candidates\u001b[0m\u001b[1;33m)\u001b[0m\u001b[1;33m:\u001b[0m\u001b[1;33m\u001b[0m\u001b[1;33m\u001b[0m\u001b[0m\n\u001b[0;32m   1148\u001b[0m         \u001b[1;34m\"\"\"Search all candidates in param_grid\"\"\"\u001b[0m\u001b[1;33m\u001b[0m\u001b[1;33m\u001b[0m\u001b[0m\n\u001b[1;32m-> 1149\u001b[1;33m         \u001b[0mevaluate_candidates\u001b[0m\u001b[1;33m(\u001b[0m\u001b[0mParameterGrid\u001b[0m\u001b[1;33m(\u001b[0m\u001b[0mself\u001b[0m\u001b[1;33m.\u001b[0m\u001b[0mparam_grid\u001b[0m\u001b[1;33m)\u001b[0m\u001b[1;33m)\u001b[0m\u001b[1;33m\u001b[0m\u001b[1;33m\u001b[0m\u001b[0m\n\u001b[0m\u001b[0;32m   1150\u001b[0m \u001b[1;33m\u001b[0m\u001b[0m\n\u001b[0;32m   1151\u001b[0m \u001b[1;33m\u001b[0m\u001b[0m\n",
      "\u001b[1;32m~\\Anaconda3\\lib\\site-packages\\sklearn\\model_selection\\_search.py\u001b[0m in \u001b[0;36mevaluate_candidates\u001b[1;34m(candidate_params)\u001b[0m\n\u001b[0;32m    665\u001b[0m                                \u001b[1;32mfor\u001b[0m \u001b[0mparameters\u001b[0m\u001b[1;33m,\u001b[0m \u001b[1;33m(\u001b[0m\u001b[0mtrain\u001b[0m\u001b[1;33m,\u001b[0m \u001b[0mtest\u001b[0m\u001b[1;33m)\u001b[0m\u001b[1;33m\u001b[0m\u001b[1;33m\u001b[0m\u001b[0m\n\u001b[0;32m    666\u001b[0m                                in product(candidate_params,\n\u001b[1;32m--> 667\u001b[1;33m                                           cv.split(X, y, groups)))\n\u001b[0m\u001b[0;32m    668\u001b[0m \u001b[1;33m\u001b[0m\u001b[0m\n\u001b[0;32m    669\u001b[0m                 \u001b[1;32mif\u001b[0m \u001b[0mlen\u001b[0m\u001b[1;33m(\u001b[0m\u001b[0mout\u001b[0m\u001b[1;33m)\u001b[0m \u001b[1;33m<\u001b[0m \u001b[1;36m1\u001b[0m\u001b[1;33m:\u001b[0m\u001b[1;33m\u001b[0m\u001b[1;33m\u001b[0m\u001b[0m\n",
      "\u001b[1;32m~\\Anaconda3\\lib\\site-packages\\joblib\\parallel.py\u001b[0m in \u001b[0;36m__call__\u001b[1;34m(self, iterable)\u001b[0m\n\u001b[0;32m   1014\u001b[0m \u001b[1;33m\u001b[0m\u001b[0m\n\u001b[0;32m   1015\u001b[0m             \u001b[1;32mwith\u001b[0m \u001b[0mself\u001b[0m\u001b[1;33m.\u001b[0m\u001b[0m_backend\u001b[0m\u001b[1;33m.\u001b[0m\u001b[0mretrieval_context\u001b[0m\u001b[1;33m(\u001b[0m\u001b[1;33m)\u001b[0m\u001b[1;33m:\u001b[0m\u001b[1;33m\u001b[0m\u001b[1;33m\u001b[0m\u001b[0m\n\u001b[1;32m-> 1016\u001b[1;33m                 \u001b[0mself\u001b[0m\u001b[1;33m.\u001b[0m\u001b[0mretrieve\u001b[0m\u001b[1;33m(\u001b[0m\u001b[1;33m)\u001b[0m\u001b[1;33m\u001b[0m\u001b[1;33m\u001b[0m\u001b[0m\n\u001b[0m\u001b[0;32m   1017\u001b[0m             \u001b[1;31m# Make sure that we get a last message telling us we are done\u001b[0m\u001b[1;33m\u001b[0m\u001b[1;33m\u001b[0m\u001b[1;33m\u001b[0m\u001b[0m\n\u001b[0;32m   1018\u001b[0m             \u001b[0melapsed_time\u001b[0m \u001b[1;33m=\u001b[0m \u001b[0mtime\u001b[0m\u001b[1;33m.\u001b[0m\u001b[0mtime\u001b[0m\u001b[1;33m(\u001b[0m\u001b[1;33m)\u001b[0m \u001b[1;33m-\u001b[0m \u001b[0mself\u001b[0m\u001b[1;33m.\u001b[0m\u001b[0m_start_time\u001b[0m\u001b[1;33m\u001b[0m\u001b[1;33m\u001b[0m\u001b[0m\n",
      "\u001b[1;32m~\\Anaconda3\\lib\\site-packages\\joblib\\parallel.py\u001b[0m in \u001b[0;36mretrieve\u001b[1;34m(self)\u001b[0m\n\u001b[0;32m    906\u001b[0m             \u001b[1;32mtry\u001b[0m\u001b[1;33m:\u001b[0m\u001b[1;33m\u001b[0m\u001b[1;33m\u001b[0m\u001b[0m\n\u001b[0;32m    907\u001b[0m                 \u001b[1;32mif\u001b[0m \u001b[0mgetattr\u001b[0m\u001b[1;33m(\u001b[0m\u001b[0mself\u001b[0m\u001b[1;33m.\u001b[0m\u001b[0m_backend\u001b[0m\u001b[1;33m,\u001b[0m \u001b[1;34m'supports_timeout'\u001b[0m\u001b[1;33m,\u001b[0m \u001b[1;32mFalse\u001b[0m\u001b[1;33m)\u001b[0m\u001b[1;33m:\u001b[0m\u001b[1;33m\u001b[0m\u001b[1;33m\u001b[0m\u001b[0m\n\u001b[1;32m--> 908\u001b[1;33m                     \u001b[0mself\u001b[0m\u001b[1;33m.\u001b[0m\u001b[0m_output\u001b[0m\u001b[1;33m.\u001b[0m\u001b[0mextend\u001b[0m\u001b[1;33m(\u001b[0m\u001b[0mjob\u001b[0m\u001b[1;33m.\u001b[0m\u001b[0mget\u001b[0m\u001b[1;33m(\u001b[0m\u001b[0mtimeout\u001b[0m\u001b[1;33m=\u001b[0m\u001b[0mself\u001b[0m\u001b[1;33m.\u001b[0m\u001b[0mtimeout\u001b[0m\u001b[1;33m)\u001b[0m\u001b[1;33m)\u001b[0m\u001b[1;33m\u001b[0m\u001b[1;33m\u001b[0m\u001b[0m\n\u001b[0m\u001b[0;32m    909\u001b[0m                 \u001b[1;32melse\u001b[0m\u001b[1;33m:\u001b[0m\u001b[1;33m\u001b[0m\u001b[1;33m\u001b[0m\u001b[0m\n\u001b[0;32m    910\u001b[0m                     \u001b[0mself\u001b[0m\u001b[1;33m.\u001b[0m\u001b[0m_output\u001b[0m\u001b[1;33m.\u001b[0m\u001b[0mextend\u001b[0m\u001b[1;33m(\u001b[0m\u001b[0mjob\u001b[0m\u001b[1;33m.\u001b[0m\u001b[0mget\u001b[0m\u001b[1;33m(\u001b[0m\u001b[1;33m)\u001b[0m\u001b[1;33m)\u001b[0m\u001b[1;33m\u001b[0m\u001b[1;33m\u001b[0m\u001b[0m\n",
      "\u001b[1;32m~\\Anaconda3\\lib\\site-packages\\joblib\\_parallel_backends.py\u001b[0m in \u001b[0;36mwrap_future_result\u001b[1;34m(future, timeout)\u001b[0m\n\u001b[0;32m    552\u001b[0m         AsyncResults.get from multiprocessing.\"\"\"\n\u001b[0;32m    553\u001b[0m         \u001b[1;32mtry\u001b[0m\u001b[1;33m:\u001b[0m\u001b[1;33m\u001b[0m\u001b[1;33m\u001b[0m\u001b[0m\n\u001b[1;32m--> 554\u001b[1;33m             \u001b[1;32mreturn\u001b[0m \u001b[0mfuture\u001b[0m\u001b[1;33m.\u001b[0m\u001b[0mresult\u001b[0m\u001b[1;33m(\u001b[0m\u001b[0mtimeout\u001b[0m\u001b[1;33m=\u001b[0m\u001b[0mtimeout\u001b[0m\u001b[1;33m)\u001b[0m\u001b[1;33m\u001b[0m\u001b[1;33m\u001b[0m\u001b[0m\n\u001b[0m\u001b[0;32m    555\u001b[0m         \u001b[1;32mexcept\u001b[0m \u001b[0mLokyTimeoutError\u001b[0m\u001b[1;33m:\u001b[0m\u001b[1;33m\u001b[0m\u001b[1;33m\u001b[0m\u001b[0m\n\u001b[0;32m    556\u001b[0m             \u001b[1;32mraise\u001b[0m \u001b[0mTimeoutError\u001b[0m\u001b[1;33m(\u001b[0m\u001b[1;33m)\u001b[0m\u001b[1;33m\u001b[0m\u001b[1;33m\u001b[0m\u001b[0m\n",
      "\u001b[1;32m~\\Anaconda3\\lib\\concurrent\\futures\\_base.py\u001b[0m in \u001b[0;36mresult\u001b[1;34m(self, timeout)\u001b[0m\n\u001b[0;32m    425\u001b[0m                 \u001b[1;32mreturn\u001b[0m \u001b[0mself\u001b[0m\u001b[1;33m.\u001b[0m\u001b[0m__get_result\u001b[0m\u001b[1;33m(\u001b[0m\u001b[1;33m)\u001b[0m\u001b[1;33m\u001b[0m\u001b[1;33m\u001b[0m\u001b[0m\n\u001b[0;32m    426\u001b[0m \u001b[1;33m\u001b[0m\u001b[0m\n\u001b[1;32m--> 427\u001b[1;33m             \u001b[0mself\u001b[0m\u001b[1;33m.\u001b[0m\u001b[0m_condition\u001b[0m\u001b[1;33m.\u001b[0m\u001b[0mwait\u001b[0m\u001b[1;33m(\u001b[0m\u001b[0mtimeout\u001b[0m\u001b[1;33m)\u001b[0m\u001b[1;33m\u001b[0m\u001b[1;33m\u001b[0m\u001b[0m\n\u001b[0m\u001b[0;32m    428\u001b[0m \u001b[1;33m\u001b[0m\u001b[0m\n\u001b[0;32m    429\u001b[0m             \u001b[1;32mif\u001b[0m \u001b[0mself\u001b[0m\u001b[1;33m.\u001b[0m\u001b[0m_state\u001b[0m \u001b[1;32min\u001b[0m \u001b[1;33m[\u001b[0m\u001b[0mCANCELLED\u001b[0m\u001b[1;33m,\u001b[0m \u001b[0mCANCELLED_AND_NOTIFIED\u001b[0m\u001b[1;33m]\u001b[0m\u001b[1;33m:\u001b[0m\u001b[1;33m\u001b[0m\u001b[1;33m\u001b[0m\u001b[0m\n",
      "\u001b[1;32m~\\Anaconda3\\lib\\threading.py\u001b[0m in \u001b[0;36mwait\u001b[1;34m(self, timeout)\u001b[0m\n\u001b[0;32m    294\u001b[0m         \u001b[1;32mtry\u001b[0m\u001b[1;33m:\u001b[0m    \u001b[1;31m# restore state no matter what (e.g., KeyboardInterrupt)\u001b[0m\u001b[1;33m\u001b[0m\u001b[1;33m\u001b[0m\u001b[0m\n\u001b[0;32m    295\u001b[0m             \u001b[1;32mif\u001b[0m \u001b[0mtimeout\u001b[0m \u001b[1;32mis\u001b[0m \u001b[1;32mNone\u001b[0m\u001b[1;33m:\u001b[0m\u001b[1;33m\u001b[0m\u001b[1;33m\u001b[0m\u001b[0m\n\u001b[1;32m--> 296\u001b[1;33m                 \u001b[0mwaiter\u001b[0m\u001b[1;33m.\u001b[0m\u001b[0macquire\u001b[0m\u001b[1;33m(\u001b[0m\u001b[1;33m)\u001b[0m\u001b[1;33m\u001b[0m\u001b[1;33m\u001b[0m\u001b[0m\n\u001b[0m\u001b[0;32m    297\u001b[0m                 \u001b[0mgotit\u001b[0m \u001b[1;33m=\u001b[0m \u001b[1;32mTrue\u001b[0m\u001b[1;33m\u001b[0m\u001b[1;33m\u001b[0m\u001b[0m\n\u001b[0;32m    298\u001b[0m             \u001b[1;32melse\u001b[0m\u001b[1;33m:\u001b[0m\u001b[1;33m\u001b[0m\u001b[1;33m\u001b[0m\u001b[0m\n",
      "\u001b[1;31mKeyboardInterrupt\u001b[0m: "
     ]
    }
   ],
   "source": [
    "#Building Randomforest Model with tunning of hyperparameter\n",
    "n_estimators = [100, 300, 500, 800, 1200]\n",
    "max_depth = [5, 8, 15, 25, 30]\n",
    "min_samples_split = [2, 5, 10, 15, 100]\n",
    "min_samples_leaf = [1, 2, 5, 10] \n",
    "\n",
    "hyperF = dict(n_estimators = n_estimators, max_depth = max_depth,  \n",
    "              min_samples_split = min_samples_split, \n",
    "             min_samples_leaf = min_samples_leaf)\n",
    "\n",
    "grid_random_forest = GridSearchCV(clf, hyperF, cv = 3, verbose = 1, \n",
    "                      n_jobs = -1)\n",
    "grid_random_forest_result = grid_random_forest.fit(X_train, y_train)\n",
    "\n",
    "print('Best Score: ', grid_random_forest_result.best_score_)\n",
    "print('Best Params: ', grid_random_forest_result.best_params_)\n",
    "confusion = metrics.confusion_matrix(y_test, grid_random_forest_result.predict(X_test))\n",
    "print(confusion)\n",
    "TP = confusion[1,1] # true positive \n",
    "TN = confusion[0,0] # true negatives\n",
    "FP = confusion[0,1] # false positives\n",
    "FN = confusion[1,0] # false negatives\n",
    "# Calculate the sensitivity\n",
    "\n",
    "TP/(TP+FN)\n",
    "# Calculate the specificity\n",
    "\n",
    "TN/(TN+FP)"
   ]
  },
  {
   "cell_type": "markdown",
   "metadata": {
    "colab_type": "text",
    "id": "j4WVLdOOzYX-"
   },
   "source": [
    "### Hence we have explored 5 algorithms by building models like:\n",
    "\n",
    "- KNN\n",
    "- SVC\n",
    "- Decision Tree\n",
    "- Random Forest\n",
    "- Logistic Regression\n"
   ]
  },
  {
   "cell_type": "markdown",
   "metadata": {
    "colab_type": "text",
    "id": "N6JiuTAfzYX_"
   },
   "source": [
    "#### Proceed with the model which shows the best result \n",
    "- Apply the best hyperparameter on the model\n",
    "- Predict on the test dataset"
   ]
  },
  {
   "cell_type": "code",
   "execution_count": null,
   "metadata": {
    "colab": {},
    "colab_type": "code",
    "id": "nhWgpRj2zYX_"
   },
   "outputs": [],
   "source": [
    "clf_new = grid_random_forest()  #initialise the model with optimum hyperparameters\n",
    "clf_new.fit(X_train, y_train)\n",
    "print --> #print the evaluation score on the X_test by choosing the best evaluation metric"
   ]
  },
  {
   "cell_type": "markdown",
   "metadata": {
    "colab_type": "text",
    "id": "I5tKK2MVzYYD"
   },
   "source": [
    "### Print the important features of the best model to understand the dataset\n",
    "- This will not give much explanation on the already transformed dataset\n",
    "- But it will help us in understanding if the dataset is not PCA transformed"
   ]
  },
  {
   "cell_type": "code",
   "execution_count": null,
   "metadata": {
    "colab": {},
    "colab_type": "code",
    "id": "Z6fn4wqxzYYI"
   },
   "outputs": [],
   "source": [
    "var_imp = []\n",
    "for i in clf.feature_importances_:\n",
    "    var_imp.append(i)\n",
    "print('Top var =', var_imp.index(np.sort(clf.feature_importances_)[-1])+1)\n",
    "print('2nd Top var =', var_imp.index(np.sort(clf.feature_importances_)[-2])+1)\n",
    "print('3rd Top var =', var_imp.index(np.sort(clf.feature_importances_)[-3])+1)\n",
    "\n",
    "# Variable on Index-16 and Index-13 seems to be the top 2 variables\n",
    "top_var_index = var_imp.index(np.sort(clf.feature_importances_)[-1])\n",
    "second_top_var_index = var_imp.index(np.sort(clf.feature_importances_)[-2])\n",
    "\n",
    "X_train_1 = X_train.to_numpy()[np.where(y_train==1.0)]\n",
    "X_train_0 = X_train.to_numpy()[np.where(y_train==0.0)]\n",
    "\n",
    "np.random.shuffle(X_train_0)\n",
    "\n",
    "import matplotlib.pyplot as plt\n",
    "%matplotlib inline\n",
    "plt.rcParams['figure.figsize'] = [20, 20]\n",
    "\n",
    "plt.scatter(X_train_1[:, top_var_index], X_train_1[:, second_top_var_index], label='Actual Class-1 Examples')\n",
    "plt.scatter(X_train_0[:X_train_1.shape[0], top_var_index], X_train_0[:X_train_1.shape[0], second_top_var_index],\n",
    "            label='Actual Class-0 Examples')\n",
    "plt.legend()"
   ]
  },
  {
   "cell_type": "markdown",
   "metadata": {
    "colab_type": "text",
    "id": "Py0xHuVCzYYV"
   },
   "source": [
    "## Model building with balancing Classes\n",
    "\n",
    "##### Here we will perform class balancing with :\n",
    "- Random Oversampling\n",
    "- SMOTE\n",
    "- ADASYN"
   ]
  },
  {
   "cell_type": "markdown",
   "metadata": {
    "colab_type": "text",
    "id": "jlUGYqeMzYYW"
   },
   "source": [
    "## Model Building\n",
    "- Build different models on the balanced dataset and see the result"
   ]
  },
  {
   "cell_type": "code",
   "execution_count": null,
   "metadata": {},
   "outputs": [],
   "source": [
    "#Importing necessary libraries\n",
    "from imblearn.over_sampling import SMOTE\n",
    "from imblearn.over_sampling import RandomOverSampler\n",
    "ros = RandomOverSampler(random_state=0)"
   ]
  },
  {
   "cell_type": "markdown",
   "metadata": {
    "colab_type": "text",
    "id": "pMkVxSyWzYYg"
   },
   "source": [
    "### Random Oversampling"
   ]
  },
  {
   "cell_type": "markdown",
   "metadata": {},
   "source": [
    "### 6. Logistic Regression Using Random Oversampling"
   ]
  },
  {
   "cell_type": "code",
   "execution_count": null,
   "metadata": {
    "colab": {},
    "colab_type": "code",
    "id": "u_ZSg7uCzYYi",
    "scrolled": true
   },
   "outputs": [],
   "source": [
    "#Building Logistic Regression Model On Randomoversampled Data set\n",
    "X_tain_resam , y_train_resam = ros.fit_resample(X_train , y_train)\n",
    "#perform cross validation & then balance classes on X_train_cv & y_train_cv using Random Oversampling\n",
    "#perform hyperparameter tuning\n",
    "from sklearn.model_selection import GridSearchCV\n",
    "penalty = ['l1', 'l2']\n",
    "C = [0.0001, 0.001, 0.01, 0.1, 1, 10, 100, 1000]\n",
    "class_weight = [{1:0.5, 0:0.5}, {1:0.4, 0:0.6}, {1:0.6, 0:0.4}, {1:0.7, 0:0.3}]\n",
    "solver = ['liblinear', 'saga']\n",
    "\n",
    "param_grid = dict(penalty=penalty,\n",
    "                  C=C,\n",
    "                  class_weight=class_weight,\n",
    "                  solver=solver)\n",
    "\n",
    "grid_logit_rand_over = GridSearchCV(estimator=logistic,\n",
    "                    param_grid=param_grid,\n",
    "                    scoring='roc_auc',\n",
    "                    verbose=1,\n",
    "                    n_jobs=-1)\n",
    "grid_logit_rand_over_result = grid_logit_rand_over.fit(X_train_resam,y_train_resam)\n",
    "\n",
    "print('Best Score: ', grid_logit_rand_over_result.best_score_)\n",
    "print('Best Params: ', grid_logit_rand_over_result.best_params_)\n",
    "\n",
    "#perform hyperparameter tuning\n",
    "\n",
    "#print the evaluation result by choosing a evaluation metric\n",
    "confusion = metrics.confusion_matrix(y_test, grid_logit_rand_over_result.predict(X_test))\n",
    "print(confusion)\n",
    "TP = confusion[1,1] # true positive \n",
    "TN = confusion[0,0] # true negatives\n",
    "FP = confusion[0,1] # false positives\n",
    "FN = confusion[1,0] # false negatives\n",
    "# Calculate the sensitivity\n",
    "\n",
    "print(TP/(TP+FN))\n",
    "# Calculate the specificity\n",
    "\n",
    "print(TN/(TN+FP))\n",
    "\n",
    "#print the optimum value of hyperparameters\n"
   ]
  },
  {
   "cell_type": "markdown",
   "metadata": {},
   "source": [
    "### 7. KNN Alogorithm Using Random Oversampling"
   ]
  },
  {
   "cell_type": "code",
   "execution_count": null,
   "metadata": {},
   "outputs": [],
   "source": [
    "#Building knn Model On Randomoversampled Data set\n",
    "leaf_size = list(range(1,50))\n",
    "n_neighbors = list(range(1,30))\n",
    "p=[1,2]\n",
    "hyperparameters = dict(leaf_size=leaf_size, n_neighbors=n_neighbors, p=p)\n",
    "grid_knn_rand_over = GridSearchCV(neigh, \n",
    "                   hyperparameters, cv=5)\n",
    "grid_knn_rand_over_result = grid_knn_rand_over.fit(X_train_resam,y_train_resam)\n",
    "print('Best Score: ', grid_knn_rand_over_result.best_score_)\n",
    "print('Best Params: ', grid_knn_rand_over_result.best_params_)\n",
    "#perform hyperparameter tuning\n",
    "\n",
    "#print the evaluation result by choosing a evaluation metric\n",
    "confusion = metrics.confusion_matrix(y_test, grid_knn_rand_over_result.predict(X_test))\n",
    "print(confusion)\n",
    "TP = confusion[1,1] # true positive \n",
    "TN = confusion[0,0] # true negatives\n",
    "FP = confusion[0,1] # false positives\n",
    "FN = confusion[1,0] # false negatives\n",
    "# Calculate the sensitivity\n",
    "\n",
    "print(TP/(TP+FN))\n",
    "# Calculate the specificity\n",
    "\n",
    "print(TN/(TN+FP))\n",
    "\n",
    "#print the optimum value of hyperparameters\n"
   ]
  },
  {
   "cell_type": "markdown",
   "metadata": {},
   "source": [
    "### 8. Support Vector Machine Using Random Oversampling"
   ]
  },
  {
   "cell_type": "code",
   "execution_count": null,
   "metadata": {},
   "outputs": [],
   "source": [
    "#Building svm Model On Randomoversampled Data set\n",
    "# defining parameter range \n",
    "param_grid = {'C': [0.1, 1, 10, 100, 1000],  \n",
    "              'gamma': [1, 0.1, 0.01, 0.001, 0.0001], \n",
    "              'kernel': ['rbf']}  \n",
    "  \n",
    "grid_svc_rand_over = GridSearchCV(svc_clas, param_grid, refit = True, verbose = 3) \n",
    "  \n",
    "# fitting the model for grid search \n",
    "grid_svc_rand_over_result = grid_svc_rand_over.fit(X_train_resam, y_train_resam) \n",
    "print('Best Score: ', grid_svc_rand_over_result.best_score_)\n",
    "print('Best Params: ', grid_svc_rand_over_result.best_params_)\n",
    "\n",
    "#print the evaluation result by choosing a evaluation metric\n",
    "confusion = metrics.confusion_matrix(y_test, grid_svc_rand_over_result.predict(X_test))\n",
    "print(confusion)\n",
    "TP = confusion[1,1] # true positive \n",
    "TN = confusion[0,0] # true negatives\n",
    "FP = confusion[0,1] # false positives\n",
    "FN = confusion[1,0] # false negatives\n",
    "# Calculate the sensitivity\n",
    "\n",
    "print(TP/(TP+FN))\n",
    "# Calculate the specificity\n",
    "\n",
    "print(TN/(TN+FP))\n",
    "\n",
    "#print the optimum value of hyperparameters"
   ]
  },
  {
   "cell_type": "markdown",
   "metadata": {},
   "source": [
    "### 9. Decision Tree Using Random Oversampling"
   ]
  },
  {
   "cell_type": "code",
   "execution_count": null,
   "metadata": {},
   "outputs": [],
   "source": [
    "#Building decision tree Model On Randomoversampled Data set\n",
    "param_grid = { 'criterion':['gini','entropy'],'max_depth': np.arange(3, 15)}\n",
    "grid_decision_tree_rand_over = GridSearchCV(estimator, param_grid, cv=5)\n",
    "grid_decision_tree_rand_over_result = grid_decision_tree_rand_over.fit(X_train_resam, y_train_resam)\n",
    "print('Best Score: ', grid_decision_tree_rand_over_result.best_score_)\n",
    "print('Best Params: ', grid_decision_tree_rand_over_result.best_params_)\n",
    "confusion = metrics.confusion_matrix(y_test, grid_decision_tree_rand_over_result.predict(X_test))\n",
    "print(confusion)\n",
    "TP = confusion[1,1] # true positive \n",
    "TN = confusion[0,0] # true negatives\n",
    "FP = confusion[0,1] # false positives\n",
    "FN = confusion[1,0] # false negatives\n",
    "# Calculate the sensitivity\n",
    "\n",
    "TP/(TP+FN)\n",
    "# Calculate the specificity\n",
    "\n",
    "TN/(TN+FP)"
   ]
  },
  {
   "cell_type": "markdown",
   "metadata": {},
   "source": [
    "### 10. Random Forest Model Using Random Oversampling"
   ]
  },
  {
   "cell_type": "code",
   "execution_count": null,
   "metadata": {},
   "outputs": [],
   "source": [
    "#Building Random Forest Model On Randomoversampled Data set\n",
    "n_estimators = [100, 300, 500, 800, 1200]\n",
    "max_depth = [5, 8, 15, 25, 30]\n",
    "min_samples_split = [2, 5, 10, 15, 100]\n",
    "min_samples_leaf = [1, 2, 5, 10] \n",
    "\n",
    "hyperF = dict(n_estimators = n_estimators, max_depth = max_depth,  \n",
    "              min_samples_split = min_samples_split, \n",
    "             min_samples_leaf = min_samples_leaf)\n",
    "\n",
    "grid_random_forest_rand_over = GridSearchCV(clf, hyperF, cv = 3, verbose = 1, \n",
    "                      n_jobs = -1)\n",
    "grid_random_forest_rand_over_result = grid_random_forest_rand_over.fit(X_train_resam, y_train_resam)\n",
    "\n",
    "print('Best Score: ', grid_random_forest_rand_over_result.best_score_)\n",
    "print('Best Params: ', grid_random_forest__rand_over_result.best_params_)\n",
    "\n",
    "#print the evaluation result by choosing a evaluation metric\n",
    "confusion = metrics.confusion_matrix(y_test, grid_random_forest_rand_over_result.predict(X_test))\n",
    "print(confusion)\n",
    "TP = confusion[1,1] # true positive \n",
    "TN = confusion[0,0] # true negatives\n",
    "FP = confusion[0,1] # false positives\n",
    "FN = confusion[1,0] # false negatives\n",
    "# Calculate the sensitivity\n",
    "\n",
    "print(TP/(TP+FN))\n",
    "# Calculate the specificity\n",
    "\n",
    "print(TN/(TN+FP))\n",
    "\n",
    "#print the optimum value of hyperparameters"
   ]
  },
  {
   "cell_type": "markdown",
   "metadata": {},
   "source": [
    "### SMOTE"
   ]
  },
  {
   "cell_type": "markdown",
   "metadata": {
    "colab_type": "text",
    "id": "iZGpyZWAzYYo"
   },
   "source": [
    "### Print the class distribution after applying SMOTE "
   ]
  },
  {
   "cell_type": "code",
   "execution_count": 26,
   "metadata": {
    "colab": {},
    "colab_type": "code",
    "id": "dqV2GmyDzYYq"
   },
   "outputs": [
    {
     "data": {
      "text/plain": [
       "<matplotlib.legend.Legend at 0x15111850>"
      ]
     },
     "execution_count": 26,
     "metadata": {},
     "output_type": "execute_result"
    },
    {
     "data": {
      "image/png": "[encoded data removed]",
      "text/plain": [
       "<Figure size 1440x1440 with 3 Axes>"
      ]
     },
     "metadata": {
      "needs_background": "light"
     },
     "output_type": "display_data"
    }
   ],
   "source": [
    "import warnings\n",
    "warnings.filterwarnings(\"ignore\")\n",
    "\n",
    "\n",
    "sm = SMOTE(random_state=0)\n",
    "X_train_smote, y_train_smote = sm.fit_resample(X_train, y_train)\n",
    "# Artificial minority samples and corresponding minority labels from SMOTE are appended\n",
    "# below X_train and y_train respectively\n",
    "# So to exclusively get the artificial minority samples from SMOTE, we do\n",
    "X_train_smote_1 = X_train_smote[X_train.shape[0]:]\n",
    "\n",
    "X_train_1 = X_train.to_numpy()[np.where(y_train==1.0)]\n",
    "X_train_0 = X_train.to_numpy()[np.where(y_train==0.0)]\n",
    "\n",
    "\n",
    "plt.rcParams['figure.figsize'] = [20, 20]\n",
    "fig = plt.figure()\n",
    "\n",
    "plt.subplot(3, 1, 1)\n",
    "plt.scatter(X_train_1[:, 0], X_train_1[:, 1], label='Actual Class-1 Examples')\n",
    "plt.legend()\n",
    "\n",
    "plt.subplot(3, 1, 2)\n",
    "plt.scatter(X_train_1[:, 0], X_train_1[:, 1], label='Actual Class-1 Examples')\n",
    "plt.scatter(X_train_smote_1[:X_train_1.shape[0], 0], X_train_smote_1[:X_train_1.shape[0], 1],\n",
    "            label='Artificial SMOTE Class-1 Examples')\n",
    "plt.legend()\n",
    "\n",
    "plt.subplot(3, 1, 3)\n",
    "plt.scatter(X_train_1[:, 0], X_train_1[:, 1], label='Actual Class-1 Examples')\n",
    "plt.scatter(X_train_0[:X_train_1.shape[0], 0], X_train_0[:X_train_1.shape[0], 1], label='Actual Class-0 Examples')\n",
    "plt.legend()"
   ]
  },
  {
   "cell_type": "markdown",
   "metadata": {
    "colab": {},
    "colab_type": "code",
    "id": "aJbSB41azYYx"
   },
   "source": [
    "### 11. Logistic Regression Using SMOTE"
   ]
  },
  {
   "cell_type": "code",
   "execution_count": null,
   "metadata": {
    "colab": {},
    "colab_type": "code",
    "id": "u_ZSg7uCzYYi",
    "scrolled": true
   },
   "outputs": [],
   "source": [
    "#perform cross validation & then balance classes on X_train_cv & y_train_cv using Random Oversampling\n",
    "#perform hyperparameter tuning\n",
    "#Building Logistic Regression Model with hyperparameter tuning on SMOTE Data Set\n",
    "from sklearn.model_selection import GridSearchCV\n",
    "penalty = ['l1', 'l2']\n",
    "C = [0.0001, 0.001, 0.01, 0.1, 1, 10, 100, 1000]\n",
    "class_weight = [{1:0.5, 0:0.5}, {1:0.4, 0:0.6}, {1:0.6, 0:0.4}, {1:0.7, 0:0.3}]\n",
    "solver = ['liblinear', 'saga']\n",
    "\n",
    "param_grid = dict(penalty=penalty,\n",
    "                  C=C,\n",
    "                  class_weight=class_weight,\n",
    "                  solver=solver)\n",
    "\n",
    "grid_logit_smote = GridSearchCV(estimator=logistic,\n",
    "                    param_grid=param_grid,\n",
    "                    scoring='roc_auc',\n",
    "                    verbose=1,\n",
    "                    n_jobs=-1)\n",
    "grid_logit_smote_result = grid_logit_smote.fit(X_train_smote,y_train_smote)\n",
    "\n",
    "print('Best Score: ', grid_logit_smote_result.best_score_)\n",
    "print('Best Params: ', grid_logit_smote_result.best_params_)\n",
    "\n",
    "#perform hyperparameter tuning\n",
    "\n",
    "#print the evaluation result by choosing a evaluation metric\n",
    "confusion = metrics.confusion_matrix(y_test, grid_logit_smote_result.predict(X_test))\n",
    "print(confusion)\n",
    "TP = confusion[1,1] # true positive \n",
    "TN = confusion[0,0] # true negatives\n",
    "FP = confusion[0,1] # false positives\n",
    "FN = confusion[1,0] # false negatives\n",
    "# Calculate the sensitivity\n",
    "\n",
    "print(TP/(TP+FN))\n",
    "# Calculate the specificity\n",
    "\n",
    "print(TN/(TN+FP))\n",
    "\n",
    "#print the optimum value of hyperparameters\n"
   ]
  },
  {
   "cell_type": "markdown",
   "metadata": {},
   "source": [
    "### 12. K Nearest Neighbours Using SMOTE"
   ]
  },
  {
   "cell_type": "code",
   "execution_count": null,
   "metadata": {},
   "outputs": [],
   "source": [
    "#Building knn with hyperparameter tuning on SMOTE Data Setleaf_size = list(range(1,50))\n",
    "n_neighbors = list(range(1,30))\n",
    "p=[1,2]\n",
    "hyperparameters = dict(leaf_size=leaf_size, n_neighbors=n_neighbors, p=p)\n",
    "grid_knn_smote = GridSearchCV(neigh, \n",
    "                   hyperparameters, cv=5)\n",
    "grid_knn_smote_result = grid_knn_smote.fit(X_train_smote,y_train_smote)\n",
    "print('Best Score: ', grid_knn_smote_result.best_score_)\n",
    "print('Best Params: ', grid_knn_smote_result.best_params_)\n",
    "#perform hyperparameter tuning\n",
    "\n",
    "#print the evaluation result by choosing a evaluation metric\n",
    "confusion = metrics.confusion_matrix(y_test, grid_knn_smote_result.predict(X_test))\n",
    "print(confusion)\n",
    "TP = confusion[1,1] # true positive \n",
    "TN = confusion[0,0] # true negatives\n",
    "FP = confusion[0,1] # false positives\n",
    "FN = confusion[1,0] # false negatives\n",
    "# Calculate the sensitivity\n",
    "\n",
    "print(TP/(TP+FN))\n",
    "# Calculate the specificity\n",
    "\n",
    "print(TN/(TN+FP))\n",
    "\n",
    "#print the optimum value of hyperparameters\n"
   ]
  },
  {
   "cell_type": "markdown",
   "metadata": {},
   "source": [
    "### 13. SVM Using SMOTE"
   ]
  },
  {
   "cell_type": "code",
   "execution_count": null,
   "metadata": {},
   "outputs": [],
   "source": [
    "# defining parameter range \n",
    "#Building svc with hyperparameter tuning on SMOTE Data Set\n",
    "param_grid = {'C': [0.1, 1, 10, 100, 1000],  \n",
    "              'gamma': [1, 0.1, 0.01, 0.001, 0.0001], \n",
    "              'kernel': ['rbf']}  \n",
    "  \n",
    "grid_svc_smote = GridSearchCV(svc_clas, param_grid, refit = True, verbose = 3) \n",
    "  \n",
    "# fitting the model for grid search \n",
    "grid_svc_smote_result = grid_svc_smote.fit(X_train_smote, y_train_smote) \n",
    "print('Best Score: ', grid_svc_smote_result.best_score_)\n",
    "print('Best Params: ', grid_svc_smote_result.best_params_)\n",
    "\n",
    "#print the evaluation result by choosing a evaluation metric\n",
    "confusion = metrics.confusion_matrix(y_test, grid_svc_smote_result.predict(X_test))\n",
    "print(confusion)\n",
    "TP = confusion[1,1] # true positive \n",
    "TN = confusion[0,0] # true negatives\n",
    "FP = confusion[0,1] # false positives\n",
    "FN = confusion[1,0] # false negatives\n",
    "# Calculate the sensitivity\n",
    "\n",
    "print(TP/(TP+FN))\n",
    "# Calculate the specificity\n",
    "\n",
    "print(TN/(TN+FP))\n",
    "\n",
    "#print the optimum value of hyperparameters"
   ]
  },
  {
   "cell_type": "markdown",
   "metadata": {},
   "source": [
    "### 14. Decision Tree Using SMOTE"
   ]
  },
  {
   "cell_type": "code",
   "execution_count": null,
   "metadata": {},
   "outputs": [],
   "source": [
    "#Building decision tree Model with hyperparameter tuning on SMOTE Data Set\n",
    "param_grid = { 'criterion':['gini','entropy'],'max_depth': np.arange(3, 15)}\n",
    "grid_decision_tree_smote = GridSearchCV(estimator, param_grid, cv=5)\n",
    "grid_decision_tree_smote_result = grid_decision_tree_smote.fit(X_train_smote, y_train_smote)\n",
    "print('Best Score: ', grid_decision_tree_smote_result.best_score_)\n",
    "print('Best Params: ', grid_decision_tree_smote_result.best_params_)\n",
    "confusion = metrics.confusion_matrix(y_test, grid_decision_smote_result.predict(X_test))\n",
    "print(confusion)\n",
    "TP = confusion[1,1] # true positive \n",
    "TN = confusion[0,0] # true negatives\n",
    "FP = confusion[0,1] # false positives\n",
    "FN = confusion[1,0] # false negatives\n",
    "# Calculate the sensitivity\n",
    "\n",
    "TP/(TP+FN)\n",
    "# Calculate the specificity\n",
    "\n",
    "TN/(TN+FP)"
   ]
  },
  {
   "cell_type": "markdown",
   "metadata": {},
   "source": [
    "### 15. Random Forest Using SMOTE"
   ]
  },
  {
   "cell_type": "code",
   "execution_count": null,
   "metadata": {},
   "outputs": [],
   "source": [
    "#Building randomforest Model with hyperparameter tuning on SMOTE Data Set\n",
    "n_estimators = [100, 300, 500, 800, 1200]\n",
    "max_depth = [5, 8, 15, 25, 30]\n",
    "min_samples_split = [2, 5, 10, 15, 100]\n",
    "min_samples_leaf = [1, 2, 5, 10] \n",
    "\n",
    "hyperF = dict(n_estimators = n_estimators, max_depth = max_depth,  \n",
    "              min_samples_split = min_samples_split, \n",
    "             min_samples_leaf = min_samples_leaf)\n",
    "\n",
    "grid_random_forest_smote = GridSearchCV(clf, hyperF, cv = 3, verbose = 1, \n",
    "                      n_jobs = -1)\n",
    "grid_random_forest_smote_result = grid_random_forest_smote.fit(X_train_smote, y_train_smote)\n",
    "\n",
    "print('Best Score: ', grid_random_forest_smote_result.best_score_)\n",
    "print('Best Params: ', grid_random_forest_smote_result.best_params_)\n",
    "\n",
    "#print the evaluation result by choosing a evaluation metric\n",
    "confusion = metrics.confusion_matrix(y_test, grid_random_forest_smote_result.predict(X_test))\n",
    "print(confusion)\n",
    "TP = confusion[1,1] # true positive \n",
    "TN = confusion[0,0] # true negatives\n",
    "FP = confusion[0,1] # false positives\n",
    "FN = confusion[1,0] # false negatives\n",
    "# Calculate the sensitivity\n",
    "\n",
    "print(TP/(TP+FN))\n",
    "# Calculate the specificity\n",
    "\n",
    "print(TN/(TN+FP))\n",
    "\n",
    "#print the optimum value of hyperparameters"
   ]
  },
  {
   "cell_type": "markdown",
   "metadata": {
    "colab_type": "text",
    "id": "PgDYr3mVzYY2"
   },
   "source": [
    "##### Build models on other algorithms to see the better performing on SMOTE"
   ]
  },
  {
   "cell_type": "markdown",
   "metadata": {},
   "source": [
    "### ADASYN"
   ]
  },
  {
   "cell_type": "markdown",
   "metadata": {
    "colab_type": "text",
    "id": "-jt0C01DzYY3"
   },
   "source": [
    "### Print the class distribution after applying ADASYN"
   ]
  },
  {
   "cell_type": "code",
   "execution_count": 25,
   "metadata": {
    "colab": {},
    "colab_type": "code",
    "id": "W3BGZrZpzYY4"
   },
   "outputs": [
    {
     "data": {
      "text/plain": [
       "<matplotlib.legend.Legend at 0x151e3fd0>"
      ]
     },
     "execution_count": 25,
     "metadata": {},
     "output_type": "execute_result"
    },
    {
     "data": {
      "image/png": "[encoded data removed]",
      "text/plain": [
       "<Figure size 1440x1440 with 3 Axes>"
      ]
     },
     "metadata": {
      "needs_background": "light"
     },
     "output_type": "display_data"
    }
   ],
   "source": [
    "import warnings\n",
    "warnings.filterwarnings(\"ignore\")\n",
    "\n",
    "from imblearn import over_sampling\n",
    "\n",
    "ada = over_sampling.ADASYN(random_state=0)\n",
    "X_train_adasyn, y_train_adasyn = ada.fit_resample(X_train, y_train)\n",
    "# Artificial minority samples and corresponding minority labels from ADASYN are appended\n",
    "# below X_train and y_train respectively\n",
    "# So to exclusively get the artificial minority samples from ADASYN, we do\n",
    "X_train_adasyn_1 = X_train_adasyn[X_train.shape[0]:]\n",
    "\n",
    "X_train_1 = X_train.to_numpy()[np.where(y_train==1.0)]\n",
    "X_train_0 = X_train.to_numpy()[np.where(y_train==0.0)]\n",
    "\n",
    "\n",
    "\n",
    "import matplotlib.pyplot as plt\n",
    "%matplotlib inline\n",
    "plt.rcParams['figure.figsize'] = [20, 20]\n",
    "fig = plt.figure()\n",
    "\n",
    "plt.subplot(3, 1, 1)\n",
    "plt.scatter(X_train_1[:, 0], X_train_1[:, 1], label='Actual Class-1 Examples')\n",
    "plt.legend()\n",
    "\n",
    "plt.subplot(3, 1, 2)\n",
    "plt.scatter(X_train_1[:, 0], X_train_1[:, 1], label='Actual Class-1 Examples')\n",
    "plt.scatter(X_train_adasyn_1[:X_train_1.shape[0], 0], X_train_adasyn_1[:X_train_1.shape[0], 1],\n",
    "            label='Artificial ADASYN Class-1 Examples')\n",
    "plt.legend()\n",
    "\n",
    "plt.subplot(3, 1, 3)\n",
    "plt.scatter(X_train_1[:, 0], X_train_1[:, 1], label='Actual Class-1 Examples')\n",
    "plt.scatter(X_train_0[:X_train_1.shape[0], 0], X_train_0[:X_train_1.shape[0], 1], label='Actual Class-0 Examples')\n",
    "plt.legend()"
   ]
  },
  {
   "cell_type": "markdown",
   "metadata": {},
   "source": [
    "### 16. Logistic Regression Using ADASYN"
   ]
  },
  {
   "cell_type": "code",
   "execution_count": null,
   "metadata": {
    "colab": {},
    "colab_type": "code",
    "id": "u_ZSg7uCzYYi",
    "scrolled": true
   },
   "outputs": [],
   "source": [
    "#Building Logistic Regression Model with hyperparameter tuning on adasyn Data Set\n",
    "from sklearn.model_selection import GridSearchCV\n",
    "penalty = ['l1', 'l2']\n",
    "C = [0.0001, 0.001, 0.01, 0.1, 1, 10, 100, 1000]\n",
    "class_weight = [{1:0.5, 0:0.5}, {1:0.4, 0:0.6}, {1:0.6, 0:0.4}, {1:0.7, 0:0.3}]\n",
    "solver = ['liblinear', 'saga']\n",
    "\n",
    "param_grid = dict(penalty=penalty,\n",
    "                  C=C,\n",
    "                  class_weight=class_weight,\n",
    "                  solver=solver)\n",
    "\n",
    "grid_logit_adasyn = GridSearchCV(estimator=logistic,\n",
    "                    param_grid=param_grid,\n",
    "                    scoring='roc_auc',\n",
    "                    verbose=1,\n",
    "                    n_jobs=-1)\n",
    "grid_logit_adasyn_result = grid_logit_adasyn.fit(X_train_adasyn,y_train_adasyn)\n",
    "\n",
    "print('Best Score: ', grid_logit_adasyn_result.best_score_)\n",
    "print('Best Params: ', grid_logit_adasyn_result.best_params_)\n",
    "\n",
    "#perform hyperparameter tuning\n",
    "\n",
    "#print the evaluation result by choosing a evaluation metric\n",
    "confusion = metrics.confusion_matrix(y_test, grid_logit_smote_result.predict(X_test))\n",
    "print(confusion)\n",
    "TP = confusion[1,1] # true positive \n",
    "TN = confusion[0,0] # true negatives\n",
    "FP = confusion[0,1] # false positives\n",
    "FN = confusion[1,0] # false negatives\n",
    "# Calculate the sensitivity\n",
    "\n",
    "print(TP/(TP+FN))\n",
    "# Calculate the specificity\n",
    "\n",
    "print(TN/(TN+FP))\n",
    "\n",
    "#print the optimum value of hyperparameters\n"
   ]
  },
  {
   "cell_type": "markdown",
   "metadata": {},
   "source": [
    "### 17. KNN Using ADASYN"
   ]
  },
  {
   "cell_type": "code",
   "execution_count": null,
   "metadata": {},
   "outputs": [],
   "source": [
    "#Building knn Model with hyperparameter tuning on adasyn Data Set\n",
    "leaf_size = list(range(1,50))\n",
    "n_neighbors = list(range(1,30))\n",
    "p=[1,2]\n",
    "hyperparameters = dict(leaf_size=leaf_size, n_neighbors=n_neighbors, p=p)\n",
    "grid_knn_adasyn = GridSearchCV(neigh, \n",
    "                   hyperparameters, cv=5)\n",
    "grid_knn_adasyn_result = grid_knn_adasyn.fit(X_train_adasyn,y_train_adasyn)\n",
    "print('Best Score: ', grid_knn_adasyn_result.best_score_)\n",
    "print('Best Params: ', grid_knn_adasyn_result.best_params_)\n",
    "#perform hyperparameter tuning\n",
    "\n",
    "#print the evaluation result by choosing a evaluation metric\n",
    "confusion = metrics.confusion_matrix(y_test, grid_knn_adasyn_result.predict(X_test))\n",
    "print(confusion)\n",
    "TP = confusion[1,1] # true positive \n",
    "TN = confusion[0,0] # true negatives\n",
    "FP = confusion[0,1] # false positives\n",
    "FN = confusion[1,0] # false negatives\n",
    "# Calculate the sensitivity\n",
    "\n",
    "print(TP/(TP+FN))\n",
    "# Calculate the specificity\n",
    "\n",
    "print(TN/(TN+FP))\n",
    "\n",
    "#print the optimum value of hyperparameters\n"
   ]
  },
  {
   "cell_type": "markdown",
   "metadata": {},
   "source": [
    "### 18. SVM Using ADASYN"
   ]
  },
  {
   "cell_type": "code",
   "execution_count": null,
   "metadata": {},
   "outputs": [],
   "source": [
    "# defining parameter range\n",
    "#Building svc Model with hyperparameter tuning on adasyn Data Set\n",
    "param_grid = {'C': [0.1, 1, 10, 100, 1000],  \n",
    "              'gamma': [1, 0.1, 0.01, 0.001, 0.0001], \n",
    "              'kernel': ['rbf']}  \n",
    "  \n",
    "grid_svc_adasyn = GridSearchCV(svc_clas, param_grid, refit = True, verbose = 3) \n",
    "  \n",
    "# fitting the model for grid search \n",
    "grid_svc_adasyn_result = grid_svc_adasyn.fit(X_train_adasyn, y_train_adasyn) \n",
    "print('Best Score: ', grid_svc_adasyn_result.best_score_)\n",
    "print('Best Params: ', grid_svc_adasyn_result.best_params_)\n",
    "\n",
    "#print the evaluation result by choosing a evaluation metric\n",
    "confusion = metrics.confusion_matrix(y_test, grid_svc_adasyn_result.predict(X_test))\n",
    "print(confusion)\n",
    "TP = confusion[1,1] # true positive \n",
    "TN = confusion[0,0] # true negatives\n",
    "FP = confusion[0,1] # false positives\n",
    "FN = confusion[1,0] # false negatives\n",
    "# Calculate the sensitivity\n",
    "\n",
    "print(TP/(TP+FN))\n",
    "# Calculate the specificity\n",
    "\n",
    "print(TN/(TN+FP))\n",
    "\n",
    "#print the optimum value of hyperparameters"
   ]
  },
  {
   "cell_type": "markdown",
   "metadata": {},
   "source": [
    "### 19. Decision Tree Using ADASYN"
   ]
  },
  {
   "cell_type": "code",
   "execution_count": null,
   "metadata": {},
   "outputs": [],
   "source": [
    "#Building decision tree with hyperparameter tuning on adasyn Data Set\n",
    "param_grid = { 'criterion':['gini','entropy'],'max_depth': np.arange(3, 15)}\n",
    "grid_decision_tree_adasyn = GridSearchCV(estimator, param_grid, cv=5)\n",
    "grid_decision_tree_adasyn_result = grid_decision_tree_adasyn.fit(X_train_adasyn, y_train_adasyn)\n",
    "print('Best Score: ', grid_decision_tree_adasyn_result.best_score_)\n",
    "print('Best Params: ', grid_decision_tree_adasyn_result.best_params_)\n",
    "confusion = metrics.confusion_matrix(y_test, grid_decision_adasyn_result.predict(X_test))\n",
    "print(confusion)\n",
    "TP = confusion[1,1] # true positive \n",
    "TN = confusion[0,0] # true negatives\n",
    "FP = confusion[0,1] # false positives\n",
    "FN = confusion[1,0] # false negatives\n",
    "# Calculate the sensitivity\n",
    "\n",
    "TP/(TP+FN)\n",
    "# Calculate the specificity\n",
    "\n",
    "TN/(TN+FP)"
   ]
  },
  {
   "cell_type": "markdown",
   "metadata": {},
   "source": [
    "### 20. Random Forest Using ADASYN"
   ]
  },
  {
   "cell_type": "code",
   "execution_count": null,
   "metadata": {},
   "outputs": [],
   "source": [
    "#Building random_forest  Model with hyperparameter tuning on adasyn Data Set\n",
    "n_estimators = [100, 300, 500, 800, 1200]\n",
    "max_depth = [5, 8, 15, 25, 30]\n",
    "min_samples_split = [2, 5, 10, 15, 100]\n",
    "min_samples_leaf = [1, 2, 5, 10] \n",
    "\n",
    "hyperF = dict(n_estimators = n_estimators, max_depth = max_depth,  \n",
    "              min_samples_split = min_samples_split, \n",
    "             min_samples_leaf = min_samples_leaf)\n",
    "\n",
    "grid_random_forest_adasyn = GridSearchCV(clf, hyperF, cv = 3, verbose = 1, \n",
    "                      n_jobs = -1)\n",
    "grid_random_forest_adasyn_result = grid_random_forest_adasyn.fit(X_train_adasyn, y_train_adasyn)\n",
    "\n",
    "print('Best Score: ', grid_random_forest_adasyn_result.best_score_)\n",
    "print('Best Params: ', grid_random_forest_adasyn_result.best_params_)\n",
    "\n",
    "#print the evaluation result by choosing a evaluation metric\n",
    "confusion = metrics.confusion_matrix(y_test, grid_random_forest_adasyn_result.predict(X_test))\n",
    "print(confusion)\n",
    "TP = confusion[1,1] # true positive \n",
    "TN = confusion[0,0] # true negatives\n",
    "FP = confusion[0,1] # false positives\n",
    "FN = confusion[1,0] # false negatives\n",
    "# Calculate the sensitivity\n",
    "\n",
    "print(TP/(TP+FN))\n",
    "# Calculate the specificity\n",
    "\n",
    "print(TN/(TN+FP))\n",
    "\n",
    "#print the optimum value of hyperparameters"
   ]
  },
  {
   "cell_type": "markdown",
   "metadata": {
    "colab_type": "text",
    "id": "xegAyao0zYZE"
   },
   "source": [
    "### Select the oversampling method which shows the best result on a model\n",
    "- Apply the best hyperparameter on the model\n",
    "- Predict on the test dataset"
   ]
  },
  {
   "cell_type": "code",
   "execution_count": null,
   "metadata": {
    "colab": {},
    "colab_type": "code",
    "id": "vU9wu8TlzYZE"
   },
   "outputs": [],
   "source": [
    "# perform the best oversampling method on X_train & y_train\n",
    "\n",
    "clf_new1 = grid_random_forest_adasyn.fit()  #initialise the model with optimum hyperparameters\n",
    "clf_new1.fit(X_train_adasyn,y_train_adasyn) # fit on the balanced dataset\n",
    " --> #print the evaluation score on the X_test by choosing the best evaluation metric"
   ]
  },
  {
   "cell_type": "markdown",
   "metadata": {
    "colab_type": "text",
    "id": "aMhJnhYRzYZI"
   },
   "source": [
    "### Print the important features of the best model to understand the dataset"
   ]
  },
  {
   "cell_type": "code",
   "execution_count": null,
   "metadata": {
    "colab": {},
    "colab_type": "code",
    "id": "AF_3MxkUzYZJ"
   },
   "outputs": [],
   "source": [
    "var_imp = []\n",
    "for i in clf.feature_importances_:\n",
    "    var_imp.append(i)\n",
    "print('Top var =', var_imp.index(np.sort(clf.feature_importances_)[-1])+1)\n",
    "print('2nd Top var =', var_imp.index(np.sort(clf.feature_importances_)[-2])+1)\n",
    "print('3rd Top var =', var_imp.index(np.sort(clf.feature_importances_)[-3])+1)\n",
    "\n",
    "# Variable on Index-13 and Index-9 seems to be the top 2 variables\n",
    "top_var_index = var_imp.index(np.sort(clf.feature_importances_)[-1])\n",
    "second_top_var_index = var_imp.index(np.sort(clf.feature_importances_)[-2])\n",
    "\n",
    "X_train_1 = X_train.to_numpy()[np.where(y_train==1.0)]\n",
    "X_train_0 = X_train.to_numpy()[np.where(y_train==0.0)]\n",
    "\n",
    "np.random.shuffle(X_train_0)\n",
    "\n",
    "import matplotlib.pyplot as plt\n",
    "%matplotlib inline\n",
    "plt.rcParams['figure.figsize'] = [20, 20]\n",
    "\n",
    "plt.scatter(X_train_1[:, top_var_index], X_train_1[:, second_top_var_index], label='Actual Class-1 Examples')\n",
    "plt.scatter(X_train_0[:X_train_1.shape[0], top_var_index], X_train_0[:X_train_1.shape[0], second_top_var_index],\n",
    "            label='Actual Class-0 Examples')\n",
    "plt.legend()"
   ]
  },
  {
   "cell_type": "code",
   "execution_count": null,
   "metadata": {
    "colab": {},
    "colab_type": "code",
    "id": "2Mk3FdIFzYZQ"
   },
   "outputs": [],
   "source": [
    "#### Print the FPR,TPR & select the best threshold from the roc curve"
   ]
  },
  {
   "cell_type": "code",
   "execution_count": null,
   "metadata": {
    "colab": {},
    "colab_type": "code",
    "id": "nURoMpzazYZW"
   },
   "outputs": [],
   "source": [
    "print('Train auc =', metrics.roc_auc_score(_________)\n",
    "fpr, tpr, thresholds = metrics.roc_curve(_________)\n",
    "threshold = thresholds[np.argmax(tpr-fpr)]\n",
    "print(threshold)"
   ]
  },
  {
   "cell_type": "markdown",
   "metadata": {},
   "source": [
    "### *************************************************** END OF CASE STUDY *********************************************************"
   ]
  },
  {
   "cell_type": "code",
   "execution_count": null,
   "metadata": {},
   "outputs": [],
   "source": []
  }
 ],
 "metadata": {
  "colab": {
   "collapsed_sections": [],
   "name": "Credit_card_fraud_detection_Starter_code+ (1).ipynb",
   "provenance": []
  },
  "kernelspec": {
   "display_name": "Python 3",
   "language": "python",
   "name": "python3"
  },
  "language_info": {
   "codemirror_mode": {
    "name": "ipython",
    "version": 3
   },
   "file_extension": ".py",
   "mimetype": "text/x-python",
   "name": "python",
   "nbconvert_exporter": "python",
   "pygments_lexer": "ipython3",
   "version": "3.7.3"
  }
 },
 "nbformat": 4,
 "nbformat_minor": 1
}
